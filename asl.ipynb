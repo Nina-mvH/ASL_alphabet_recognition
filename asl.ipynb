{
 "cells": [
  {
   "cell_type": "code",
   "execution_count": 1,
   "id": "661777e1",
   "metadata": {
    "_cell_guid": "b1076dfc-b9ad-4769-8c92-a6c4dae69d19",
    "_uuid": "8f2839f25d086af736a60e9eeb907d3b93b6e0e5",
    "execution": {
     "iopub.execute_input": "2024-04-25T13:56:25.550300Z",
     "iopub.status.busy": "2024-04-25T13:56:25.549696Z",
     "iopub.status.idle": "2024-04-25T13:56:41.735541Z",
     "shell.execute_reply": "2024-04-25T13:56:41.734427Z"
    },
    "papermill": {
     "duration": 16.197299,
     "end_time": "2024-04-25T13:56:41.738364",
     "exception": false,
     "start_time": "2024-04-25T13:56:25.541065",
     "status": "completed"
    },
    "tags": []
   },
   "outputs": [
    {
     "name": "stderr",
     "output_type": "stream",
     "text": [
      "2024-04-25 13:56:28.726555: E external/local_xla/xla/stream_executor/cuda/cuda_dnn.cc:9261] Unable to register cuDNN factory: Attempting to register factory for plugin cuDNN when one has already been registered\n",
      "2024-04-25 13:56:28.726695: E external/local_xla/xla/stream_executor/cuda/cuda_fft.cc:607] Unable to register cuFFT factory: Attempting to register factory for plugin cuFFT when one has already been registered\n",
      "2024-04-25 13:56:28.894665: E external/local_xla/xla/stream_executor/cuda/cuda_blas.cc:1515] Unable to register cuBLAS factory: Attempting to register factory for plugin cuBLAS when one has already been registered\n"
     ]
    }
   ],
   "source": [
    "import numpy as np\n",
    "import pandas as pd\n",
    "import tensorflow as tf\n",
    "\n",
    "import matplotlib.pylab as plt\n",
    "from tensorflow import keras\n",
    "from tensorflow.keras.models import Sequential\n",
    "from tensorflow.keras.layers import Dense, Dropout, Flatten\n",
    "from tensorflow.keras.layers import Conv2D, MaxPooling2D\n",
    "\n",
    "from tensorflow.keras.optimizers import Adam\n",
    "from keras.callbacks import EarlyStopping\n",
    "\n",
    "from tensorflow.keras.preprocessing.image import ImageDataGenerator\n",
    "\n",
    "from sklearn.model_selection import train_test_split\n",
    "\n",
    "import os"
   ]
  },
  {
   "cell_type": "markdown",
   "id": "e36abb42",
   "metadata": {
    "papermill": {
     "duration": 0.006601,
     "end_time": "2024-04-25T13:56:41.752117",
     "exception": false,
     "start_time": "2024-04-25T13:56:41.745516",
     "status": "completed"
    },
    "tags": []
   },
   "source": [
    "**Formatting the Data:**"
   ]
  },
  {
   "cell_type": "code",
   "execution_count": 2,
   "id": "7cdeaed1",
   "metadata": {
    "execution": {
     "iopub.execute_input": "2024-04-25T13:56:41.768050Z",
     "iopub.status.busy": "2024-04-25T13:56:41.767355Z",
     "iopub.status.idle": "2024-04-25T14:00:11.276826Z",
     "shell.execute_reply": "2024-04-25T14:00:11.275686Z"
    },
    "papermill": {
     "duration": 209.528298,
     "end_time": "2024-04-25T14:00:11.287374",
     "exception": false,
     "start_time": "2024-04-25T13:56:41.759076",
     "status": "completed"
    },
    "tags": []
   },
   "outputs": [
    {
     "data": {
      "text/html": [
       "<div>\n",
       "<style scoped>\n",
       "    .dataframe tbody tr th:only-of-type {\n",
       "        vertical-align: middle;\n",
       "    }\n",
       "\n",
       "    .dataframe tbody tr th {\n",
       "        vertical-align: top;\n",
       "    }\n",
       "\n",
       "    .dataframe thead th {\n",
       "        text-align: right;\n",
       "    }\n",
       "</style>\n",
       "<table border=\"1\" class=\"dataframe\">\n",
       "  <thead>\n",
       "    <tr style=\"text-align: right;\">\n",
       "      <th></th>\n",
       "      <th>label</th>\n",
       "      <th>path</th>\n",
       "    </tr>\n",
       "  </thead>\n",
       "  <tbody>\n",
       "    <tr>\n",
       "      <th>0</th>\n",
       "      <td>N</td>\n",
       "      <td>/kaggle/input/asl-alphabet/asl_alphabet_train/...</td>\n",
       "    </tr>\n",
       "    <tr>\n",
       "      <th>1</th>\n",
       "      <td>N</td>\n",
       "      <td>/kaggle/input/asl-alphabet/asl_alphabet_train/...</td>\n",
       "    </tr>\n",
       "    <tr>\n",
       "      <th>2</th>\n",
       "      <td>N</td>\n",
       "      <td>/kaggle/input/asl-alphabet/asl_alphabet_train/...</td>\n",
       "    </tr>\n",
       "    <tr>\n",
       "      <th>3</th>\n",
       "      <td>N</td>\n",
       "      <td>/kaggle/input/asl-alphabet/asl_alphabet_train/...</td>\n",
       "    </tr>\n",
       "    <tr>\n",
       "      <th>4</th>\n",
       "      <td>N</td>\n",
       "      <td>/kaggle/input/asl-alphabet/asl_alphabet_train/...</td>\n",
       "    </tr>\n",
       "    <tr>\n",
       "      <th>...</th>\n",
       "      <td>...</td>\n",
       "      <td>...</td>\n",
       "    </tr>\n",
       "    <tr>\n",
       "      <th>86995</th>\n",
       "      <td>J</td>\n",
       "      <td>/kaggle/input/asl-alphabet/asl_alphabet_train/...</td>\n",
       "    </tr>\n",
       "    <tr>\n",
       "      <th>86996</th>\n",
       "      <td>J</td>\n",
       "      <td>/kaggle/input/asl-alphabet/asl_alphabet_train/...</td>\n",
       "    </tr>\n",
       "    <tr>\n",
       "      <th>86997</th>\n",
       "      <td>J</td>\n",
       "      <td>/kaggle/input/asl-alphabet/asl_alphabet_train/...</td>\n",
       "    </tr>\n",
       "    <tr>\n",
       "      <th>86998</th>\n",
       "      <td>J</td>\n",
       "      <td>/kaggle/input/asl-alphabet/asl_alphabet_train/...</td>\n",
       "    </tr>\n",
       "    <tr>\n",
       "      <th>86999</th>\n",
       "      <td>J</td>\n",
       "      <td>/kaggle/input/asl-alphabet/asl_alphabet_train/...</td>\n",
       "    </tr>\n",
       "  </tbody>\n",
       "</table>\n",
       "<p>87000 rows × 2 columns</p>\n",
       "</div>"
      ],
      "text/plain": [
       "      label                                               path\n",
       "0         N  /kaggle/input/asl-alphabet/asl_alphabet_train/...\n",
       "1         N  /kaggle/input/asl-alphabet/asl_alphabet_train/...\n",
       "2         N  /kaggle/input/asl-alphabet/asl_alphabet_train/...\n",
       "3         N  /kaggle/input/asl-alphabet/asl_alphabet_train/...\n",
       "4         N  /kaggle/input/asl-alphabet/asl_alphabet_train/...\n",
       "...     ...                                                ...\n",
       "86995     J  /kaggle/input/asl-alphabet/asl_alphabet_train/...\n",
       "86996     J  /kaggle/input/asl-alphabet/asl_alphabet_train/...\n",
       "86997     J  /kaggle/input/asl-alphabet/asl_alphabet_train/...\n",
       "86998     J  /kaggle/input/asl-alphabet/asl_alphabet_train/...\n",
       "86999     J  /kaggle/input/asl-alphabet/asl_alphabet_train/...\n",
       "\n",
       "[87000 rows x 2 columns]"
      ]
     },
     "execution_count": 2,
     "metadata": {},
     "output_type": "execute_result"
    }
   ],
   "source": [
    "#assign the pathway to the kaggle dataset's training folder as the variable \"train_folder\"\n",
    "train_folder = '/kaggle/input/asl-alphabet/asl_alphabet_train/asl_alphabet_train'\n",
    "all_data = []\n",
    "#travel through everything in the training data to get the label and path and add it to all_data\n",
    "for folder in os.listdir(train_folder):\n",
    "\tlabel_folder = os.path.join(train_folder, folder)\n",
    "\tonlyfiles = [{'label':folder,'path':os.path.join(label_folder, f)} for f in os.listdir(label_folder) if os.path.isfile(os.path.join(label_folder, f))]\n",
    "\tall_data += onlyfiles\n",
    "#create a data frame with all the labels and pathways\n",
    "data_df = pd.DataFrame(all_data)\n",
    "data_df"
   ]
  },
  {
   "cell_type": "code",
   "execution_count": 3,
   "id": "51759517",
   "metadata": {
    "execution": {
     "iopub.execute_input": "2024-04-25T14:00:11.303935Z",
     "iopub.status.busy": "2024-04-25T14:00:11.303532Z",
     "iopub.status.idle": "2024-04-25T14:00:12.268689Z",
     "shell.execute_reply": "2024-04-25T14:00:12.267373Z"
    },
    "papermill": {
     "duration": 0.977283,
     "end_time": "2024-04-25T14:00:12.272019",
     "exception": false,
     "start_time": "2024-04-25T14:00:11.294736",
     "status": "completed"
    },
    "tags": []
   },
   "outputs": [],
   "source": [
    "x_train,x_holdout = train_test_split(data_df, test_size= 0.10, random_state=42,stratify=data_df[['label']])\n",
    "x_train,x_test = train_test_split(x_train, test_size= 0.25, random_state=42,stratify=x_train[['label']])"
   ]
  },
  {
   "cell_type": "code",
   "execution_count": 4,
   "id": "2e3c4abc",
   "metadata": {
    "execution": {
     "iopub.execute_input": "2024-04-25T14:00:12.292807Z",
     "iopub.status.busy": "2024-04-25T14:00:12.291666Z",
     "iopub.status.idle": "2024-04-25T14:00:12.297278Z",
     "shell.execute_reply": "2024-04-25T14:00:12.296183Z"
    },
    "papermill": {
     "duration": 0.017724,
     "end_time": "2024-04-25T14:00:12.300079",
     "exception": false,
     "start_time": "2024-04-25T14:00:12.282355",
     "status": "completed"
    },
    "tags": []
   },
   "outputs": [],
   "source": [
    "#Convert pandas DataFrames to TensorFlow Datasets\n",
    "#train_dataset = tf.data.Dataset.from_tensor_slices((x_train.drop(columns=['label']).values, x_train['label'].values))\n",
    "#holdout_dataset = tf.data.Dataset.from_tensor_slices((x_holdout.drop(columns=['label']).values, x_holdout['label'].values))\n",
    "#test_dataset = tf.data.Dataset.from_tensor_slices((x_test.drop(columns=['label']).values, x_test['label'].values))"
   ]
  },
  {
   "cell_type": "markdown",
   "id": "cae383f6",
   "metadata": {
    "papermill": {
     "duration": 0.007665,
     "end_time": "2024-04-25T14:00:12.315164",
     "exception": false,
     "start_time": "2024-04-25T14:00:12.307499",
     "status": "completed"
    },
    "tags": []
   },
   "source": [
    "**Image Extraction:**"
   ]
  },
  {
   "cell_type": "markdown",
   "id": "91471d2e",
   "metadata": {
    "papermill": {
     "duration": 0.008435,
     "end_time": "2024-04-25T14:00:12.334551",
     "exception": false,
     "start_time": "2024-04-25T14:00:12.326116",
     "status": "completed"
    },
    "tags": []
   },
   "source": []
  },
  {
   "cell_type": "code",
   "execution_count": 5,
   "id": "d74dd58e",
   "metadata": {
    "execution": {
     "iopub.execute_input": "2024-04-25T14:00:12.356098Z",
     "iopub.status.busy": "2024-04-25T14:00:12.355030Z",
     "iopub.status.idle": "2024-04-25T14:00:12.361841Z",
     "shell.execute_reply": "2024-04-25T14:00:12.360876Z"
    },
    "papermill": {
     "duration": 0.019003,
     "end_time": "2024-04-25T14:00:12.364419",
     "exception": false,
     "start_time": "2024-04-25T14:00:12.345416",
     "status": "completed"
    },
    "tags": []
   },
   "outputs": [],
   "source": [
    "def augment_data(image):\n",
    "    \n",
    "    if tf.random.uniform((),minval=0,maxval=1) <0.05:\n",
    "        image = tf.image.flip_left_right(image)\n",
    "        \n",
    "        \n",
    "#     grayscale\n",
    "    \n",
    "#     saturation\n",
    "    \n",
    "#     brightness\n",
    "    \n",
    "#     roation: rotated = tf.image.rot90(image) rotates 90% but we would want random rotation within a smaller range...and then still square???\n",
    "        \n",
    "#     tf.image.stateless_random_hue\n",
    "    \n",
    "#     tf.image.stateless_random_jpeg_quality    \n",
    "        \n",
    "        \n",
    "    return image"
   ]
  },
  {
   "cell_type": "code",
   "execution_count": 6,
   "id": "eb94d0c5",
   "metadata": {
    "execution": {
     "iopub.execute_input": "2024-04-25T14:00:12.381686Z",
     "iopub.status.busy": "2024-04-25T14:00:12.380898Z",
     "iopub.status.idle": "2024-04-25T14:00:47.734496Z",
     "shell.execute_reply": "2024-04-25T14:00:47.733264Z"
    },
    "papermill": {
     "duration": 35.365387,
     "end_time": "2024-04-25T14:00:47.737412",
     "exception": false,
     "start_time": "2024-04-25T14:00:12.372025",
     "status": "completed"
    },
    "tags": []
   },
   "outputs": [
    {
     "name": "stdout",
     "output_type": "stream",
     "text": [
      "Found 58725 validated image filenames belonging to 29 classes.\n",
      "Found 19575 validated image filenames belonging to 29 classes.\n",
      "Found 8700 validated image filenames belonging to 29 classes.\n"
     ]
    }
   ],
   "source": [
    "#I'm pretty sure this block sets the images to a certain size or something\n",
    "\n",
    "img_width, img_height = 64, 64\n",
    "batch_size = 256\n",
    "y_col = 'label'\n",
    "x_col = 'path'\n",
    "no_of_classes = len(data_df[y_col].unique())\n",
    "\n",
    "\n",
    "train_datagen = ImageDataGenerator(rescale = 1/255.0, preprocessing_function=augment_data) #augements data using function we made\n",
    "\n",
    "train_generator = train_datagen.flow_from_dataframe(\n",
    "\tdataframe=x_train,x_col=x_col, y_col=y_col,\n",
    "\ttarget_size=(img_width, img_height),class_mode='categorical', batch_size=batch_size,\n",
    "\tshuffle=False,\n",
    ")\n",
    "\n",
    "validation_datagen = ImageDataGenerator(rescale = 1/255.0)\n",
    "validation_generator = validation_datagen.flow_from_dataframe(\n",
    "\tdataframe=x_test, x_col=x_col, y_col=y_col,\n",
    "\ttarget_size=(img_width, img_height), class_mode='categorical', batch_size=batch_size,\n",
    "\tshuffle=False\n",
    ")\n",
    "\n",
    "holdout_datagen = ImageDataGenerator(rescale = 1/255.0)\n",
    "holdout_generator = holdout_datagen.flow_from_dataframe(\n",
    "\tdataframe=x_holdout, x_col=x_col, y_col=y_col,\n",
    "\ttarget_size=(img_width, img_height), class_mode='categorical', batch_size=batch_size,\n",
    "\tshuffle=False\n",
    ")"
   ]
  },
  {
   "cell_type": "markdown",
   "id": "5cb5eb2b",
   "metadata": {
    "papermill": {
     "duration": 0.007148,
     "end_time": "2024-04-25T14:00:47.752116",
     "exception": false,
     "start_time": "2024-04-25T14:00:47.744968",
     "status": "completed"
    },
    "tags": []
   },
   "source": [
    "**Building the Model**"
   ]
  },
  {
   "cell_type": "code",
   "execution_count": 7,
   "id": "299d4f99",
   "metadata": {
    "execution": {
     "iopub.execute_input": "2024-04-25T14:00:47.769875Z",
     "iopub.status.busy": "2024-04-25T14:00:47.769040Z",
     "iopub.status.idle": "2024-04-25T14:00:48.019700Z",
     "shell.execute_reply": "2024-04-25T14:00:48.018409Z"
    },
    "papermill": {
     "duration": 0.262659,
     "end_time": "2024-04-25T14:00:48.022401",
     "exception": false,
     "start_time": "2024-04-25T14:00:47.759742",
     "status": "completed"
    },
    "tags": []
   },
   "outputs": [
    {
     "name": "stderr",
     "output_type": "stream",
     "text": [
      "/opt/conda/lib/python3.10/site-packages/keras/src/layers/convolutional/base_conv.py:99: UserWarning: Do not pass an `input_shape`/`input_dim` argument to a layer. When using Sequential models, prefer using an `Input(shape)` object as the first layer in the model instead.\n",
      "  super().__init__(\n"
     ]
    }
   ],
   "source": [
    "model = Sequential()\n",
    "\n",
    "model.add(Conv2D(filters = 32, kernel_size = (5,5),padding = 'Same',activation ='relu', input_shape = (64,64,3)))\n",
    "model.add(MaxPooling2D(pool_size = (2,2), strides = (2,2)))\n",
    "model.add(Dropout(0.3))\n",
    "\n",
    "model.add(Conv2D(filters = 64, kernel_size = (5,5),padding = 'Same',activation ='relu', input_shape = (150,150,3))) # why does input shape change to 150\n",
    "model.add(MaxPooling2D(pool_size = (2,2), strides = (2,2)))\n",
    "model.add(Dropout(0.3))\n",
    "\n",
    "model.add(Conv2D(filters = 64, kernel_size = (5,5),padding = 'Same',activation ='relu', input_shape = (150,150,3)))\n",
    "model.add(MaxPooling2D(pool_size = (2,2), strides = (2,2)))\n",
    "model.add(Dropout(0.3))\n",
    "\n",
    "model.add(Conv2D(filters = 128, kernel_size = (5,5),padding = 'Same',activation ='relu', input_shape = (150,150,3)))\n",
    "model.add(MaxPooling2D(pool_size = (2,2), strides = (2,2)))\n",
    "\n",
    "model.add(Flatten())\n",
    "model.add(Dense(256))\n",
    "# model.add(Activation('relu'))\n",
    "model.add(Dense(29, activation = \"softmax\"))"
   ]
  },
  {
   "cell_type": "code",
   "execution_count": 8,
   "id": "d9f981b1",
   "metadata": {
    "execution": {
     "iopub.execute_input": "2024-04-25T14:00:48.039907Z",
     "iopub.status.busy": "2024-04-25T14:00:48.039493Z",
     "iopub.status.idle": "2024-04-25T14:00:48.083449Z",
     "shell.execute_reply": "2024-04-25T14:00:48.082682Z"
    },
    "papermill": {
     "duration": 0.05556,
     "end_time": "2024-04-25T14:00:48.085671",
     "exception": false,
     "start_time": "2024-04-25T14:00:48.030111",
     "status": "completed"
    },
    "tags": []
   },
   "outputs": [
    {
     "data": {
      "text/html": [
       "<pre style=\"white-space:pre;overflow-x:auto;line-height:normal;font-family:Menlo,'DejaVu Sans Mono',consolas,'Courier New',monospace\"><span style=\"font-weight: bold\">Model: \"sequential\"</span>\n",
       "</pre>\n"
      ],
      "text/plain": [
       "\u001b[1mModel: \"sequential\"\u001b[0m\n"
      ]
     },
     "metadata": {},
     "output_type": "display_data"
    },
    {
     "data": {
      "text/html": [
       "<pre style=\"white-space:pre;overflow-x:auto;line-height:normal;font-family:Menlo,'DejaVu Sans Mono',consolas,'Courier New',monospace\">┏━━━━━━━━━━━━━━━━━━━━━━━━━━━━━━━━━┳━━━━━━━━━━━━━━━━━━━━━━━━┳━━━━━━━━━━━━━━━┓\n",
       "┃<span style=\"font-weight: bold\"> Layer (type)                    </span>┃<span style=\"font-weight: bold\"> Output Shape           </span>┃<span style=\"font-weight: bold\">       Param # </span>┃\n",
       "┡━━━━━━━━━━━━━━━━━━━━━━━━━━━━━━━━━╇━━━━━━━━━━━━━━━━━━━━━━━━╇━━━━━━━━━━━━━━━┩\n",
       "│ conv2d (<span style=\"color: #0087ff; text-decoration-color: #0087ff\">Conv2D</span>)                 │ (<span style=\"color: #00d7ff; text-decoration-color: #00d7ff\">None</span>, <span style=\"color: #00af00; text-decoration-color: #00af00\">64</span>, <span style=\"color: #00af00; text-decoration-color: #00af00\">64</span>, <span style=\"color: #00af00; text-decoration-color: #00af00\">32</span>)     │         <span style=\"color: #00af00; text-decoration-color: #00af00\">2,432</span> │\n",
       "├─────────────────────────────────┼────────────────────────┼───────────────┤\n",
       "│ max_pooling2d (<span style=\"color: #0087ff; text-decoration-color: #0087ff\">MaxPooling2D</span>)    │ (<span style=\"color: #00d7ff; text-decoration-color: #00d7ff\">None</span>, <span style=\"color: #00af00; text-decoration-color: #00af00\">32</span>, <span style=\"color: #00af00; text-decoration-color: #00af00\">32</span>, <span style=\"color: #00af00; text-decoration-color: #00af00\">32</span>)     │             <span style=\"color: #00af00; text-decoration-color: #00af00\">0</span> │\n",
       "├─────────────────────────────────┼────────────────────────┼───────────────┤\n",
       "│ dropout (<span style=\"color: #0087ff; text-decoration-color: #0087ff\">Dropout</span>)               │ (<span style=\"color: #00d7ff; text-decoration-color: #00d7ff\">None</span>, <span style=\"color: #00af00; text-decoration-color: #00af00\">32</span>, <span style=\"color: #00af00; text-decoration-color: #00af00\">32</span>, <span style=\"color: #00af00; text-decoration-color: #00af00\">32</span>)     │             <span style=\"color: #00af00; text-decoration-color: #00af00\">0</span> │\n",
       "├─────────────────────────────────┼────────────────────────┼───────────────┤\n",
       "│ conv2d_1 (<span style=\"color: #0087ff; text-decoration-color: #0087ff\">Conv2D</span>)               │ (<span style=\"color: #00d7ff; text-decoration-color: #00d7ff\">None</span>, <span style=\"color: #00af00; text-decoration-color: #00af00\">32</span>, <span style=\"color: #00af00; text-decoration-color: #00af00\">32</span>, <span style=\"color: #00af00; text-decoration-color: #00af00\">64</span>)     │        <span style=\"color: #00af00; text-decoration-color: #00af00\">51,264</span> │\n",
       "├─────────────────────────────────┼────────────────────────┼───────────────┤\n",
       "│ max_pooling2d_1 (<span style=\"color: #0087ff; text-decoration-color: #0087ff\">MaxPooling2D</span>)  │ (<span style=\"color: #00d7ff; text-decoration-color: #00d7ff\">None</span>, <span style=\"color: #00af00; text-decoration-color: #00af00\">16</span>, <span style=\"color: #00af00; text-decoration-color: #00af00\">16</span>, <span style=\"color: #00af00; text-decoration-color: #00af00\">64</span>)     │             <span style=\"color: #00af00; text-decoration-color: #00af00\">0</span> │\n",
       "├─────────────────────────────────┼────────────────────────┼───────────────┤\n",
       "│ dropout_1 (<span style=\"color: #0087ff; text-decoration-color: #0087ff\">Dropout</span>)             │ (<span style=\"color: #00d7ff; text-decoration-color: #00d7ff\">None</span>, <span style=\"color: #00af00; text-decoration-color: #00af00\">16</span>, <span style=\"color: #00af00; text-decoration-color: #00af00\">16</span>, <span style=\"color: #00af00; text-decoration-color: #00af00\">64</span>)     │             <span style=\"color: #00af00; text-decoration-color: #00af00\">0</span> │\n",
       "├─────────────────────────────────┼────────────────────────┼───────────────┤\n",
       "│ conv2d_2 (<span style=\"color: #0087ff; text-decoration-color: #0087ff\">Conv2D</span>)               │ (<span style=\"color: #00d7ff; text-decoration-color: #00d7ff\">None</span>, <span style=\"color: #00af00; text-decoration-color: #00af00\">16</span>, <span style=\"color: #00af00; text-decoration-color: #00af00\">16</span>, <span style=\"color: #00af00; text-decoration-color: #00af00\">64</span>)     │       <span style=\"color: #00af00; text-decoration-color: #00af00\">102,464</span> │\n",
       "├─────────────────────────────────┼────────────────────────┼───────────────┤\n",
       "│ max_pooling2d_2 (<span style=\"color: #0087ff; text-decoration-color: #0087ff\">MaxPooling2D</span>)  │ (<span style=\"color: #00d7ff; text-decoration-color: #00d7ff\">None</span>, <span style=\"color: #00af00; text-decoration-color: #00af00\">8</span>, <span style=\"color: #00af00; text-decoration-color: #00af00\">8</span>, <span style=\"color: #00af00; text-decoration-color: #00af00\">64</span>)       │             <span style=\"color: #00af00; text-decoration-color: #00af00\">0</span> │\n",
       "├─────────────────────────────────┼────────────────────────┼───────────────┤\n",
       "│ dropout_2 (<span style=\"color: #0087ff; text-decoration-color: #0087ff\">Dropout</span>)             │ (<span style=\"color: #00d7ff; text-decoration-color: #00d7ff\">None</span>, <span style=\"color: #00af00; text-decoration-color: #00af00\">8</span>, <span style=\"color: #00af00; text-decoration-color: #00af00\">8</span>, <span style=\"color: #00af00; text-decoration-color: #00af00\">64</span>)       │             <span style=\"color: #00af00; text-decoration-color: #00af00\">0</span> │\n",
       "├─────────────────────────────────┼────────────────────────┼───────────────┤\n",
       "│ conv2d_3 (<span style=\"color: #0087ff; text-decoration-color: #0087ff\">Conv2D</span>)               │ (<span style=\"color: #00d7ff; text-decoration-color: #00d7ff\">None</span>, <span style=\"color: #00af00; text-decoration-color: #00af00\">8</span>, <span style=\"color: #00af00; text-decoration-color: #00af00\">8</span>, <span style=\"color: #00af00; text-decoration-color: #00af00\">128</span>)      │       <span style=\"color: #00af00; text-decoration-color: #00af00\">204,928</span> │\n",
       "├─────────────────────────────────┼────────────────────────┼───────────────┤\n",
       "│ max_pooling2d_3 (<span style=\"color: #0087ff; text-decoration-color: #0087ff\">MaxPooling2D</span>)  │ (<span style=\"color: #00d7ff; text-decoration-color: #00d7ff\">None</span>, <span style=\"color: #00af00; text-decoration-color: #00af00\">4</span>, <span style=\"color: #00af00; text-decoration-color: #00af00\">4</span>, <span style=\"color: #00af00; text-decoration-color: #00af00\">128</span>)      │             <span style=\"color: #00af00; text-decoration-color: #00af00\">0</span> │\n",
       "├─────────────────────────────────┼────────────────────────┼───────────────┤\n",
       "│ flatten (<span style=\"color: #0087ff; text-decoration-color: #0087ff\">Flatten</span>)               │ (<span style=\"color: #00d7ff; text-decoration-color: #00d7ff\">None</span>, <span style=\"color: #00af00; text-decoration-color: #00af00\">2048</span>)           │             <span style=\"color: #00af00; text-decoration-color: #00af00\">0</span> │\n",
       "├─────────────────────────────────┼────────────────────────┼───────────────┤\n",
       "│ dense (<span style=\"color: #0087ff; text-decoration-color: #0087ff\">Dense</span>)                   │ (<span style=\"color: #00d7ff; text-decoration-color: #00d7ff\">None</span>, <span style=\"color: #00af00; text-decoration-color: #00af00\">256</span>)            │       <span style=\"color: #00af00; text-decoration-color: #00af00\">524,544</span> │\n",
       "├─────────────────────────────────┼────────────────────────┼───────────────┤\n",
       "│ dense_1 (<span style=\"color: #0087ff; text-decoration-color: #0087ff\">Dense</span>)                 │ (<span style=\"color: #00d7ff; text-decoration-color: #00d7ff\">None</span>, <span style=\"color: #00af00; text-decoration-color: #00af00\">29</span>)             │         <span style=\"color: #00af00; text-decoration-color: #00af00\">7,453</span> │\n",
       "└─────────────────────────────────┴────────────────────────┴───────────────┘\n",
       "</pre>\n"
      ],
      "text/plain": [
       "┏━━━━━━━━━━━━━━━━━━━━━━━━━━━━━━━━━┳━━━━━━━━━━━━━━━━━━━━━━━━┳━━━━━━━━━━━━━━━┓\n",
       "┃\u001b[1m \u001b[0m\u001b[1mLayer (type)                   \u001b[0m\u001b[1m \u001b[0m┃\u001b[1m \u001b[0m\u001b[1mOutput Shape          \u001b[0m\u001b[1m \u001b[0m┃\u001b[1m \u001b[0m\u001b[1m      Param #\u001b[0m\u001b[1m \u001b[0m┃\n",
       "┡━━━━━━━━━━━━━━━━━━━━━━━━━━━━━━━━━╇━━━━━━━━━━━━━━━━━━━━━━━━╇━━━━━━━━━━━━━━━┩\n",
       "│ conv2d (\u001b[38;5;33mConv2D\u001b[0m)                 │ (\u001b[38;5;45mNone\u001b[0m, \u001b[38;5;34m64\u001b[0m, \u001b[38;5;34m64\u001b[0m, \u001b[38;5;34m32\u001b[0m)     │         \u001b[38;5;34m2,432\u001b[0m │\n",
       "├─────────────────────────────────┼────────────────────────┼───────────────┤\n",
       "│ max_pooling2d (\u001b[38;5;33mMaxPooling2D\u001b[0m)    │ (\u001b[38;5;45mNone\u001b[0m, \u001b[38;5;34m32\u001b[0m, \u001b[38;5;34m32\u001b[0m, \u001b[38;5;34m32\u001b[0m)     │             \u001b[38;5;34m0\u001b[0m │\n",
       "├─────────────────────────────────┼────────────────────────┼───────────────┤\n",
       "│ dropout (\u001b[38;5;33mDropout\u001b[0m)               │ (\u001b[38;5;45mNone\u001b[0m, \u001b[38;5;34m32\u001b[0m, \u001b[38;5;34m32\u001b[0m, \u001b[38;5;34m32\u001b[0m)     │             \u001b[38;5;34m0\u001b[0m │\n",
       "├─────────────────────────────────┼────────────────────────┼───────────────┤\n",
       "│ conv2d_1 (\u001b[38;5;33mConv2D\u001b[0m)               │ (\u001b[38;5;45mNone\u001b[0m, \u001b[38;5;34m32\u001b[0m, \u001b[38;5;34m32\u001b[0m, \u001b[38;5;34m64\u001b[0m)     │        \u001b[38;5;34m51,264\u001b[0m │\n",
       "├─────────────────────────────────┼────────────────────────┼───────────────┤\n",
       "│ max_pooling2d_1 (\u001b[38;5;33mMaxPooling2D\u001b[0m)  │ (\u001b[38;5;45mNone\u001b[0m, \u001b[38;5;34m16\u001b[0m, \u001b[38;5;34m16\u001b[0m, \u001b[38;5;34m64\u001b[0m)     │             \u001b[38;5;34m0\u001b[0m │\n",
       "├─────────────────────────────────┼────────────────────────┼───────────────┤\n",
       "│ dropout_1 (\u001b[38;5;33mDropout\u001b[0m)             │ (\u001b[38;5;45mNone\u001b[0m, \u001b[38;5;34m16\u001b[0m, \u001b[38;5;34m16\u001b[0m, \u001b[38;5;34m64\u001b[0m)     │             \u001b[38;5;34m0\u001b[0m │\n",
       "├─────────────────────────────────┼────────────────────────┼───────────────┤\n",
       "│ conv2d_2 (\u001b[38;5;33mConv2D\u001b[0m)               │ (\u001b[38;5;45mNone\u001b[0m, \u001b[38;5;34m16\u001b[0m, \u001b[38;5;34m16\u001b[0m, \u001b[38;5;34m64\u001b[0m)     │       \u001b[38;5;34m102,464\u001b[0m │\n",
       "├─────────────────────────────────┼────────────────────────┼───────────────┤\n",
       "│ max_pooling2d_2 (\u001b[38;5;33mMaxPooling2D\u001b[0m)  │ (\u001b[38;5;45mNone\u001b[0m, \u001b[38;5;34m8\u001b[0m, \u001b[38;5;34m8\u001b[0m, \u001b[38;5;34m64\u001b[0m)       │             \u001b[38;5;34m0\u001b[0m │\n",
       "├─────────────────────────────────┼────────────────────────┼───────────────┤\n",
       "│ dropout_2 (\u001b[38;5;33mDropout\u001b[0m)             │ (\u001b[38;5;45mNone\u001b[0m, \u001b[38;5;34m8\u001b[0m, \u001b[38;5;34m8\u001b[0m, \u001b[38;5;34m64\u001b[0m)       │             \u001b[38;5;34m0\u001b[0m │\n",
       "├─────────────────────────────────┼────────────────────────┼───────────────┤\n",
       "│ conv2d_3 (\u001b[38;5;33mConv2D\u001b[0m)               │ (\u001b[38;5;45mNone\u001b[0m, \u001b[38;5;34m8\u001b[0m, \u001b[38;5;34m8\u001b[0m, \u001b[38;5;34m128\u001b[0m)      │       \u001b[38;5;34m204,928\u001b[0m │\n",
       "├─────────────────────────────────┼────────────────────────┼───────────────┤\n",
       "│ max_pooling2d_3 (\u001b[38;5;33mMaxPooling2D\u001b[0m)  │ (\u001b[38;5;45mNone\u001b[0m, \u001b[38;5;34m4\u001b[0m, \u001b[38;5;34m4\u001b[0m, \u001b[38;5;34m128\u001b[0m)      │             \u001b[38;5;34m0\u001b[0m │\n",
       "├─────────────────────────────────┼────────────────────────┼───────────────┤\n",
       "│ flatten (\u001b[38;5;33mFlatten\u001b[0m)               │ (\u001b[38;5;45mNone\u001b[0m, \u001b[38;5;34m2048\u001b[0m)           │             \u001b[38;5;34m0\u001b[0m │\n",
       "├─────────────────────────────────┼────────────────────────┼───────────────┤\n",
       "│ dense (\u001b[38;5;33mDense\u001b[0m)                   │ (\u001b[38;5;45mNone\u001b[0m, \u001b[38;5;34m256\u001b[0m)            │       \u001b[38;5;34m524,544\u001b[0m │\n",
       "├─────────────────────────────────┼────────────────────────┼───────────────┤\n",
       "│ dense_1 (\u001b[38;5;33mDense\u001b[0m)                 │ (\u001b[38;5;45mNone\u001b[0m, \u001b[38;5;34m29\u001b[0m)             │         \u001b[38;5;34m7,453\u001b[0m │\n",
       "└─────────────────────────────────┴────────────────────────┴───────────────┘\n"
      ]
     },
     "metadata": {},
     "output_type": "display_data"
    },
    {
     "data": {
      "text/html": [
       "<pre style=\"white-space:pre;overflow-x:auto;line-height:normal;font-family:Menlo,'DejaVu Sans Mono',consolas,'Courier New',monospace\"><span style=\"font-weight: bold\"> Total params: </span><span style=\"color: #00af00; text-decoration-color: #00af00\">893,085</span> (3.41 MB)\n",
       "</pre>\n"
      ],
      "text/plain": [
       "\u001b[1m Total params: \u001b[0m\u001b[38;5;34m893,085\u001b[0m (3.41 MB)\n"
      ]
     },
     "metadata": {},
     "output_type": "display_data"
    },
    {
     "data": {
      "text/html": [
       "<pre style=\"white-space:pre;overflow-x:auto;line-height:normal;font-family:Menlo,'DejaVu Sans Mono',consolas,'Courier New',monospace\"><span style=\"font-weight: bold\"> Trainable params: </span><span style=\"color: #00af00; text-decoration-color: #00af00\">893,085</span> (3.41 MB)\n",
       "</pre>\n"
      ],
      "text/plain": [
       "\u001b[1m Trainable params: \u001b[0m\u001b[38;5;34m893,085\u001b[0m (3.41 MB)\n"
      ]
     },
     "metadata": {},
     "output_type": "display_data"
    },
    {
     "data": {
      "text/html": [
       "<pre style=\"white-space:pre;overflow-x:auto;line-height:normal;font-family:Menlo,'DejaVu Sans Mono',consolas,'Courier New',monospace\"><span style=\"font-weight: bold\"> Non-trainable params: </span><span style=\"color: #00af00; text-decoration-color: #00af00\">0</span> (0.00 B)\n",
       "</pre>\n"
      ],
      "text/plain": [
       "\u001b[1m Non-trainable params: \u001b[0m\u001b[38;5;34m0\u001b[0m (0.00 B)\n"
      ]
     },
     "metadata": {},
     "output_type": "display_data"
    }
   ],
   "source": [
    "model.compile(loss='categorical_crossentropy',optimizer=Adam(learning_rate=0.001),metrics=['accuracy'])\n",
    "model.summary()"
   ]
  },
  {
   "cell_type": "code",
   "execution_count": 9,
   "id": "80624435",
   "metadata": {
    "execution": {
     "iopub.execute_input": "2024-04-25T14:00:48.104373Z",
     "iopub.status.busy": "2024-04-25T14:00:48.103997Z",
     "iopub.status.idle": "2024-04-25T14:13:19.674407Z",
     "shell.execute_reply": "2024-04-25T14:13:19.673165Z"
    },
    "papermill": {
     "duration": 751.611003,
     "end_time": "2024-04-25T14:13:19.705233",
     "exception": false,
     "start_time": "2024-04-25T14:00:48.094230",
     "status": "completed"
    },
    "tags": []
   },
   "outputs": [
    {
     "name": "stderr",
     "output_type": "stream",
     "text": [
      "/opt/conda/lib/python3.10/site-packages/keras/src/trainers/data_adapters/py_dataset_adapter.py:122: UserWarning: Your `PyDataset` class should call `super().__init__(**kwargs)` in its constructor. `**kwargs` can include `workers`, `use_multiprocessing`, `max_queue_size`. Do not pass these arguments to `fit()`, as they will be ignored.\n",
      "  self._warn_if_super_not_called()\n"
     ]
    },
    {
     "name": "stdout",
     "output_type": "stream",
     "text": [
      "\u001b[1m230/230\u001b[0m \u001b[32m━━━━━━━━━━━━━━━━━━━━\u001b[0m\u001b[37m\u001b[0m \u001b[1m749s\u001b[0m 3s/step - accuracy: 0.1475 - loss: 2.9705 - val_accuracy: 0.7874 - val_loss: 0.6531\n"
     ]
    }
   ],
   "source": [
    "early_stop = EarlyStopping(monitor='val_loss',patience=5)\n",
    "\n",
    "batch_size=128\n",
    "epochs=1\n",
    "\n",
    "history = model.fit(train_generator,\n",
    "                \tepochs=epochs,\n",
    "                \tverbose=1,\n",
    "                \tvalidation_data=validation_generator,\n",
    "                \tcallbacks = [early_stop])"
   ]
  },
  {
   "cell_type": "markdown",
   "id": "aa498038",
   "metadata": {
    "papermill": {
     "duration": 0.030649,
     "end_time": "2024-04-25T14:13:19.766477",
     "exception": false,
     "start_time": "2024-04-25T14:13:19.735828",
     "status": "completed"
    },
    "tags": []
   },
   "source": [
    "**Using the Model (testing)**"
   ]
  },
  {
   "cell_type": "code",
   "execution_count": 10,
   "id": "3edd9d32",
   "metadata": {
    "execution": {
     "iopub.execute_input": "2024-04-25T14:13:19.829891Z",
     "iopub.status.busy": "2024-04-25T14:13:19.829439Z",
     "iopub.status.idle": "2024-04-25T14:13:19.835447Z",
     "shell.execute_reply": "2024-04-25T14:13:19.834610Z"
    },
    "papermill": {
     "duration": 0.040844,
     "end_time": "2024-04-25T14:13:19.837816",
     "exception": false,
     "start_time": "2024-04-25T14:13:19.796972",
     "status": "completed"
    },
    "tags": []
   },
   "outputs": [],
   "source": [
    "def idx_to_letter(idx):\n",
    "    letters = 'abcdefghijklmnopqrstuvwxyz'\n",
    "    idx = idx[0]\n",
    "    if 0 <= idx < len(letters):\n",
    "        return letters[idx]\n",
    "    if idx == 26:\n",
    "        return 'nothing'\n",
    "    if idx == 27:\n",
    "        return '(space)'"
   ]
  },
  {
   "cell_type": "code",
   "execution_count": 11,
   "id": "63570276",
   "metadata": {
    "execution": {
     "iopub.execute_input": "2024-04-25T14:13:19.902423Z",
     "iopub.status.busy": "2024-04-25T14:13:19.901758Z",
     "iopub.status.idle": "2024-04-25T14:13:19.929585Z",
     "shell.execute_reply": "2024-04-25T14:13:19.928706Z"
    },
    "papermill": {
     "duration": 0.062087,
     "end_time": "2024-04-25T14:13:19.931794",
     "exception": false,
     "start_time": "2024-04-25T14:13:19.869707",
     "status": "completed"
    },
    "tags": []
   },
   "outputs": [
    {
     "data": {
      "image/png": "[encoded data removed]",
      "text/plain": [
       "<PIL.Image.Image image mode=RGB size=64x64>"
      ]
     },
     "execution_count": 11,
     "metadata": {},
     "output_type": "execute_result"
    }
   ],
   "source": [
    "image_path = '/kaggle/input/asl-alphabet/asl_alphabet_test/asl_alphabet_test/A_test.jpg'\n",
    "image = keras.utils.load_img(image_path, target_size = (64,64))\n",
    "image"
   ]
  },
  {
   "cell_type": "code",
   "execution_count": 12,
   "id": "dfc011c9",
   "metadata": {
    "execution": {
     "iopub.execute_input": "2024-04-25T14:13:19.995950Z",
     "iopub.status.busy": "2024-04-25T14:13:19.995157Z",
     "iopub.status.idle": "2024-04-25T14:13:20.000791Z",
     "shell.execute_reply": "2024-04-25T14:13:19.999705Z"
    },
    "papermill": {
     "duration": 0.040162,
     "end_time": "2024-04-25T14:13:20.003340",
     "exception": false,
     "start_time": "2024-04-25T14:13:19.963178",
     "status": "completed"
    },
    "tags": []
   },
   "outputs": [],
   "source": [
    "input_data = keras.utils.img_to_array(image)\n",
    "input_data = np.expand_dims(input_data, axis=0)"
   ]
  },
  {
   "cell_type": "code",
   "execution_count": 13,
   "id": "b1047450",
   "metadata": {
    "execution": {
     "iopub.execute_input": "2024-04-25T14:13:20.066890Z",
     "iopub.status.busy": "2024-04-25T14:13:20.066460Z",
     "iopub.status.idle": "2024-04-25T14:13:20.245580Z",
     "shell.execute_reply": "2024-04-25T14:13:20.244500Z"
    },
    "papermill": {
     "duration": 0.213629,
     "end_time": "2024-04-25T14:13:20.247936",
     "exception": false,
     "start_time": "2024-04-25T14:13:20.034307",
     "status": "completed"
    },
    "tags": []
   },
   "outputs": [
    {
     "name": "stdout",
     "output_type": "stream",
     "text": [
      "\u001b[1m1/1\u001b[0m \u001b[32m━━━━━━━━━━━━━━━━━━━━\u001b[0m\u001b[37m\u001b[0m \u001b[1m0s\u001b[0m 107ms/step\n",
      "[[1. 0. 0. 0. 0. 0. 0. 0. 0. 0. 0. 0. 0. 0. 0. 0. 0. 0. 0. 0. 0. 0. 0. 0.\n",
      "  0. 0. 0. 0. 0.]]\n",
      "a\n"
     ]
    }
   ],
   "source": [
    "prediction = model.predict(input_data)\n",
    "print(prediction)\n",
    "\n",
    "classes = np.argmax(prediction, axis = 1)\n",
    "print(idx_to_letter(classes))"
   ]
  },
  {
   "cell_type": "code",
   "execution_count": 14,
   "id": "4504cdf6",
   "metadata": {
    "execution": {
     "iopub.execute_input": "2024-04-25T14:13:20.312290Z",
     "iopub.status.busy": "2024-04-25T14:13:20.311251Z",
     "iopub.status.idle": "2024-04-25T14:13:20.405475Z",
     "shell.execute_reply": "2024-04-25T14:13:20.404117Z"
    },
    "papermill": {
     "duration": 0.129217,
     "end_time": "2024-04-25T14:13:20.408015",
     "exception": false,
     "start_time": "2024-04-25T14:13:20.278798",
     "status": "completed"
    },
    "tags": []
   },
   "outputs": [
    {
     "name": "stdout",
     "output_type": "stream",
     "text": [
      "\u001b[1m1/1\u001b[0m \u001b[32m━━━━━━━━━━━━━━━━━━━━\u001b[0m\u001b[37m\u001b[0m \u001b[1m0s\u001b[0m 25ms/step\n",
      "c\n"
     ]
    }
   ],
   "source": [
    "image_path = '/kaggle/input/asl-alphabet/asl_alphabet_test/asl_alphabet_test/C_test.jpg'\n",
    "image = keras.utils.load_img(image_path, target_size = (64,64))\n",
    "input_data = keras.utils.img_to_array(image)\n",
    "input_data = np.expand_dims(input_data, axis=0)\n",
    "prediction = model.predict(input_data)\n",
    "\n",
    "classes = np.argmax(prediction, axis = 1)\n",
    "print(idx_to_letter(classes))"
   ]
  },
  {
   "cell_type": "code",
   "execution_count": 15,
   "id": "c0229f32",
   "metadata": {
    "execution": {
     "iopub.execute_input": "2024-04-25T14:13:20.473542Z",
     "iopub.status.busy": "2024-04-25T14:13:20.472430Z",
     "iopub.status.idle": "2024-04-25T14:13:20.576534Z",
     "shell.execute_reply": "2024-04-25T14:13:20.574977Z"
    },
    "papermill": {
     "duration": 0.139851,
     "end_time": "2024-04-25T14:13:20.579435",
     "exception": false,
     "start_time": "2024-04-25T14:13:20.439584",
     "status": "completed"
    },
    "tags": []
   },
   "outputs": [
    {
     "name": "stdout",
     "output_type": "stream",
     "text": [
      "\u001b[1m1/1\u001b[0m \u001b[32m━━━━━━━━━━━━━━━━━━━━\u001b[0m\u001b[37m\u001b[0m \u001b[1m0s\u001b[0m 29ms/step\n",
      "z\n"
     ]
    }
   ],
   "source": [
    "image_path = '/kaggle/input/asl-alphabet/asl_alphabet_test/asl_alphabet_test/Z_test.jpg'\n",
    "image = keras.utils.load_img(image_path, target_size = (64,64))\n",
    "input_data = keras.utils.img_to_array(image)\n",
    "input_data = np.expand_dims(input_data, axis=0)\n",
    "prediction = model.predict(input_data)\n",
    "\n",
    "classes = np.argmax(prediction, axis = 1)\n",
    "print(idx_to_letter(classes))"
   ]
  }
 ],
 "metadata": {
  "kaggle": {
   "accelerator": "none",
   "dataSources": [
    {
     "datasetId": 23079,
     "sourceId": 29550,
     "sourceType": "datasetVersion"
    }
   ],
   "dockerImageVersionId": 30673,
   "isGpuEnabled": false,
   "isInternetEnabled": true,
   "language": "python",
   "sourceType": "notebook"
  },
  "kernelspec": {
   "display_name": "Python 3",
   "language": "python",
   "name": "python3"
  },
  "language_info": {
   "codemirror_mode": {
    "name": "ipython",
    "version": 3
   },
   "file_extension": ".py",
   "mimetype": "text/x-python",
   "name": "python",
   "nbconvert_exporter": "python",
   "pygments_lexer": "ipython3",
   "version": "3.10.13"
  },
  "papermill": {
   "default_parameters": {},
   "duration": 1020.787739,
   "end_time": "2024-04-25T14:13:23.204094",
   "environment_variables": {},
   "exception": null,
   "input_path": "__notebook__.ipynb",
   "output_path": "__notebook__.ipynb",
   "parameters": {},
   "start_time": "2024-04-25T13:56:22.416355",
   "version": "2.5.0"
  }
 },
 "nbformat": 4,
 "nbformat_minor": 5
}
