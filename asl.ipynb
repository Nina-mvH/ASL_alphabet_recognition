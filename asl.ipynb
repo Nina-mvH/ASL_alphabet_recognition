{
 "cells": [
  {
   "cell_type": "code",
   "execution_count": 1,
   "id": "b4c92149",
   "metadata": {
    "_cell_guid": "b1076dfc-b9ad-4769-8c92-a6c4dae69d19",
    "_uuid": "8f2839f25d086af736a60e9eeb907d3b93b6e0e5",
    "execution": {
     "iopub.execute_input": "2024-04-28T15:11:46.646527Z",
     "iopub.status.busy": "2024-04-28T15:11:46.646127Z",
     "iopub.status.idle": "2024-04-28T15:12:03.625512Z",
     "shell.execute_reply": "2024-04-28T15:12:03.624272Z"
    },
    "papermill": {
     "duration": 16.994604,
     "end_time": "2024-04-28T15:12:03.628708",
     "exception": false,
     "start_time": "2024-04-28T15:11:46.634104",
     "status": "completed"
    },
    "tags": []
   },
   "outputs": [
    {
     "name": "stderr",
     "output_type": "stream",
     "text": [
      "2024-04-28 15:11:49.922222: E external/local_xla/xla/stream_executor/cuda/cuda_dnn.cc:9261] Unable to register cuDNN factory: Attempting to register factory for plugin cuDNN when one has already been registered\n",
      "2024-04-28 15:11:49.922350: E external/local_xla/xla/stream_executor/cuda/cuda_fft.cc:607] Unable to register cuFFT factory: Attempting to register factory for plugin cuFFT when one has already been registered\n",
      "2024-04-28 15:11:50.095999: E external/local_xla/xla/stream_executor/cuda/cuda_blas.cc:1515] Unable to register cuBLAS factory: Attempting to register factory for plugin cuBLAS when one has already been registered\n"
     ]
    }
   ],
   "source": [
    "import numpy as np\n",
    "import pandas as pd\n",
    "import tensorflow as tf\n",
    "\n",
    "import matplotlib.pylab as plt\n",
    "from tensorflow import keras\n",
    "from tensorflow.keras.models import Sequential\n",
    "from tensorflow.keras.layers import Dense, Dropout, Flatten\n",
    "from tensorflow.keras.layers import Conv2D, MaxPooling2D\n",
    "\n",
    "from tensorflow.keras.optimizers import Adam\n",
    "from keras.callbacks import EarlyStopping\n",
    "\n",
    "from tensorflow.keras.preprocessing.image import ImageDataGenerator\n",
    "\n",
    "from sklearn.model_selection import train_test_split\n",
    "\n",
    "import os"
   ]
  },
  {
   "cell_type": "code",
   "execution_count": 2,
   "id": "36c1e91b",
   "metadata": {
    "execution": {
     "iopub.execute_input": "2024-04-28T15:12:03.651475Z",
     "iopub.status.busy": "2024-04-28T15:12:03.650760Z",
     "iopub.status.idle": "2024-04-28T15:12:20.242898Z",
     "shell.execute_reply": "2024-04-28T15:12:20.240687Z"
    },
    "papermill": {
     "duration": 16.607085,
     "end_time": "2024-04-28T15:12:20.246349",
     "exception": false,
     "start_time": "2024-04-28T15:12:03.639264",
     "status": "completed"
    },
    "tags": []
   },
   "outputs": [
    {
     "name": "stderr",
     "output_type": "stream",
     "text": [
      "/opt/conda/lib/python3.10/pty.py:89: RuntimeWarning: os.fork() was called. os.fork() is incompatible with multithreaded code, and JAX is multithreaded, so this will likely lead to a deadlock.\n",
      "  pid, fd = os.forkpty()\n"
     ]
    },
    {
     "name": "stdout",
     "output_type": "stream",
     "text": [
      "Requirement already satisfied: pyyaml in /opt/conda/lib/python3.10/site-packages (6.0.1)\r\n",
      "Requirement already satisfied: h5py in /opt/conda/lib/python3.10/site-packages (3.10.0)\r\n",
      "Requirement already satisfied: numpy>=1.17.3 in /opt/conda/lib/python3.10/site-packages (from h5py) (1.26.4)\r\n",
      "Note: you may need to restart the kernel to use updated packages.\n"
     ]
    }
   ],
   "source": [
    "pip install pyyaml h5py "
   ]
  },
  {
   "cell_type": "markdown",
   "id": "90f3abfd",
   "metadata": {
    "papermill": {
     "duration": 0.011291,
     "end_time": "2024-04-28T15:12:20.271741",
     "exception": false,
     "start_time": "2024-04-28T15:12:20.260450",
     "status": "completed"
    },
    "tags": []
   },
   "source": [
    "# **Formatting the Data:**"
   ]
  },
  {
   "cell_type": "code",
   "execution_count": 3,
   "id": "d6dfff57",
   "metadata": {
    "execution": {
     "iopub.execute_input": "2024-04-28T15:12:20.299584Z",
     "iopub.status.busy": "2024-04-28T15:12:20.298914Z",
     "iopub.status.idle": "2024-04-28T15:14:36.831272Z",
     "shell.execute_reply": "2024-04-28T15:14:36.830039Z"
    },
    "papermill": {
     "duration": 136.560432,
     "end_time": "2024-04-28T15:14:36.844268",
     "exception": false,
     "start_time": "2024-04-28T15:12:20.283836",
     "status": "completed"
    },
    "tags": []
   },
   "outputs": [
    {
     "data": {
      "text/html": [
       "<div>\n",
       "<style scoped>\n",
       "    .dataframe tbody tr th:only-of-type {\n",
       "        vertical-align: middle;\n",
       "    }\n",
       "\n",
       "    .dataframe tbody tr th {\n",
       "        vertical-align: top;\n",
       "    }\n",
       "\n",
       "    .dataframe thead th {\n",
       "        text-align: right;\n",
       "    }\n",
       "</style>\n",
       "<table border=\"1\" class=\"dataframe\">\n",
       "  <thead>\n",
       "    <tr style=\"text-align: right;\">\n",
       "      <th></th>\n",
       "      <th>label</th>\n",
       "      <th>path</th>\n",
       "    </tr>\n",
       "  </thead>\n",
       "  <tbody>\n",
       "    <tr>\n",
       "      <th>0</th>\n",
       "      <td>N</td>\n",
       "      <td>/kaggle/input/asl-alphabet/asl_alphabet_train/...</td>\n",
       "    </tr>\n",
       "    <tr>\n",
       "      <th>1</th>\n",
       "      <td>N</td>\n",
       "      <td>/kaggle/input/asl-alphabet/asl_alphabet_train/...</td>\n",
       "    </tr>\n",
       "    <tr>\n",
       "      <th>2</th>\n",
       "      <td>N</td>\n",
       "      <td>/kaggle/input/asl-alphabet/asl_alphabet_train/...</td>\n",
       "    </tr>\n",
       "    <tr>\n",
       "      <th>3</th>\n",
       "      <td>N</td>\n",
       "      <td>/kaggle/input/asl-alphabet/asl_alphabet_train/...</td>\n",
       "    </tr>\n",
       "    <tr>\n",
       "      <th>4</th>\n",
       "      <td>N</td>\n",
       "      <td>/kaggle/input/asl-alphabet/asl_alphabet_train/...</td>\n",
       "    </tr>\n",
       "    <tr>\n",
       "      <th>...</th>\n",
       "      <td>...</td>\n",
       "      <td>...</td>\n",
       "    </tr>\n",
       "    <tr>\n",
       "      <th>86995</th>\n",
       "      <td>J</td>\n",
       "      <td>/kaggle/input/asl-alphabet/asl_alphabet_train/...</td>\n",
       "    </tr>\n",
       "    <tr>\n",
       "      <th>86996</th>\n",
       "      <td>J</td>\n",
       "      <td>/kaggle/input/asl-alphabet/asl_alphabet_train/...</td>\n",
       "    </tr>\n",
       "    <tr>\n",
       "      <th>86997</th>\n",
       "      <td>J</td>\n",
       "      <td>/kaggle/input/asl-alphabet/asl_alphabet_train/...</td>\n",
       "    </tr>\n",
       "    <tr>\n",
       "      <th>86998</th>\n",
       "      <td>J</td>\n",
       "      <td>/kaggle/input/asl-alphabet/asl_alphabet_train/...</td>\n",
       "    </tr>\n",
       "    <tr>\n",
       "      <th>86999</th>\n",
       "      <td>J</td>\n",
       "      <td>/kaggle/input/asl-alphabet/asl_alphabet_train/...</td>\n",
       "    </tr>\n",
       "  </tbody>\n",
       "</table>\n",
       "<p>87000 rows × 2 columns</p>\n",
       "</div>"
      ],
      "text/plain": [
       "      label                                               path\n",
       "0         N  /kaggle/input/asl-alphabet/asl_alphabet_train/...\n",
       "1         N  /kaggle/input/asl-alphabet/asl_alphabet_train/...\n",
       "2         N  /kaggle/input/asl-alphabet/asl_alphabet_train/...\n",
       "3         N  /kaggle/input/asl-alphabet/asl_alphabet_train/...\n",
       "4         N  /kaggle/input/asl-alphabet/asl_alphabet_train/...\n",
       "...     ...                                                ...\n",
       "86995     J  /kaggle/input/asl-alphabet/asl_alphabet_train/...\n",
       "86996     J  /kaggle/input/asl-alphabet/asl_alphabet_train/...\n",
       "86997     J  /kaggle/input/asl-alphabet/asl_alphabet_train/...\n",
       "86998     J  /kaggle/input/asl-alphabet/asl_alphabet_train/...\n",
       "86999     J  /kaggle/input/asl-alphabet/asl_alphabet_train/...\n",
       "\n",
       "[87000 rows x 2 columns]"
      ]
     },
     "execution_count": 3,
     "metadata": {},
     "output_type": "execute_result"
    }
   ],
   "source": [
    "#assign the pathway to the kaggle dataset's training folder as the variable \"train_folder\"\n",
    "train_folder = '/kaggle/input/asl-alphabet/asl_alphabet_train/asl_alphabet_train'\n",
    "all_data = []\n",
    "#travel through everything in the training data to get the label and path and add it to all_data\n",
    "for folder in os.listdir(train_folder):\n",
    "\tlabel_folder = os.path.join(train_folder, folder)\n",
    "\tonlyfiles = [{'label':folder,'path':os.path.join(label_folder, f)} for f in os.listdir(label_folder) if os.path.isfile(os.path.join(label_folder, f))]\n",
    "\tall_data += onlyfiles\n",
    "#create a data frame with all the labels and pathways\n",
    "data_df = pd.DataFrame(all_data)\n",
    "data_df"
   ]
  },
  {
   "cell_type": "code",
   "execution_count": 4,
   "id": "09a8c777",
   "metadata": {
    "execution": {
     "iopub.execute_input": "2024-04-28T15:14:36.866102Z",
     "iopub.status.busy": "2024-04-28T15:14:36.865697Z",
     "iopub.status.idle": "2024-04-28T15:14:37.901433Z",
     "shell.execute_reply": "2024-04-28T15:14:37.899689Z"
    },
    "papermill": {
     "duration": 1.05122,
     "end_time": "2024-04-28T15:14:37.905437",
     "exception": false,
     "start_time": "2024-04-28T15:14:36.854217",
     "status": "completed"
    },
    "tags": []
   },
   "outputs": [],
   "source": [
    "x_train,x_holdout = train_test_split(data_df, test_size= 0.10, random_state=42,stratify=data_df[['label']])\n",
    "x_train,x_test = train_test_split(x_train, test_size= 0.25, random_state=42,stratify=x_train[['label']])"
   ]
  },
  {
   "cell_type": "markdown",
   "id": "fdffa8ba",
   "metadata": {
    "papermill": {
     "duration": 0.011417,
     "end_time": "2024-04-28T15:14:37.929430",
     "exception": false,
     "start_time": "2024-04-28T15:14:37.918013",
     "status": "completed"
    },
    "tags": []
   },
   "source": [
    "# **Model 1 (no data aug):**"
   ]
  },
  {
   "cell_type": "code",
   "execution_count": 5,
   "id": "0cd0f88d",
   "metadata": {
    "execution": {
     "iopub.execute_input": "2024-04-28T15:14:37.952854Z",
     "iopub.status.busy": "2024-04-28T15:14:37.951778Z",
     "iopub.status.idle": "2024-04-28T15:15:44.268209Z",
     "shell.execute_reply": "2024-04-28T15:15:44.266958Z"
    },
    "papermill": {
     "duration": 66.33125,
     "end_time": "2024-04-28T15:15:44.271051",
     "exception": false,
     "start_time": "2024-04-28T15:14:37.939801",
     "status": "completed"
    },
    "tags": []
   },
   "outputs": [
    {
     "name": "stdout",
     "output_type": "stream",
     "text": [
      "Found 58725 validated image filenames belonging to 29 classes.\n",
      "Found 19575 validated image filenames belonging to 29 classes.\n",
      "Found 8700 validated image filenames belonging to 29 classes.\n"
     ]
    }
   ],
   "source": [
    "img_width, img_height = 64, 64\n",
    "batch_size = 256\n",
    "y_col = 'label'\n",
    "x_col = 'path'\n",
    "no_of_classes = len(data_df[y_col].unique())\n",
    "\n",
    "\n",
    "train_datagen = ImageDataGenerator(rescale = 1/255.0)\n",
    "\n",
    "train_generator = train_datagen.flow_from_dataframe(\n",
    "\tdataframe=x_train,x_col=x_col, y_col=y_col,\n",
    "\ttarget_size=(img_width, img_height),class_mode='categorical', batch_size=batch_size,\n",
    "\tshuffle=False,\n",
    ")\n",
    "\n",
    "validation_datagen = ImageDataGenerator(rescale = 1/255.0)\n",
    "validation_generator = validation_datagen.flow_from_dataframe(\n",
    "\tdataframe=x_test, x_col=x_col, y_col=y_col,\n",
    "\ttarget_size=(img_width, img_height), class_mode='categorical', batch_size=batch_size,\n",
    "\tshuffle=False\n",
    ")\n",
    "\n",
    "holdout_datagen = ImageDataGenerator(rescale = 1/255.0)\n",
    "holdout_generator = holdout_datagen.flow_from_dataframe(\n",
    "\tdataframe=x_holdout, x_col=x_col, y_col=y_col,\n",
    "\ttarget_size=(img_width, img_height), class_mode='categorical', batch_size=batch_size,\n",
    "\tshuffle=False\n",
    ")"
   ]
  },
  {
   "cell_type": "code",
   "execution_count": 6,
   "id": "ed9c2e37",
   "metadata": {
    "execution": {
     "iopub.execute_input": "2024-04-28T15:15:44.295105Z",
     "iopub.status.busy": "2024-04-28T15:15:44.294111Z",
     "iopub.status.idle": "2024-04-28T15:15:44.589245Z",
     "shell.execute_reply": "2024-04-28T15:15:44.588074Z"
    },
    "papermill": {
     "duration": 0.310493,
     "end_time": "2024-04-28T15:15:44.592131",
     "exception": false,
     "start_time": "2024-04-28T15:15:44.281638",
     "status": "completed"
    },
    "tags": []
   },
   "outputs": [
    {
     "name": "stderr",
     "output_type": "stream",
     "text": [
      "/opt/conda/lib/python3.10/site-packages/keras/src/layers/convolutional/base_conv.py:99: UserWarning: Do not pass an `input_shape`/`input_dim` argument to a layer. When using Sequential models, prefer using an `Input(shape)` object as the first layer in the model instead.\n",
      "  super().__init__(\n"
     ]
    }
   ],
   "source": [
    "model = Sequential()\n",
    "\n",
    "model.add(Conv2D(filters = 32, kernel_size = (5,5),padding = 'Same',activation ='relu', input_shape = (64,64,3)))\n",
    "model.add(MaxPooling2D(pool_size = (2,2), strides = (2,2)))\n",
    "model.add(Dropout(0.3))\n",
    "\n",
    "model.add(Conv2D(filters = 64, kernel_size = (5,5),padding = 'Same',activation ='relu', input_shape = (150,150,3))) # why does input shape change to 150\n",
    "model.add(MaxPooling2D(pool_size = (2,2), strides = (2,2)))\n",
    "model.add(Dropout(0.3))\n",
    "\n",
    "model.add(Conv2D(filters = 64, kernel_size = (5,5),padding = 'Same',activation ='relu', input_shape = (150,150,3)))\n",
    "model.add(MaxPooling2D(pool_size = (2,2), strides = (2,2)))\n",
    "model.add(Dropout(0.3))\n",
    "\n",
    "model.add(Conv2D(filters = 128, kernel_size = (5,5),padding = 'Same',activation ='relu', input_shape = (150,150,3)))\n",
    "model.add(MaxPooling2D(pool_size = (2,2), strides = (2,2)))\n",
    "\n",
    "model.add(Flatten())\n",
    "model.add(Dense(256))\n",
    "model.add(Dense(29, activation = \"softmax\"))"
   ]
  },
  {
   "cell_type": "code",
   "execution_count": 7,
   "id": "7ea54ea5",
   "metadata": {
    "execution": {
     "iopub.execute_input": "2024-04-28T15:15:44.617293Z",
     "iopub.status.busy": "2024-04-28T15:15:44.616323Z",
     "iopub.status.idle": "2024-04-28T15:15:44.665124Z",
     "shell.execute_reply": "2024-04-28T15:15:44.663887Z"
    },
    "papermill": {
     "duration": 0.065334,
     "end_time": "2024-04-28T15:15:44.668679",
     "exception": false,
     "start_time": "2024-04-28T15:15:44.603345",
     "status": "completed"
    },
    "tags": []
   },
   "outputs": [
    {
     "data": {
      "text/html": [
       "<pre style=\"white-space:pre;overflow-x:auto;line-height:normal;font-family:Menlo,'DejaVu Sans Mono',consolas,'Courier New',monospace\"><span style=\"font-weight: bold\">Model: \"sequential\"</span>\n",
       "</pre>\n"
      ],
      "text/plain": [
       "\u001b[1mModel: \"sequential\"\u001b[0m\n"
      ]
     },
     "metadata": {},
     "output_type": "display_data"
    },
    {
     "data": {
      "text/html": [
       "<pre style=\"white-space:pre;overflow-x:auto;line-height:normal;font-family:Menlo,'DejaVu Sans Mono',consolas,'Courier New',monospace\">┏━━━━━━━━━━━━━━━━━━━━━━━━━━━━━━━━━┳━━━━━━━━━━━━━━━━━━━━━━━━┳━━━━━━━━━━━━━━━┓\n",
       "┃<span style=\"font-weight: bold\"> Layer (type)                    </span>┃<span style=\"font-weight: bold\"> Output Shape           </span>┃<span style=\"font-weight: bold\">       Param # </span>┃\n",
       "┡━━━━━━━━━━━━━━━━━━━━━━━━━━━━━━━━━╇━━━━━━━━━━━━━━━━━━━━━━━━╇━━━━━━━━━━━━━━━┩\n",
       "│ conv2d (<span style=\"color: #0087ff; text-decoration-color: #0087ff\">Conv2D</span>)                 │ (<span style=\"color: #00d7ff; text-decoration-color: #00d7ff\">None</span>, <span style=\"color: #00af00; text-decoration-color: #00af00\">64</span>, <span style=\"color: #00af00; text-decoration-color: #00af00\">64</span>, <span style=\"color: #00af00; text-decoration-color: #00af00\">32</span>)     │         <span style=\"color: #00af00; text-decoration-color: #00af00\">2,432</span> │\n",
       "├─────────────────────────────────┼────────────────────────┼───────────────┤\n",
       "│ max_pooling2d (<span style=\"color: #0087ff; text-decoration-color: #0087ff\">MaxPooling2D</span>)    │ (<span style=\"color: #00d7ff; text-decoration-color: #00d7ff\">None</span>, <span style=\"color: #00af00; text-decoration-color: #00af00\">32</span>, <span style=\"color: #00af00; text-decoration-color: #00af00\">32</span>, <span style=\"color: #00af00; text-decoration-color: #00af00\">32</span>)     │             <span style=\"color: #00af00; text-decoration-color: #00af00\">0</span> │\n",
       "├─────────────────────────────────┼────────────────────────┼───────────────┤\n",
       "│ dropout (<span style=\"color: #0087ff; text-decoration-color: #0087ff\">Dropout</span>)               │ (<span style=\"color: #00d7ff; text-decoration-color: #00d7ff\">None</span>, <span style=\"color: #00af00; text-decoration-color: #00af00\">32</span>, <span style=\"color: #00af00; text-decoration-color: #00af00\">32</span>, <span style=\"color: #00af00; text-decoration-color: #00af00\">32</span>)     │             <span style=\"color: #00af00; text-decoration-color: #00af00\">0</span> │\n",
       "├─────────────────────────────────┼────────────────────────┼───────────────┤\n",
       "│ conv2d_1 (<span style=\"color: #0087ff; text-decoration-color: #0087ff\">Conv2D</span>)               │ (<span style=\"color: #00d7ff; text-decoration-color: #00d7ff\">None</span>, <span style=\"color: #00af00; text-decoration-color: #00af00\">32</span>, <span style=\"color: #00af00; text-decoration-color: #00af00\">32</span>, <span style=\"color: #00af00; text-decoration-color: #00af00\">64</span>)     │        <span style=\"color: #00af00; text-decoration-color: #00af00\">51,264</span> │\n",
       "├─────────────────────────────────┼────────────────────────┼───────────────┤\n",
       "│ max_pooling2d_1 (<span style=\"color: #0087ff; text-decoration-color: #0087ff\">MaxPooling2D</span>)  │ (<span style=\"color: #00d7ff; text-decoration-color: #00d7ff\">None</span>, <span style=\"color: #00af00; text-decoration-color: #00af00\">16</span>, <span style=\"color: #00af00; text-decoration-color: #00af00\">16</span>, <span style=\"color: #00af00; text-decoration-color: #00af00\">64</span>)     │             <span style=\"color: #00af00; text-decoration-color: #00af00\">0</span> │\n",
       "├─────────────────────────────────┼────────────────────────┼───────────────┤\n",
       "│ dropout_1 (<span style=\"color: #0087ff; text-decoration-color: #0087ff\">Dropout</span>)             │ (<span style=\"color: #00d7ff; text-decoration-color: #00d7ff\">None</span>, <span style=\"color: #00af00; text-decoration-color: #00af00\">16</span>, <span style=\"color: #00af00; text-decoration-color: #00af00\">16</span>, <span style=\"color: #00af00; text-decoration-color: #00af00\">64</span>)     │             <span style=\"color: #00af00; text-decoration-color: #00af00\">0</span> │\n",
       "├─────────────────────────────────┼────────────────────────┼───────────────┤\n",
       "│ conv2d_2 (<span style=\"color: #0087ff; text-decoration-color: #0087ff\">Conv2D</span>)               │ (<span style=\"color: #00d7ff; text-decoration-color: #00d7ff\">None</span>, <span style=\"color: #00af00; text-decoration-color: #00af00\">16</span>, <span style=\"color: #00af00; text-decoration-color: #00af00\">16</span>, <span style=\"color: #00af00; text-decoration-color: #00af00\">64</span>)     │       <span style=\"color: #00af00; text-decoration-color: #00af00\">102,464</span> │\n",
       "├─────────────────────────────────┼────────────────────────┼───────────────┤\n",
       "│ max_pooling2d_2 (<span style=\"color: #0087ff; text-decoration-color: #0087ff\">MaxPooling2D</span>)  │ (<span style=\"color: #00d7ff; text-decoration-color: #00d7ff\">None</span>, <span style=\"color: #00af00; text-decoration-color: #00af00\">8</span>, <span style=\"color: #00af00; text-decoration-color: #00af00\">8</span>, <span style=\"color: #00af00; text-decoration-color: #00af00\">64</span>)       │             <span style=\"color: #00af00; text-decoration-color: #00af00\">0</span> │\n",
       "├─────────────────────────────────┼────────────────────────┼───────────────┤\n",
       "│ dropout_2 (<span style=\"color: #0087ff; text-decoration-color: #0087ff\">Dropout</span>)             │ (<span style=\"color: #00d7ff; text-decoration-color: #00d7ff\">None</span>, <span style=\"color: #00af00; text-decoration-color: #00af00\">8</span>, <span style=\"color: #00af00; text-decoration-color: #00af00\">8</span>, <span style=\"color: #00af00; text-decoration-color: #00af00\">64</span>)       │             <span style=\"color: #00af00; text-decoration-color: #00af00\">0</span> │\n",
       "├─────────────────────────────────┼────────────────────────┼───────────────┤\n",
       "│ conv2d_3 (<span style=\"color: #0087ff; text-decoration-color: #0087ff\">Conv2D</span>)               │ (<span style=\"color: #00d7ff; text-decoration-color: #00d7ff\">None</span>, <span style=\"color: #00af00; text-decoration-color: #00af00\">8</span>, <span style=\"color: #00af00; text-decoration-color: #00af00\">8</span>, <span style=\"color: #00af00; text-decoration-color: #00af00\">128</span>)      │       <span style=\"color: #00af00; text-decoration-color: #00af00\">204,928</span> │\n",
       "├─────────────────────────────────┼────────────────────────┼───────────────┤\n",
       "│ max_pooling2d_3 (<span style=\"color: #0087ff; text-decoration-color: #0087ff\">MaxPooling2D</span>)  │ (<span style=\"color: #00d7ff; text-decoration-color: #00d7ff\">None</span>, <span style=\"color: #00af00; text-decoration-color: #00af00\">4</span>, <span style=\"color: #00af00; text-decoration-color: #00af00\">4</span>, <span style=\"color: #00af00; text-decoration-color: #00af00\">128</span>)      │             <span style=\"color: #00af00; text-decoration-color: #00af00\">0</span> │\n",
       "├─────────────────────────────────┼────────────────────────┼───────────────┤\n",
       "│ flatten (<span style=\"color: #0087ff; text-decoration-color: #0087ff\">Flatten</span>)               │ (<span style=\"color: #00d7ff; text-decoration-color: #00d7ff\">None</span>, <span style=\"color: #00af00; text-decoration-color: #00af00\">2048</span>)           │             <span style=\"color: #00af00; text-decoration-color: #00af00\">0</span> │\n",
       "├─────────────────────────────────┼────────────────────────┼───────────────┤\n",
       "│ dense (<span style=\"color: #0087ff; text-decoration-color: #0087ff\">Dense</span>)                   │ (<span style=\"color: #00d7ff; text-decoration-color: #00d7ff\">None</span>, <span style=\"color: #00af00; text-decoration-color: #00af00\">256</span>)            │       <span style=\"color: #00af00; text-decoration-color: #00af00\">524,544</span> │\n",
       "├─────────────────────────────────┼────────────────────────┼───────────────┤\n",
       "│ dense_1 (<span style=\"color: #0087ff; text-decoration-color: #0087ff\">Dense</span>)                 │ (<span style=\"color: #00d7ff; text-decoration-color: #00d7ff\">None</span>, <span style=\"color: #00af00; text-decoration-color: #00af00\">29</span>)             │         <span style=\"color: #00af00; text-decoration-color: #00af00\">7,453</span> │\n",
       "└─────────────────────────────────┴────────────────────────┴───────────────┘\n",
       "</pre>\n"
      ],
      "text/plain": [
       "┏━━━━━━━━━━━━━━━━━━━━━━━━━━━━━━━━━┳━━━━━━━━━━━━━━━━━━━━━━━━┳━━━━━━━━━━━━━━━┓\n",
       "┃\u001b[1m \u001b[0m\u001b[1mLayer (type)                   \u001b[0m\u001b[1m \u001b[0m┃\u001b[1m \u001b[0m\u001b[1mOutput Shape          \u001b[0m\u001b[1m \u001b[0m┃\u001b[1m \u001b[0m\u001b[1m      Param #\u001b[0m\u001b[1m \u001b[0m┃\n",
       "┡━━━━━━━━━━━━━━━━━━━━━━━━━━━━━━━━━╇━━━━━━━━━━━━━━━━━━━━━━━━╇━━━━━━━━━━━━━━━┩\n",
       "│ conv2d (\u001b[38;5;33mConv2D\u001b[0m)                 │ (\u001b[38;5;45mNone\u001b[0m, \u001b[38;5;34m64\u001b[0m, \u001b[38;5;34m64\u001b[0m, \u001b[38;5;34m32\u001b[0m)     │         \u001b[38;5;34m2,432\u001b[0m │\n",
       "├─────────────────────────────────┼────────────────────────┼───────────────┤\n",
       "│ max_pooling2d (\u001b[38;5;33mMaxPooling2D\u001b[0m)    │ (\u001b[38;5;45mNone\u001b[0m, \u001b[38;5;34m32\u001b[0m, \u001b[38;5;34m32\u001b[0m, \u001b[38;5;34m32\u001b[0m)     │             \u001b[38;5;34m0\u001b[0m │\n",
       "├─────────────────────────────────┼────────────────────────┼───────────────┤\n",
       "│ dropout (\u001b[38;5;33mDropout\u001b[0m)               │ (\u001b[38;5;45mNone\u001b[0m, \u001b[38;5;34m32\u001b[0m, \u001b[38;5;34m32\u001b[0m, \u001b[38;5;34m32\u001b[0m)     │             \u001b[38;5;34m0\u001b[0m │\n",
       "├─────────────────────────────────┼────────────────────────┼───────────────┤\n",
       "│ conv2d_1 (\u001b[38;5;33mConv2D\u001b[0m)               │ (\u001b[38;5;45mNone\u001b[0m, \u001b[38;5;34m32\u001b[0m, \u001b[38;5;34m32\u001b[0m, \u001b[38;5;34m64\u001b[0m)     │        \u001b[38;5;34m51,264\u001b[0m │\n",
       "├─────────────────────────────────┼────────────────────────┼───────────────┤\n",
       "│ max_pooling2d_1 (\u001b[38;5;33mMaxPooling2D\u001b[0m)  │ (\u001b[38;5;45mNone\u001b[0m, \u001b[38;5;34m16\u001b[0m, \u001b[38;5;34m16\u001b[0m, \u001b[38;5;34m64\u001b[0m)     │             \u001b[38;5;34m0\u001b[0m │\n",
       "├─────────────────────────────────┼────────────────────────┼───────────────┤\n",
       "│ dropout_1 (\u001b[38;5;33mDropout\u001b[0m)             │ (\u001b[38;5;45mNone\u001b[0m, \u001b[38;5;34m16\u001b[0m, \u001b[38;5;34m16\u001b[0m, \u001b[38;5;34m64\u001b[0m)     │             \u001b[38;5;34m0\u001b[0m │\n",
       "├─────────────────────────────────┼────────────────────────┼───────────────┤\n",
       "│ conv2d_2 (\u001b[38;5;33mConv2D\u001b[0m)               │ (\u001b[38;5;45mNone\u001b[0m, \u001b[38;5;34m16\u001b[0m, \u001b[38;5;34m16\u001b[0m, \u001b[38;5;34m64\u001b[0m)     │       \u001b[38;5;34m102,464\u001b[0m │\n",
       "├─────────────────────────────────┼────────────────────────┼───────────────┤\n",
       "│ max_pooling2d_2 (\u001b[38;5;33mMaxPooling2D\u001b[0m)  │ (\u001b[38;5;45mNone\u001b[0m, \u001b[38;5;34m8\u001b[0m, \u001b[38;5;34m8\u001b[0m, \u001b[38;5;34m64\u001b[0m)       │             \u001b[38;5;34m0\u001b[0m │\n",
       "├─────────────────────────────────┼────────────────────────┼───────────────┤\n",
       "│ dropout_2 (\u001b[38;5;33mDropout\u001b[0m)             │ (\u001b[38;5;45mNone\u001b[0m, \u001b[38;5;34m8\u001b[0m, \u001b[38;5;34m8\u001b[0m, \u001b[38;5;34m64\u001b[0m)       │             \u001b[38;5;34m0\u001b[0m │\n",
       "├─────────────────────────────────┼────────────────────────┼───────────────┤\n",
       "│ conv2d_3 (\u001b[38;5;33mConv2D\u001b[0m)               │ (\u001b[38;5;45mNone\u001b[0m, \u001b[38;5;34m8\u001b[0m, \u001b[38;5;34m8\u001b[0m, \u001b[38;5;34m128\u001b[0m)      │       \u001b[38;5;34m204,928\u001b[0m │\n",
       "├─────────────────────────────────┼────────────────────────┼───────────────┤\n",
       "│ max_pooling2d_3 (\u001b[38;5;33mMaxPooling2D\u001b[0m)  │ (\u001b[38;5;45mNone\u001b[0m, \u001b[38;5;34m4\u001b[0m, \u001b[38;5;34m4\u001b[0m, \u001b[38;5;34m128\u001b[0m)      │             \u001b[38;5;34m0\u001b[0m │\n",
       "├─────────────────────────────────┼────────────────────────┼───────────────┤\n",
       "│ flatten (\u001b[38;5;33mFlatten\u001b[0m)               │ (\u001b[38;5;45mNone\u001b[0m, \u001b[38;5;34m2048\u001b[0m)           │             \u001b[38;5;34m0\u001b[0m │\n",
       "├─────────────────────────────────┼────────────────────────┼───────────────┤\n",
       "│ dense (\u001b[38;5;33mDense\u001b[0m)                   │ (\u001b[38;5;45mNone\u001b[0m, \u001b[38;5;34m256\u001b[0m)            │       \u001b[38;5;34m524,544\u001b[0m │\n",
       "├─────────────────────────────────┼────────────────────────┼───────────────┤\n",
       "│ dense_1 (\u001b[38;5;33mDense\u001b[0m)                 │ (\u001b[38;5;45mNone\u001b[0m, \u001b[38;5;34m29\u001b[0m)             │         \u001b[38;5;34m7,453\u001b[0m │\n",
       "└─────────────────────────────────┴────────────────────────┴───────────────┘\n"
      ]
     },
     "metadata": {},
     "output_type": "display_data"
    },
    {
     "data": {
      "text/html": [
       "<pre style=\"white-space:pre;overflow-x:auto;line-height:normal;font-family:Menlo,'DejaVu Sans Mono',consolas,'Courier New',monospace\"><span style=\"font-weight: bold\"> Total params: </span><span style=\"color: #00af00; text-decoration-color: #00af00\">893,085</span> (3.41 MB)\n",
       "</pre>\n"
      ],
      "text/plain": [
       "\u001b[1m Total params: \u001b[0m\u001b[38;5;34m893,085\u001b[0m (3.41 MB)\n"
      ]
     },
     "metadata": {},
     "output_type": "display_data"
    },
    {
     "data": {
      "text/html": [
       "<pre style=\"white-space:pre;overflow-x:auto;line-height:normal;font-family:Menlo,'DejaVu Sans Mono',consolas,'Courier New',monospace\"><span style=\"font-weight: bold\"> Trainable params: </span><span style=\"color: #00af00; text-decoration-color: #00af00\">893,085</span> (3.41 MB)\n",
       "</pre>\n"
      ],
      "text/plain": [
       "\u001b[1m Trainable params: \u001b[0m\u001b[38;5;34m893,085\u001b[0m (3.41 MB)\n"
      ]
     },
     "metadata": {},
     "output_type": "display_data"
    },
    {
     "data": {
      "text/html": [
       "<pre style=\"white-space:pre;overflow-x:auto;line-height:normal;font-family:Menlo,'DejaVu Sans Mono',consolas,'Courier New',monospace\"><span style=\"font-weight: bold\"> Non-trainable params: </span><span style=\"color: #00af00; text-decoration-color: #00af00\">0</span> (0.00 B)\n",
       "</pre>\n"
      ],
      "text/plain": [
       "\u001b[1m Non-trainable params: \u001b[0m\u001b[38;5;34m0\u001b[0m (0.00 B)\n"
      ]
     },
     "metadata": {},
     "output_type": "display_data"
    }
   ],
   "source": [
    "model.compile(loss='categorical_crossentropy',optimizer=Adam(learning_rate=0.001),metrics=['accuracy'])\n",
    "model.summary()"
   ]
  },
  {
   "cell_type": "code",
   "execution_count": 8,
   "id": "d9f50d51",
   "metadata": {
    "execution": {
     "iopub.execute_input": "2024-04-28T15:15:44.695078Z",
     "iopub.status.busy": "2024-04-28T15:15:44.694681Z",
     "iopub.status.idle": "2024-04-28T17:12:43.267077Z",
     "shell.execute_reply": "2024-04-28T17:12:43.265304Z"
    },
    "papermill": {
     "duration": 7018.822201,
     "end_time": "2024-04-28T17:12:43.503156",
     "exception": false,
     "start_time": "2024-04-28T15:15:44.680955",
     "status": "completed"
    },
    "tags": []
   },
   "outputs": [
    {
     "name": "stdout",
     "output_type": "stream",
     "text": [
      "Epoch 1/10\n"
     ]
    },
    {
     "name": "stderr",
     "output_type": "stream",
     "text": [
      "/opt/conda/lib/python3.10/site-packages/keras/src/trainers/data_adapters/py_dataset_adapter.py:122: UserWarning: Your `PyDataset` class should call `super().__init__(**kwargs)` in its constructor. `**kwargs` can include `workers`, `use_multiprocessing`, `max_queue_size`. Do not pass these arguments to `fit()`, as they will be ignored.\n",
      "  self._warn_if_super_not_called()\n"
     ]
    },
    {
     "name": "stdout",
     "output_type": "stream",
     "text": [
      "\u001b[1m230/230\u001b[0m \u001b[32m━━━━━━━━━━━━━━━━━━━━\u001b[0m\u001b[37m\u001b[0m \u001b[1m772s\u001b[0m 3s/step - accuracy: 0.1915 - loss: 2.8009 - val_accuracy: 0.8463 - val_loss: 0.4595\n",
      "Epoch 2/10\n",
      "\u001b[1m230/230\u001b[0m \u001b[32m━━━━━━━━━━━━━━━━━━━━\u001b[0m\u001b[37m\u001b[0m \u001b[1m686s\u001b[0m 3s/step - accuracy: 0.8562 - loss: 0.4281 - val_accuracy: 0.9570 - val_loss: 0.1258\n",
      "Epoch 3/10\n",
      "\u001b[1m230/230\u001b[0m \u001b[32m━━━━━━━━━━━━━━━━━━━━\u001b[0m\u001b[37m\u001b[0m \u001b[1m677s\u001b[0m 3s/step - accuracy: 0.9488 - loss: 0.1536 - val_accuracy: 0.9915 - val_loss: 0.0337\n",
      "Epoch 4/10\n",
      "\u001b[1m230/230\u001b[0m \u001b[32m━━━━━━━━━━━━━━━━━━━━\u001b[0m\u001b[37m\u001b[0m \u001b[1m642s\u001b[0m 3s/step - accuracy: 0.9724 - loss: 0.0817 - val_accuracy: 0.9933 - val_loss: 0.0248\n",
      "Epoch 5/10\n",
      "\u001b[1m230/230\u001b[0m \u001b[32m━━━━━━━━━━━━━━━━━━━━\u001b[0m\u001b[37m\u001b[0m \u001b[1m694s\u001b[0m 3s/step - accuracy: 0.9807 - loss: 0.0588 - val_accuracy: 0.9964 - val_loss: 0.0154\n",
      "Epoch 6/10\n",
      "\u001b[1m230/230\u001b[0m \u001b[32m━━━━━━━━━━━━━━━━━━━━\u001b[0m\u001b[37m\u001b[0m \u001b[1m703s\u001b[0m 3s/step - accuracy: 0.9845 - loss: 0.0465 - val_accuracy: 0.9954 - val_loss: 0.0167\n",
      "Epoch 7/10\n",
      "\u001b[1m230/230\u001b[0m \u001b[32m━━━━━━━━━━━━━━━━━━━━\u001b[0m\u001b[37m\u001b[0m \u001b[1m702s\u001b[0m 3s/step - accuracy: 0.9888 - loss: 0.0375 - val_accuracy: 0.9977 - val_loss: 0.0093\n",
      "Epoch 8/10\n",
      "\u001b[1m230/230\u001b[0m \u001b[32m━━━━━━━━━━━━━━━━━━━━\u001b[0m\u001b[37m\u001b[0m \u001b[1m738s\u001b[0m 3s/step - accuracy: 0.9877 - loss: 0.0367 - val_accuracy: 0.9958 - val_loss: 0.0130\n",
      "Epoch 9/10\n",
      "\u001b[1m230/230\u001b[0m \u001b[32m━━━━━━━━━━━━━━━━━━━━\u001b[0m\u001b[37m\u001b[0m \u001b[1m700s\u001b[0m 3s/step - accuracy: 0.9914 - loss: 0.0265 - val_accuracy: 0.9966 - val_loss: 0.0118\n",
      "Epoch 10/10\n",
      "\u001b[1m230/230\u001b[0m \u001b[32m━━━━━━━━━━━━━━━━━━━━\u001b[0m\u001b[37m\u001b[0m \u001b[1m701s\u001b[0m 3s/step - accuracy: 0.9902 - loss: 0.0299 - val_accuracy: 0.9987 - val_loss: 0.0061\n"
     ]
    }
   ],
   "source": [
    "early_stop = EarlyStopping(monitor='val_loss',patience=5)\n",
    "\n",
    "batch_size=128\n",
    "epochs=10\n",
    "\n",
    "history = model.fit(train_generator,\n",
    "                    epochs=epochs,\n",
    "                    verbose=1,\n",
    "                    validation_data=validation_generator,\n",
    "                    callbacks = [early_stop],)"
   ]
  },
  {
   "cell_type": "code",
   "execution_count": 9,
   "id": "a1978211",
   "metadata": {
    "execution": {
     "iopub.execute_input": "2024-04-28T17:12:43.989654Z",
     "iopub.status.busy": "2024-04-28T17:12:43.989142Z",
     "iopub.status.idle": "2024-04-28T17:12:44.413719Z",
     "shell.execute_reply": "2024-04-28T17:12:44.412432Z"
    },
    "papermill": {
     "duration": 0.667478,
     "end_time": "2024-04-28T17:12:44.416527",
     "exception": false,
     "start_time": "2024-04-28T17:12:43.749049",
     "status": "completed"
    },
    "tags": []
   },
   "outputs": [
    {
     "data": {
      "image/png": "[encoded data removed]",
      "text/plain": [
       "<Figure size 640x480 with 1 Axes>"
      ]
     },
     "metadata": {},
     "output_type": "display_data"
    }
   ],
   "source": [
    "#Plot accuracy \n",
    "\n",
    "plt.plot(history.history['accuracy'], label='Training accuracy')\n",
    "plt.plot(history.history['val_accuracy'], label='Validation accuracy')\n",
    "plt.xlabel('Epoch')\n",
    "plt.ylabel('Accuracy')\n",
    "plt.title('Training and Validation Accuracy')\n",
    "plt.legend()\n",
    "plt.show()"
   ]
  },
  {
   "cell_type": "code",
   "execution_count": 10,
   "id": "33092093",
   "metadata": {
    "execution": {
     "iopub.execute_input": "2024-04-28T17:12:44.908594Z",
     "iopub.status.busy": "2024-04-28T17:12:44.908174Z",
     "iopub.status.idle": "2024-04-28T17:12:45.243468Z",
     "shell.execute_reply": "2024-04-28T17:12:45.241967Z"
    },
    "papermill": {
     "duration": 0.577011,
     "end_time": "2024-04-28T17:12:45.246177",
     "exception": false,
     "start_time": "2024-04-28T17:12:44.669166",
     "status": "completed"
    },
    "tags": []
   },
   "outputs": [
    {
     "data": {
      "image/png": "[encoded data removed]",
      "text/plain": [
       "<Figure size 640x480 with 1 Axes>"
      ]
     },
     "metadata": {},
     "output_type": "display_data"
    }
   ],
   "source": [
    "# Plot loss\n",
    "\n",
    "plt.plot(history.history['loss'], label='Training Loss')\n",
    "plt.plot(history.history['val_loss'], label='Validation Loss')\n",
    "plt.title('Training and Validation Loss')\n",
    "plt.xlabel('Epoch')\n",
    "plt.ylabel('Loss')\n",
    "plt.legend()\n",
    "plt.show()"
   ]
  },
  {
   "cell_type": "code",
   "execution_count": 11,
   "id": "c0a00220",
   "metadata": {
    "execution": {
     "iopub.execute_input": "2024-04-28T17:12:45.810052Z",
     "iopub.status.busy": "2024-04-28T17:12:45.809562Z",
     "iopub.status.idle": "2024-04-28T17:13:46.691124Z",
     "shell.execute_reply": "2024-04-28T17:13:46.689725Z"
    },
    "papermill": {
     "duration": 61.119491,
     "end_time": "2024-04-28T17:13:46.693574",
     "exception": false,
     "start_time": "2024-04-28T17:12:45.574083",
     "status": "completed"
    },
    "tags": []
   },
   "outputs": [
    {
     "name": "stdout",
     "output_type": "stream",
     "text": [
      "\u001b[1m77/77\u001b[0m \u001b[32m━━━━━━━━━━━━━━━━━━━━\u001b[0m\u001b[37m\u001b[0m \u001b[1m60s\u001b[0m 763ms/step\n"
     ]
    },
    {
     "data": {
      "image/png": "[encoded data removed]",
      "text/plain": [
       "<Figure size 1000x800 with 2 Axes>"
      ]
     },
     "metadata": {},
     "output_type": "display_data"
    }
   ],
   "source": [
    "# make a confusion matrix\n",
    "\n",
    "from sklearn.metrics import confusion_matrix\n",
    "\n",
    "class_names = list(holdout_generator.class_indices.keys())  \n",
    "\n",
    "# Generate predictions for the validation dataset\n",
    "predictions = model.predict(validation_generator)\n",
    "\n",
    "# Convert predictions from probabilities to class labels\n",
    "predicted_labels = np.argmax(predictions, axis=1)\n",
    "\n",
    "# Extract true labels from the validation generator\n",
    "true_labels = validation_generator.classes\n",
    "\n",
    "# Compute confusion matrix\n",
    "conf_matrix = confusion_matrix(true_labels, predicted_labels)\n",
    "\n",
    "# Visualize confusion matrix\n",
    "plt.figure(figsize=(10, 8))\n",
    "plt.imshow(conf_matrix, interpolation='nearest', cmap=plt.cm.Blues)\n",
    "plt.title('Confusion Matrix')\n",
    "plt.colorbar()\n",
    "tick_marks = np.arange(len(class_names))\n",
    "plt.xticks(tick_marks, class_names, rotation=45)\n",
    "plt.yticks(tick_marks, class_names)\n",
    "plt.ylabel('True Label')\n",
    "plt.xlabel('Predicted Label')\n",
    "plt.tight_layout()\n",
    "plt.show()\n"
   ]
  },
  {
   "cell_type": "code",
   "execution_count": 12,
   "id": "8c713268",
   "metadata": {
    "execution": {
     "iopub.execute_input": "2024-04-28T17:13:47.183663Z",
     "iopub.status.busy": "2024-04-28T17:13:47.183208Z",
     "iopub.status.idle": "2024-04-28T17:13:47.256057Z",
     "shell.execute_reply": "2024-04-28T17:13:47.254942Z"
    },
    "papermill": {
     "duration": 0.321554,
     "end_time": "2024-04-28T17:13:47.259250",
     "exception": false,
     "start_time": "2024-04-28T17:13:46.937696",
     "status": "completed"
    },
    "tags": []
   },
   "outputs": [],
   "source": [
    "model.save_weights('./model_one_weights.weights.h5')"
   ]
  },
  {
   "cell_type": "markdown",
   "id": "68d7b49c",
   "metadata": {
    "papermill": {
     "duration": 0.261371,
     "end_time": "2024-04-28T17:13:47.786280",
     "exception": false,
     "start_time": "2024-04-28T17:13:47.524909",
     "status": "completed"
    },
    "tags": []
   },
   "source": [
    "# **Model 2 (with data aug):**"
   ]
  },
  {
   "cell_type": "code",
   "execution_count": 13,
   "id": "6805ae08",
   "metadata": {
    "execution": {
     "iopub.execute_input": "2024-04-28T17:13:48.302566Z",
     "iopub.status.busy": "2024-04-28T17:13:48.302171Z",
     "iopub.status.idle": "2024-04-28T17:13:48.314837Z",
     "shell.execute_reply": "2024-04-28T17:13:48.313581Z"
    },
    "papermill": {
     "duration": 0.272753,
     "end_time": "2024-04-28T17:13:48.317097",
     "exception": false,
     "start_time": "2024-04-28T17:13:48.044344",
     "status": "completed"
    },
    "tags": []
   },
   "outputs": [],
   "source": [
    "import random \n",
    "\n",
    "def augment_data(image):\n",
    "    \n",
    "    if tf.random.uniform((),minval=0,maxval=1) <0.05:\n",
    "        image = tf.image.flip_left_right(image) #flip left right\n",
    "        \n",
    "    if tf.random.uniform((),minval=0,maxval=1) <0.05:\n",
    "        image = tf.image.adjust_saturation(image, 0) #make grayscale\n",
    "        \n",
    "    if tf.random.uniform((),minval=0,maxval=1) <0.05:\n",
    "        rand = random.randint(1, 5)\n",
    "        image = tf.image.adjust_saturation(image, 5) #adjusts saturation \n",
    "\n",
    "    if tf.random.uniform((),minval=0,maxval=1) <0.05:\n",
    "        rand = random.uniform(0.01, 0.1)\n",
    "        image = tf.image.adjust_brightness(image, rand) #adjusts brightness\n",
    "\n",
    "    if tf.random.uniform((),minval=0,maxval=1) <0.05:\n",
    "        minx = random.randint(10, 70)\n",
    "        manx = random.randint(80, 100)\n",
    "        tf.image.random_jpeg_quality(image, minx, manx, seed=None) #adjusts jpeg quality\n",
    "\n",
    "    if tf.random.uniform((),minval=0,maxval=1) <0.05:\n",
    "        rand = random.uniform(0.01, 0.05)\n",
    "        image = tf.image.random_hue(image, rand, seed= None) #adjusts hue \n",
    "    \n",
    "    return image"
   ]
  },
  {
   "cell_type": "code",
   "execution_count": 14,
   "id": "f440897e",
   "metadata": {
    "execution": {
     "iopub.execute_input": "2024-04-28T17:13:48.803677Z",
     "iopub.status.busy": "2024-04-28T17:13:48.803196Z",
     "iopub.status.idle": "2024-04-28T17:15:46.825728Z",
     "shell.execute_reply": "2024-04-28T17:15:46.824390Z"
    },
    "papermill": {
     "duration": 118.50285,
     "end_time": "2024-04-28T17:15:47.062565",
     "exception": false,
     "start_time": "2024-04-28T17:13:48.559715",
     "status": "completed"
    },
    "tags": []
   },
   "outputs": [
    {
     "name": "stdout",
     "output_type": "stream",
     "text": [
      "Found 58725 validated image filenames belonging to 29 classes.\n",
      "Found 19575 validated image filenames belonging to 29 classes.\n",
      "Found 8700 validated image filenames belonging to 29 classes.\n"
     ]
    }
   ],
   "source": [
    "img_width, img_height = 64, 64\n",
    "batch_size = 256\n",
    "y_col = 'label'\n",
    "x_col = 'path'\n",
    "no_of_classes = len(data_df[y_col].unique())\n",
    "\n",
    "\n",
    "train_datagen = ImageDataGenerator(rescale = 1/255.0, preprocessing_function=augment_data) #augements data using function we made\n",
    "\n",
    "train_generator = train_datagen.flow_from_dataframe(\n",
    "\tdataframe=x_train,x_col=x_col, y_col=y_col,\n",
    "\ttarget_size=(img_width, img_height),class_mode='categorical', batch_size=batch_size,\n",
    "\tshuffle=False,\n",
    ")\n",
    "\n",
    "validation_datagen = ImageDataGenerator(rescale = 1/255.0)\n",
    "validation_generator = validation_datagen.flow_from_dataframe(\n",
    "\tdataframe=x_test, x_col=x_col, y_col=y_col,\n",
    "\ttarget_size=(img_width, img_height), class_mode='categorical', batch_size=batch_size,\n",
    "\tshuffle=False\n",
    ")\n",
    "\n",
    "holdout_datagen = ImageDataGenerator(rescale = 1/255.0)\n",
    "holdout_generator = holdout_datagen.flow_from_dataframe(\n",
    "\tdataframe=x_holdout, x_col=x_col, y_col=y_col,\n",
    "\ttarget_size=(img_width, img_height), class_mode='categorical', batch_size=batch_size,\n",
    "\tshuffle=False\n",
    ")"
   ]
  },
  {
   "cell_type": "code",
   "execution_count": 15,
   "id": "528f3dc7",
   "metadata": {
    "execution": {
     "iopub.execute_input": "2024-04-28T17:15:47.547760Z",
     "iopub.status.busy": "2024-04-28T17:15:47.547366Z",
     "iopub.status.idle": "2024-04-28T17:15:47.764988Z",
     "shell.execute_reply": "2024-04-28T17:15:47.763341Z"
    },
    "papermill": {
     "duration": 0.463194,
     "end_time": "2024-04-28T17:15:47.767462",
     "exception": false,
     "start_time": "2024-04-28T17:15:47.304268",
     "status": "completed"
    },
    "tags": []
   },
   "outputs": [
    {
     "name": "stderr",
     "output_type": "stream",
     "text": [
      "/opt/conda/lib/python3.10/site-packages/keras/src/layers/convolutional/base_conv.py:99: UserWarning: Do not pass an `input_shape`/`input_dim` argument to a layer. When using Sequential models, prefer using an `Input(shape)` object as the first layer in the model instead.\n",
      "  super().__init__(\n"
     ]
    }
   ],
   "source": [
    "aug_model = Sequential()\n",
    "\n",
    "aug_model.add(Conv2D(filters = 32, kernel_size = (5,5),padding = 'Same',activation ='relu', input_shape = (64,64,3)))\n",
    "aug_model.add(MaxPooling2D(pool_size = (2,2), strides = (2,2)))\n",
    "aug_model.add(Dropout(0.3))\n",
    "\n",
    "aug_model.add(Conv2D(filters = 64, kernel_size = (5,5),padding = 'Same',activation ='relu', input_shape = (150,150,3))) # why does input shape change to 150\n",
    "aug_model.add(MaxPooling2D(pool_size = (2,2), strides = (2,2)))\n",
    "aug_model.add(Dropout(0.3))\n",
    "\n",
    "aug_model.add(Conv2D(filters = 64, kernel_size = (5,5),padding = 'Same',activation ='relu', input_shape = (150,150,3)))\n",
    "aug_model.add(MaxPooling2D(pool_size = (2,2), strides = (2,2)))\n",
    "aug_model.add(Dropout(0.3))\n",
    "\n",
    "aug_model.add(Conv2D(filters = 128, kernel_size = (5,5),padding = 'Same',activation ='relu', input_shape = (150,150,3)))\n",
    "aug_model.add(MaxPooling2D(pool_size = (2,2), strides = (2,2)))\n",
    "\n",
    "aug_model.add(Flatten())\n",
    "aug_model.add(Dense(256))\n",
    "aug_model.add(Dense(29, activation = \"softmax\"))"
   ]
  },
  {
   "cell_type": "code",
   "execution_count": 16,
   "id": "f38cfe9e",
   "metadata": {
    "execution": {
     "iopub.execute_input": "2024-04-28T17:15:48.254965Z",
     "iopub.status.busy": "2024-04-28T17:15:48.254537Z",
     "iopub.status.idle": "2024-04-28T17:15:48.300165Z",
     "shell.execute_reply": "2024-04-28T17:15:48.298971Z"
    },
    "papermill": {
     "duration": 0.292909,
     "end_time": "2024-04-28T17:15:48.302560",
     "exception": false,
     "start_time": "2024-04-28T17:15:48.009651",
     "status": "completed"
    },
    "tags": []
   },
   "outputs": [
    {
     "data": {
      "text/html": [
       "<pre style=\"white-space:pre;overflow-x:auto;line-height:normal;font-family:Menlo,'DejaVu Sans Mono',consolas,'Courier New',monospace\"><span style=\"font-weight: bold\">Model: \"sequential_1\"</span>\n",
       "</pre>\n"
      ],
      "text/plain": [
       "\u001b[1mModel: \"sequential_1\"\u001b[0m\n"
      ]
     },
     "metadata": {},
     "output_type": "display_data"
    },
    {
     "data": {
      "text/html": [
       "<pre style=\"white-space:pre;overflow-x:auto;line-height:normal;font-family:Menlo,'DejaVu Sans Mono',consolas,'Courier New',monospace\">┏━━━━━━━━━━━━━━━━━━━━━━━━━━━━━━━━━┳━━━━━━━━━━━━━━━━━━━━━━━━┳━━━━━━━━━━━━━━━┓\n",
       "┃<span style=\"font-weight: bold\"> Layer (type)                    </span>┃<span style=\"font-weight: bold\"> Output Shape           </span>┃<span style=\"font-weight: bold\">       Param # </span>┃\n",
       "┡━━━━━━━━━━━━━━━━━━━━━━━━━━━━━━━━━╇━━━━━━━━━━━━━━━━━━━━━━━━╇━━━━━━━━━━━━━━━┩\n",
       "│ conv2d_4 (<span style=\"color: #0087ff; text-decoration-color: #0087ff\">Conv2D</span>)               │ (<span style=\"color: #00d7ff; text-decoration-color: #00d7ff\">None</span>, <span style=\"color: #00af00; text-decoration-color: #00af00\">64</span>, <span style=\"color: #00af00; text-decoration-color: #00af00\">64</span>, <span style=\"color: #00af00; text-decoration-color: #00af00\">32</span>)     │         <span style=\"color: #00af00; text-decoration-color: #00af00\">2,432</span> │\n",
       "├─────────────────────────────────┼────────────────────────┼───────────────┤\n",
       "│ max_pooling2d_4 (<span style=\"color: #0087ff; text-decoration-color: #0087ff\">MaxPooling2D</span>)  │ (<span style=\"color: #00d7ff; text-decoration-color: #00d7ff\">None</span>, <span style=\"color: #00af00; text-decoration-color: #00af00\">32</span>, <span style=\"color: #00af00; text-decoration-color: #00af00\">32</span>, <span style=\"color: #00af00; text-decoration-color: #00af00\">32</span>)     │             <span style=\"color: #00af00; text-decoration-color: #00af00\">0</span> │\n",
       "├─────────────────────────────────┼────────────────────────┼───────────────┤\n",
       "│ dropout_3 (<span style=\"color: #0087ff; text-decoration-color: #0087ff\">Dropout</span>)             │ (<span style=\"color: #00d7ff; text-decoration-color: #00d7ff\">None</span>, <span style=\"color: #00af00; text-decoration-color: #00af00\">32</span>, <span style=\"color: #00af00; text-decoration-color: #00af00\">32</span>, <span style=\"color: #00af00; text-decoration-color: #00af00\">32</span>)     │             <span style=\"color: #00af00; text-decoration-color: #00af00\">0</span> │\n",
       "├─────────────────────────────────┼────────────────────────┼───────────────┤\n",
       "│ conv2d_5 (<span style=\"color: #0087ff; text-decoration-color: #0087ff\">Conv2D</span>)               │ (<span style=\"color: #00d7ff; text-decoration-color: #00d7ff\">None</span>, <span style=\"color: #00af00; text-decoration-color: #00af00\">32</span>, <span style=\"color: #00af00; text-decoration-color: #00af00\">32</span>, <span style=\"color: #00af00; text-decoration-color: #00af00\">64</span>)     │        <span style=\"color: #00af00; text-decoration-color: #00af00\">51,264</span> │\n",
       "├─────────────────────────────────┼────────────────────────┼───────────────┤\n",
       "│ max_pooling2d_5 (<span style=\"color: #0087ff; text-decoration-color: #0087ff\">MaxPooling2D</span>)  │ (<span style=\"color: #00d7ff; text-decoration-color: #00d7ff\">None</span>, <span style=\"color: #00af00; text-decoration-color: #00af00\">16</span>, <span style=\"color: #00af00; text-decoration-color: #00af00\">16</span>, <span style=\"color: #00af00; text-decoration-color: #00af00\">64</span>)     │             <span style=\"color: #00af00; text-decoration-color: #00af00\">0</span> │\n",
       "├─────────────────────────────────┼────────────────────────┼───────────────┤\n",
       "│ dropout_4 (<span style=\"color: #0087ff; text-decoration-color: #0087ff\">Dropout</span>)             │ (<span style=\"color: #00d7ff; text-decoration-color: #00d7ff\">None</span>, <span style=\"color: #00af00; text-decoration-color: #00af00\">16</span>, <span style=\"color: #00af00; text-decoration-color: #00af00\">16</span>, <span style=\"color: #00af00; text-decoration-color: #00af00\">64</span>)     │             <span style=\"color: #00af00; text-decoration-color: #00af00\">0</span> │\n",
       "├─────────────────────────────────┼────────────────────────┼───────────────┤\n",
       "│ conv2d_6 (<span style=\"color: #0087ff; text-decoration-color: #0087ff\">Conv2D</span>)               │ (<span style=\"color: #00d7ff; text-decoration-color: #00d7ff\">None</span>, <span style=\"color: #00af00; text-decoration-color: #00af00\">16</span>, <span style=\"color: #00af00; text-decoration-color: #00af00\">16</span>, <span style=\"color: #00af00; text-decoration-color: #00af00\">64</span>)     │       <span style=\"color: #00af00; text-decoration-color: #00af00\">102,464</span> │\n",
       "├─────────────────────────────────┼────────────────────────┼───────────────┤\n",
       "│ max_pooling2d_6 (<span style=\"color: #0087ff; text-decoration-color: #0087ff\">MaxPooling2D</span>)  │ (<span style=\"color: #00d7ff; text-decoration-color: #00d7ff\">None</span>, <span style=\"color: #00af00; text-decoration-color: #00af00\">8</span>, <span style=\"color: #00af00; text-decoration-color: #00af00\">8</span>, <span style=\"color: #00af00; text-decoration-color: #00af00\">64</span>)       │             <span style=\"color: #00af00; text-decoration-color: #00af00\">0</span> │\n",
       "├─────────────────────────────────┼────────────────────────┼───────────────┤\n",
       "│ dropout_5 (<span style=\"color: #0087ff; text-decoration-color: #0087ff\">Dropout</span>)             │ (<span style=\"color: #00d7ff; text-decoration-color: #00d7ff\">None</span>, <span style=\"color: #00af00; text-decoration-color: #00af00\">8</span>, <span style=\"color: #00af00; text-decoration-color: #00af00\">8</span>, <span style=\"color: #00af00; text-decoration-color: #00af00\">64</span>)       │             <span style=\"color: #00af00; text-decoration-color: #00af00\">0</span> │\n",
       "├─────────────────────────────────┼────────────────────────┼───────────────┤\n",
       "│ conv2d_7 (<span style=\"color: #0087ff; text-decoration-color: #0087ff\">Conv2D</span>)               │ (<span style=\"color: #00d7ff; text-decoration-color: #00d7ff\">None</span>, <span style=\"color: #00af00; text-decoration-color: #00af00\">8</span>, <span style=\"color: #00af00; text-decoration-color: #00af00\">8</span>, <span style=\"color: #00af00; text-decoration-color: #00af00\">128</span>)      │       <span style=\"color: #00af00; text-decoration-color: #00af00\">204,928</span> │\n",
       "├─────────────────────────────────┼────────────────────────┼───────────────┤\n",
       "│ max_pooling2d_7 (<span style=\"color: #0087ff; text-decoration-color: #0087ff\">MaxPooling2D</span>)  │ (<span style=\"color: #00d7ff; text-decoration-color: #00d7ff\">None</span>, <span style=\"color: #00af00; text-decoration-color: #00af00\">4</span>, <span style=\"color: #00af00; text-decoration-color: #00af00\">4</span>, <span style=\"color: #00af00; text-decoration-color: #00af00\">128</span>)      │             <span style=\"color: #00af00; text-decoration-color: #00af00\">0</span> │\n",
       "├─────────────────────────────────┼────────────────────────┼───────────────┤\n",
       "│ flatten_1 (<span style=\"color: #0087ff; text-decoration-color: #0087ff\">Flatten</span>)             │ (<span style=\"color: #00d7ff; text-decoration-color: #00d7ff\">None</span>, <span style=\"color: #00af00; text-decoration-color: #00af00\">2048</span>)           │             <span style=\"color: #00af00; text-decoration-color: #00af00\">0</span> │\n",
       "├─────────────────────────────────┼────────────────────────┼───────────────┤\n",
       "│ dense_2 (<span style=\"color: #0087ff; text-decoration-color: #0087ff\">Dense</span>)                 │ (<span style=\"color: #00d7ff; text-decoration-color: #00d7ff\">None</span>, <span style=\"color: #00af00; text-decoration-color: #00af00\">256</span>)            │       <span style=\"color: #00af00; text-decoration-color: #00af00\">524,544</span> │\n",
       "├─────────────────────────────────┼────────────────────────┼───────────────┤\n",
       "│ dense_3 (<span style=\"color: #0087ff; text-decoration-color: #0087ff\">Dense</span>)                 │ (<span style=\"color: #00d7ff; text-decoration-color: #00d7ff\">None</span>, <span style=\"color: #00af00; text-decoration-color: #00af00\">29</span>)             │         <span style=\"color: #00af00; text-decoration-color: #00af00\">7,453</span> │\n",
       "└─────────────────────────────────┴────────────────────────┴───────────────┘\n",
       "</pre>\n"
      ],
      "text/plain": [
       "┏━━━━━━━━━━━━━━━━━━━━━━━━━━━━━━━━━┳━━━━━━━━━━━━━━━━━━━━━━━━┳━━━━━━━━━━━━━━━┓\n",
       "┃\u001b[1m \u001b[0m\u001b[1mLayer (type)                   \u001b[0m\u001b[1m \u001b[0m┃\u001b[1m \u001b[0m\u001b[1mOutput Shape          \u001b[0m\u001b[1m \u001b[0m┃\u001b[1m \u001b[0m\u001b[1m      Param #\u001b[0m\u001b[1m \u001b[0m┃\n",
       "┡━━━━━━━━━━━━━━━━━━━━━━━━━━━━━━━━━╇━━━━━━━━━━━━━━━━━━━━━━━━╇━━━━━━━━━━━━━━━┩\n",
       "│ conv2d_4 (\u001b[38;5;33mConv2D\u001b[0m)               │ (\u001b[38;5;45mNone\u001b[0m, \u001b[38;5;34m64\u001b[0m, \u001b[38;5;34m64\u001b[0m, \u001b[38;5;34m32\u001b[0m)     │         \u001b[38;5;34m2,432\u001b[0m │\n",
       "├─────────────────────────────────┼────────────────────────┼───────────────┤\n",
       "│ max_pooling2d_4 (\u001b[38;5;33mMaxPooling2D\u001b[0m)  │ (\u001b[38;5;45mNone\u001b[0m, \u001b[38;5;34m32\u001b[0m, \u001b[38;5;34m32\u001b[0m, \u001b[38;5;34m32\u001b[0m)     │             \u001b[38;5;34m0\u001b[0m │\n",
       "├─────────────────────────────────┼────────────────────────┼───────────────┤\n",
       "│ dropout_3 (\u001b[38;5;33mDropout\u001b[0m)             │ (\u001b[38;5;45mNone\u001b[0m, \u001b[38;5;34m32\u001b[0m, \u001b[38;5;34m32\u001b[0m, \u001b[38;5;34m32\u001b[0m)     │             \u001b[38;5;34m0\u001b[0m │\n",
       "├─────────────────────────────────┼────────────────────────┼───────────────┤\n",
       "│ conv2d_5 (\u001b[38;5;33mConv2D\u001b[0m)               │ (\u001b[38;5;45mNone\u001b[0m, \u001b[38;5;34m32\u001b[0m, \u001b[38;5;34m32\u001b[0m, \u001b[38;5;34m64\u001b[0m)     │        \u001b[38;5;34m51,264\u001b[0m │\n",
       "├─────────────────────────────────┼────────────────────────┼───────────────┤\n",
       "│ max_pooling2d_5 (\u001b[38;5;33mMaxPooling2D\u001b[0m)  │ (\u001b[38;5;45mNone\u001b[0m, \u001b[38;5;34m16\u001b[0m, \u001b[38;5;34m16\u001b[0m, \u001b[38;5;34m64\u001b[0m)     │             \u001b[38;5;34m0\u001b[0m │\n",
       "├─────────────────────────────────┼────────────────────────┼───────────────┤\n",
       "│ dropout_4 (\u001b[38;5;33mDropout\u001b[0m)             │ (\u001b[38;5;45mNone\u001b[0m, \u001b[38;5;34m16\u001b[0m, \u001b[38;5;34m16\u001b[0m, \u001b[38;5;34m64\u001b[0m)     │             \u001b[38;5;34m0\u001b[0m │\n",
       "├─────────────────────────────────┼────────────────────────┼───────────────┤\n",
       "│ conv2d_6 (\u001b[38;5;33mConv2D\u001b[0m)               │ (\u001b[38;5;45mNone\u001b[0m, \u001b[38;5;34m16\u001b[0m, \u001b[38;5;34m16\u001b[0m, \u001b[38;5;34m64\u001b[0m)     │       \u001b[38;5;34m102,464\u001b[0m │\n",
       "├─────────────────────────────────┼────────────────────────┼───────────────┤\n",
       "│ max_pooling2d_6 (\u001b[38;5;33mMaxPooling2D\u001b[0m)  │ (\u001b[38;5;45mNone\u001b[0m, \u001b[38;5;34m8\u001b[0m, \u001b[38;5;34m8\u001b[0m, \u001b[38;5;34m64\u001b[0m)       │             \u001b[38;5;34m0\u001b[0m │\n",
       "├─────────────────────────────────┼────────────────────────┼───────────────┤\n",
       "│ dropout_5 (\u001b[38;5;33mDropout\u001b[0m)             │ (\u001b[38;5;45mNone\u001b[0m, \u001b[38;5;34m8\u001b[0m, \u001b[38;5;34m8\u001b[0m, \u001b[38;5;34m64\u001b[0m)       │             \u001b[38;5;34m0\u001b[0m │\n",
       "├─────────────────────────────────┼────────────────────────┼───────────────┤\n",
       "│ conv2d_7 (\u001b[38;5;33mConv2D\u001b[0m)               │ (\u001b[38;5;45mNone\u001b[0m, \u001b[38;5;34m8\u001b[0m, \u001b[38;5;34m8\u001b[0m, \u001b[38;5;34m128\u001b[0m)      │       \u001b[38;5;34m204,928\u001b[0m │\n",
       "├─────────────────────────────────┼────────────────────────┼───────────────┤\n",
       "│ max_pooling2d_7 (\u001b[38;5;33mMaxPooling2D\u001b[0m)  │ (\u001b[38;5;45mNone\u001b[0m, \u001b[38;5;34m4\u001b[0m, \u001b[38;5;34m4\u001b[0m, \u001b[38;5;34m128\u001b[0m)      │             \u001b[38;5;34m0\u001b[0m │\n",
       "├─────────────────────────────────┼────────────────────────┼───────────────┤\n",
       "│ flatten_1 (\u001b[38;5;33mFlatten\u001b[0m)             │ (\u001b[38;5;45mNone\u001b[0m, \u001b[38;5;34m2048\u001b[0m)           │             \u001b[38;5;34m0\u001b[0m │\n",
       "├─────────────────────────────────┼────────────────────────┼───────────────┤\n",
       "│ dense_2 (\u001b[38;5;33mDense\u001b[0m)                 │ (\u001b[38;5;45mNone\u001b[0m, \u001b[38;5;34m256\u001b[0m)            │       \u001b[38;5;34m524,544\u001b[0m │\n",
       "├─────────────────────────────────┼────────────────────────┼───────────────┤\n",
       "│ dense_3 (\u001b[38;5;33mDense\u001b[0m)                 │ (\u001b[38;5;45mNone\u001b[0m, \u001b[38;5;34m29\u001b[0m)             │         \u001b[38;5;34m7,453\u001b[0m │\n",
       "└─────────────────────────────────┴────────────────────────┴───────────────┘\n"
      ]
     },
     "metadata": {},
     "output_type": "display_data"
    },
    {
     "data": {
      "text/html": [
       "<pre style=\"white-space:pre;overflow-x:auto;line-height:normal;font-family:Menlo,'DejaVu Sans Mono',consolas,'Courier New',monospace\"><span style=\"font-weight: bold\"> Total params: </span><span style=\"color: #00af00; text-decoration-color: #00af00\">893,085</span> (3.41 MB)\n",
       "</pre>\n"
      ],
      "text/plain": [
       "\u001b[1m Total params: \u001b[0m\u001b[38;5;34m893,085\u001b[0m (3.41 MB)\n"
      ]
     },
     "metadata": {},
     "output_type": "display_data"
    },
    {
     "data": {
      "text/html": [
       "<pre style=\"white-space:pre;overflow-x:auto;line-height:normal;font-family:Menlo,'DejaVu Sans Mono',consolas,'Courier New',monospace\"><span style=\"font-weight: bold\"> Trainable params: </span><span style=\"color: #00af00; text-decoration-color: #00af00\">893,085</span> (3.41 MB)\n",
       "</pre>\n"
      ],
      "text/plain": [
       "\u001b[1m Trainable params: \u001b[0m\u001b[38;5;34m893,085\u001b[0m (3.41 MB)\n"
      ]
     },
     "metadata": {},
     "output_type": "display_data"
    },
    {
     "data": {
      "text/html": [
       "<pre style=\"white-space:pre;overflow-x:auto;line-height:normal;font-family:Menlo,'DejaVu Sans Mono',consolas,'Courier New',monospace\"><span style=\"font-weight: bold\"> Non-trainable params: </span><span style=\"color: #00af00; text-decoration-color: #00af00\">0</span> (0.00 B)\n",
       "</pre>\n"
      ],
      "text/plain": [
       "\u001b[1m Non-trainable params: \u001b[0m\u001b[38;5;34m0\u001b[0m (0.00 B)\n"
      ]
     },
     "metadata": {},
     "output_type": "display_data"
    }
   ],
   "source": [
    "aug_model.compile(loss='categorical_crossentropy',optimizer=Adam(learning_rate=0.001),metrics=['accuracy'])\n",
    "aug_model.summary()"
   ]
  },
  {
   "cell_type": "code",
   "execution_count": 17,
   "id": "6708baed",
   "metadata": {
    "execution": {
     "iopub.execute_input": "2024-04-28T17:15:48.795812Z",
     "iopub.status.busy": "2024-04-28T17:15:48.795330Z",
     "iopub.status.idle": "2024-04-28T19:18:59.432105Z",
     "shell.execute_reply": "2024-04-28T19:18:59.430464Z"
    },
    "papermill": {
     "duration": 7391.402268,
     "end_time": "2024-04-28T19:18:59.948614",
     "exception": false,
     "start_time": "2024-04-28T17:15:48.546346",
     "status": "completed"
    },
    "tags": []
   },
   "outputs": [
    {
     "name": "stdout",
     "output_type": "stream",
     "text": [
      "Epoch 1/10\n"
     ]
    },
    {
     "name": "stderr",
     "output_type": "stream",
     "text": [
      "/opt/conda/lib/python3.10/site-packages/keras/src/trainers/data_adapters/py_dataset_adapter.py:122: UserWarning: Your `PyDataset` class should call `super().__init__(**kwargs)` in its constructor. `**kwargs` can include `workers`, `use_multiprocessing`, `max_queue_size`. Do not pass these arguments to `fit()`, as they will be ignored.\n",
      "  self._warn_if_super_not_called()\n"
     ]
    },
    {
     "name": "stdout",
     "output_type": "stream",
     "text": [
      "\u001b[1m230/230\u001b[0m \u001b[32m━━━━━━━━━━━━━━━━━━━━\u001b[0m\u001b[37m\u001b[0m \u001b[1m738s\u001b[0m 3s/step - accuracy: 0.1273 - loss: 3.0370 - val_accuracy: 0.7349 - val_loss: 0.8366\n",
      "Epoch 2/10\n",
      "\u001b[1m230/230\u001b[0m \u001b[32m━━━━━━━━━━━━━━━━━━━━\u001b[0m\u001b[37m\u001b[0m \u001b[1m738s\u001b[0m 3s/step - accuracy: 0.7557 - loss: 0.7955 - val_accuracy: 0.9424 - val_loss: 0.1951\n",
      "Epoch 3/10\n",
      "\u001b[1m230/230\u001b[0m \u001b[32m━━━━━━━━━━━━━━━━━━━━\u001b[0m\u001b[37m\u001b[0m \u001b[1m739s\u001b[0m 3s/step - accuracy: 0.8948 - loss: 0.3262 - val_accuracy: 0.9757 - val_loss: 0.0806\n",
      "Epoch 4/10\n",
      "\u001b[1m230/230\u001b[0m \u001b[32m━━━━━━━━━━━━━━━━━━━━\u001b[0m\u001b[37m\u001b[0m \u001b[1m741s\u001b[0m 3s/step - accuracy: 0.9355 - loss: 0.2045 - val_accuracy: 0.9890 - val_loss: 0.0450\n",
      "Epoch 5/10\n",
      "\u001b[1m230/230\u001b[0m \u001b[32m━━━━━━━━━━━━━━━━━━━━\u001b[0m\u001b[37m\u001b[0m \u001b[1m742s\u001b[0m 3s/step - accuracy: 0.9520 - loss: 0.1523 - val_accuracy: 0.9926 - val_loss: 0.0275\n",
      "Epoch 6/10\n",
      "\u001b[1m230/230\u001b[0m \u001b[32m━━━━━━━━━━━━━━━━━━━━\u001b[0m\u001b[37m\u001b[0m \u001b[1m737s\u001b[0m 3s/step - accuracy: 0.9645 - loss: 0.1122 - val_accuracy: 0.9934 - val_loss: 0.0250\n",
      "Epoch 7/10\n",
      "\u001b[1m230/230\u001b[0m \u001b[32m━━━━━━━━━━━━━━━━━━━━\u001b[0m\u001b[37m\u001b[0m \u001b[1m736s\u001b[0m 3s/step - accuracy: 0.9672 - loss: 0.1030 - val_accuracy: 0.9893 - val_loss: 0.0291\n",
      "Epoch 8/10\n",
      "\u001b[1m230/230\u001b[0m \u001b[32m━━━━━━━━━━━━━━━━━━━━\u001b[0m\u001b[37m\u001b[0m \u001b[1m741s\u001b[0m 3s/step - accuracy: 0.9695 - loss: 0.0959 - val_accuracy: 0.9978 - val_loss: 0.0121\n",
      "Epoch 9/10\n",
      "\u001b[1m230/230\u001b[0m \u001b[32m━━━━━━━━━━━━━━━━━━━━\u001b[0m\u001b[37m\u001b[0m \u001b[1m738s\u001b[0m 3s/step - accuracy: 0.9740 - loss: 0.0803 - val_accuracy: 0.9980 - val_loss: 0.0066\n",
      "Epoch 10/10\n",
      "\u001b[1m230/230\u001b[0m \u001b[32m━━━━━━━━━━━━━━━━━━━━\u001b[0m\u001b[37m\u001b[0m \u001b[1m739s\u001b[0m 3s/step - accuracy: 0.9772 - loss: 0.0712 - val_accuracy: 0.9949 - val_loss: 0.0215\n"
     ]
    }
   ],
   "source": [
    "early_stop = EarlyStopping(monitor='val_loss',patience=5)\n",
    "\n",
    "batch_size=128\n",
    "epochs=10\n",
    "\n",
    "aug_history = aug_model.fit(train_generator,\n",
    "                    epochs=epochs,\n",
    "                    verbose=1,\n",
    "                    validation_data=validation_generator,\n",
    "                    callbacks = [early_stop],)"
   ]
  },
  {
   "cell_type": "code",
   "execution_count": 18,
   "id": "dee87bf7",
   "metadata": {
    "execution": {
     "iopub.execute_input": "2024-04-28T19:19:01.029639Z",
     "iopub.status.busy": "2024-04-28T19:19:01.027004Z",
     "iopub.status.idle": "2024-04-28T19:19:01.376605Z",
     "shell.execute_reply": "2024-04-28T19:19:01.375302Z"
    },
    "papermill": {
     "duration": 0.93962,
     "end_time": "2024-04-28T19:19:01.379534",
     "exception": false,
     "start_time": "2024-04-28T19:19:00.439914",
     "status": "completed"
    },
    "tags": []
   },
   "outputs": [
    {
     "data": {
      "image/png": "[encoded data removed]",
      "text/plain": [
       "<Figure size 640x480 with 1 Axes>"
      ]
     },
     "metadata": {},
     "output_type": "display_data"
    }
   ],
   "source": [
    "#Plot accuracy \n",
    "\n",
    "plt.plot(aug_history.history['accuracy'], label='Training accuracy')\n",
    "plt.plot(aug_history.history['val_accuracy'], label='Validation accuracy')\n",
    "plt.xlabel('Epoch')\n",
    "plt.ylabel('Accuracy')\n",
    "plt.title('Training and ValidationAaccuracy')\n",
    "plt.legend()\n",
    "plt.show()"
   ]
  },
  {
   "cell_type": "code",
   "execution_count": 19,
   "id": "b2dbe4a1",
   "metadata": {
    "execution": {
     "iopub.execute_input": "2024-04-28T19:19:02.412589Z",
     "iopub.status.busy": "2024-04-28T19:19:02.412035Z",
     "iopub.status.idle": "2024-04-28T19:19:02.747690Z",
     "shell.execute_reply": "2024-04-28T19:19:02.746171Z"
    },
    "papermill": {
     "duration": 0.85724,
     "end_time": "2024-04-28T19:19:02.750857",
     "exception": false,
     "start_time": "2024-04-28T19:19:01.893617",
     "status": "completed"
    },
    "tags": []
   },
   "outputs": [
    {
     "data": {
      "image/png": "[encoded data removed]",
      "text/plain": [
       "<Figure size 640x480 with 1 Axes>"
      ]
     },
     "metadata": {},
     "output_type": "display_data"
    }
   ],
   "source": [
    "#plot loss\n",
    "\n",
    "plt.plot(aug_history.history['loss'], label='Training Loss')\n",
    "plt.plot(aug_history.history['val_loss'], label='Validation Loss')\n",
    "plt.title('Training and Validation Loss')\n",
    "plt.xlabel('Epoch')\n",
    "plt.ylabel('Loss')\n",
    "plt.legend()\n",
    "plt.show()"
   ]
  },
  {
   "cell_type": "code",
   "execution_count": 20,
   "id": "b80aa9fa",
   "metadata": {
    "execution": {
     "iopub.execute_input": "2024-04-28T19:19:03.753165Z",
     "iopub.status.busy": "2024-04-28T19:19:03.751743Z",
     "iopub.status.idle": "2024-04-28T19:20:05.219486Z",
     "shell.execute_reply": "2024-04-28T19:20:05.217928Z"
    },
    "papermill": {
     "duration": 61.948115,
     "end_time": "2024-04-28T19:20:05.222673",
     "exception": false,
     "start_time": "2024-04-28T19:19:03.274558",
     "status": "completed"
    },
    "tags": []
   },
   "outputs": [
    {
     "name": "stdout",
     "output_type": "stream",
     "text": [
      "\u001b[1m77/77\u001b[0m \u001b[32m━━━━━━━━━━━━━━━━━━━━\u001b[0m\u001b[37m\u001b[0m \u001b[1m60s\u001b[0m 773ms/step\n"
     ]
    },
    {
     "data": {
      "image/png": "[encoded data removed]",
      "text/plain": [
       "<Figure size 1000x800 with 2 Axes>"
      ]
     },
     "metadata": {},
     "output_type": "display_data"
    }
   ],
   "source": [
    "class_names = list(holdout_generator.class_indices.keys())  \n",
    "\n",
    "# Generate predictions for the validation dataset\n",
    "predictions = aug_model.predict(validation_generator)\n",
    "\n",
    "# Convert predictions from probabilities to class labels\n",
    "predicted_labels = np.argmax(predictions, axis=1)\n",
    "\n",
    "# Extract true labels from the validation generator\n",
    "true_labels = validation_generator.classes\n",
    "\n",
    "# Compute confusion matrix\n",
    "conf_matrix = confusion_matrix(true_labels, predicted_labels)\n",
    "\n",
    "# Visualize confusion matrix\n",
    "plt.figure(figsize=(10, 8))\n",
    "plt.imshow(conf_matrix, interpolation='nearest', cmap=plt.cm.Blues)\n",
    "plt.title('Confusion Matrix')\n",
    "plt.colorbar()\n",
    "tick_marks = np.arange(len(class_names))\n",
    "plt.xticks(tick_marks, class_names, rotation=45)\n",
    "plt.yticks(tick_marks, class_names)\n",
    "plt.ylabel('True Label')\n",
    "plt.xlabel('Predicted Label')\n",
    "plt.tight_layout()\n",
    "plt.show()\n",
    "\n"
   ]
  },
  {
   "cell_type": "code",
   "execution_count": 21,
   "id": "8955d1ef",
   "metadata": {
    "execution": {
     "iopub.execute_input": "2024-04-28T19:20:06.235762Z",
     "iopub.status.busy": "2024-04-28T19:20:06.235275Z",
     "iopub.status.idle": "2024-04-28T19:20:06.303865Z",
     "shell.execute_reply": "2024-04-28T19:20:06.302354Z"
    },
    "papermill": {
     "duration": 0.567675,
     "end_time": "2024-04-28T19:20:06.307085",
     "exception": false,
     "start_time": "2024-04-28T19:20:05.739410",
     "status": "completed"
    },
    "tags": []
   },
   "outputs": [],
   "source": [
    "aug_model.save_weights('./aug_model_weights.weights.h5')"
   ]
  },
  {
   "cell_type": "markdown",
   "id": "38a3c076",
   "metadata": {
    "papermill": {
     "duration": 0.483543,
     "end_time": "2024-04-28T19:20:07.271980",
     "exception": false,
     "start_time": "2024-04-28T19:20:06.788437",
     "status": "completed"
    },
    "tags": []
   },
   "source": [
    "# **Misc.**"
   ]
  },
  {
   "cell_type": "code",
   "execution_count": 22,
   "id": "bf96c654",
   "metadata": {
    "execution": {
     "iopub.execute_input": "2024-04-28T19:20:08.337810Z",
     "iopub.status.busy": "2024-04-28T19:20:08.337367Z",
     "iopub.status.idle": "2024-04-28T19:20:08.344758Z",
     "shell.execute_reply": "2024-04-28T19:20:08.343219Z"
    },
    "papermill": {
     "duration": 0.599076,
     "end_time": "2024-04-28T19:20:08.347136",
     "exception": false,
     "start_time": "2024-04-28T19:20:07.748060",
     "status": "completed"
    },
    "tags": []
   },
   "outputs": [],
   "source": [
    "def idx_to_letter(idx):\n",
    "    letters = 'abcdefghijklmnopqrstuvwxyz'\n",
    "    idx = idx[0]\n",
    "    if 0 <= idx < len(letters):\n",
    "        return letters[idx]\n",
    "    if idx == 26:\n",
    "        return 'nothing'\n",
    "    if idx == 27:\n",
    "        return '(space)'"
   ]
  },
  {
   "cell_type": "markdown",
   "id": "d4bff843",
   "metadata": {
    "papermill": {
     "duration": 0.482697,
     "end_time": "2024-04-28T19:20:09.306787",
     "exception": false,
     "start_time": "2024-04-28T19:20:08.824090",
     "status": "completed"
    },
    "tags": []
   },
   "source": [
    " in new script:"
   ]
  },
  {
   "cell_type": "code",
   "execution_count": 23,
   "id": "28b0c996",
   "metadata": {
    "execution": {
     "iopub.execute_input": "2024-04-28T19:20:10.275457Z",
     "iopub.status.busy": "2024-04-28T19:20:10.275038Z",
     "iopub.status.idle": "2024-04-28T19:20:10.281394Z",
     "shell.execute_reply": "2024-04-28T19:20:10.280036Z"
    },
    "papermill": {
     "duration": 0.499935,
     "end_time": "2024-04-28T19:20:10.284549",
     "exception": false,
     "start_time": "2024-04-28T19:20:09.784614",
     "status": "completed"
    },
    "tags": []
   },
   "outputs": [],
   "source": [
    "# def make_cool_model():\n",
    "#     model = Sequential()\n",
    "\n",
    "#     model.add(Conv2D(filters = 32, kernel_size = (5,5),padding = 'Same',activation ='relu', input_shape = (64,64,3)))\n",
    "#     model.add(MaxPooling2D(pool_size = (2,2), strides = (2,2)))\n",
    "#     model.add(Dropout(0.3))\n",
    "\n",
    "#     model.add(Conv2D(filters = 64, kernel_size = (5,5),padding = 'Same',activation ='relu', input_shape = (150,150,3))) # why does input shape change to 150\n",
    "#     model.add(MaxPooling2D(pool_size = (2,2), strides = (2,2)))\n",
    "#     model.add(Dropout(0.3))\n",
    "\n",
    "#     model.add(Conv2D(filters = 64, kernel_size = (5,5),padding = 'Same',activation ='relu', input_shape = (150,150,3)))\n",
    "#     model.add(MaxPooling2D(pool_size = (2,2), strides = (2,2)))\n",
    "#     model.add(Dropout(0.3))\n",
    "\n",
    "#     model.add(Conv2D(filters = 128, kernel_size = (5,5),padding = 'Same',activation ='relu', input_shape = (150,150,3)))\n",
    "#     model.add(MaxPooling2D(pool_size = (2,2), strides = (2,2)))\n",
    "\n",
    "#     model.add(Flatten())\n",
    "#     model.add(Dense(256))\n",
    "#     # model.add(Activation('relu'))\n",
    "#     model.add(Dense(29, activation = \"softmax\"))\n",
    "#     model.compile(loss='categorical_crossentropy',optimizer=Adam(learning_rate=0.001),metrics=['accuracy'])\n",
    "#     return model"
   ]
  },
  {
   "cell_type": "code",
   "execution_count": 24,
   "id": "c1cca387",
   "metadata": {
    "execution": {
     "iopub.execute_input": "2024-04-28T19:20:11.335055Z",
     "iopub.status.busy": "2024-04-28T19:20:11.333827Z",
     "iopub.status.idle": "2024-04-28T19:20:11.339359Z",
     "shell.execute_reply": "2024-04-28T19:20:11.338144Z"
    },
    "papermill": {
     "duration": 0.538809,
     "end_time": "2024-04-28T19:20:11.342071",
     "exception": false,
     "start_time": "2024-04-28T19:20:10.803262",
     "status": "completed"
    },
    "tags": []
   },
   "outputs": [],
   "source": [
    "# new_model = make_cool_model()\n",
    "# new_model.load_weights('./weights.weights.h5')"
   ]
  },
  {
   "cell_type": "code",
   "execution_count": 25,
   "id": "d1ef1d56",
   "metadata": {
    "execution": {
     "iopub.execute_input": "2024-04-28T19:20:12.349325Z",
     "iopub.status.busy": "2024-04-28T19:20:12.348832Z",
     "iopub.status.idle": "2024-04-28T19:20:12.355142Z",
     "shell.execute_reply": "2024-04-28T19:20:12.353855Z"
    },
    "papermill": {
     "duration": 0.508359,
     "end_time": "2024-04-28T19:20:12.357771",
     "exception": false,
     "start_time": "2024-04-28T19:20:11.849412",
     "status": "completed"
    },
    "tags": []
   },
   "outputs": [],
   "source": [
    "# image_path = '/kaggle/input/asl-alphabet/asl_alphabet_test/asl_alphabet_test/C_test.jpg'\n",
    "# image = keras.utils.load_img(image_path, target_size = (64,64))\n",
    "# input_data = keras.utils.img_to_array(image)\n",
    "# input_data = np.expand_dims(input_data, axis=0)\n",
    "# prediction = new_model.predict(input_data)\n",
    "\n",
    "# classes = np.argmax(prediction, axis = 1)\n",
    "# print(idx_to_letter(classes))"
   ]
  }
 ],
 "metadata": {
  "kaggle": {
   "accelerator": "none",
   "dataSources": [
    {
     "datasetId": 23079,
     "sourceId": 29550,
     "sourceType": "datasetVersion"
    }
   ],
   "dockerImageVersionId": 30673,
   "isGpuEnabled": false,
   "isInternetEnabled": true,
   "language": "python",
   "sourceType": "notebook"
  },
  "kernelspec": {
   "display_name": "Python 3",
   "language": "python",
   "name": "python3"
  },
  "language_info": {
   "codemirror_mode": {
    "name": "ipython",
    "version": 3
   },
   "file_extension": ".py",
   "mimetype": "text/x-python",
   "name": "python",
   "nbconvert_exporter": "python",
   "pygments_lexer": "ipython3",
   "version": "3.10.13"
  },
  "papermill": {
   "default_parameters": {},
   "duration": 14912.511059,
   "end_time": "2024-04-28T19:20:16.072177",
   "environment_variables": {},
   "exception": null,
   "input_path": "__notebook__.ipynb",
   "output_path": "__notebook__.ipynb",
   "parameters": {},
   "start_time": "2024-04-28T15:11:43.561118",
   "version": "2.5.0"
  }
 },
 "nbformat": 4,
 "nbformat_minor": 5
}
