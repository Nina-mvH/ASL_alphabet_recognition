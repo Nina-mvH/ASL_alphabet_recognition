{
 "cells": [
  {
   "cell_type": "code",
   "execution_count": 1,
   "id": "2565b046",
   "metadata": {
    "_cell_guid": "b1076dfc-b9ad-4769-8c92-a6c4dae69d19",
    "_uuid": "8f2839f25d086af736a60e9eeb907d3b93b6e0e5",
    "execution": {
     "iopub.execute_input": "2024-04-26T18:05:52.076030Z",
     "iopub.status.busy": "2024-04-26T18:05:52.075308Z",
     "iopub.status.idle": "2024-04-26T18:06:08.529086Z",
     "shell.execute_reply": "2024-04-26T18:06:08.527917Z"
    },
    "papermill": {
     "duration": 16.470433,
     "end_time": "2024-04-26T18:06:08.531932",
     "exception": false,
     "start_time": "2024-04-26T18:05:52.061499",
     "status": "completed"
    },
    "tags": []
   },
   "outputs": [
    {
     "name": "stderr",
     "output_type": "stream",
     "text": [
      "2024-04-26 18:05:55.339364: E external/local_xla/xla/stream_executor/cuda/cuda_dnn.cc:9261] Unable to register cuDNN factory: Attempting to register factory for plugin cuDNN when one has already been registered\n",
      "2024-04-26 18:05:55.339505: E external/local_xla/xla/stream_executor/cuda/cuda_fft.cc:607] Unable to register cuFFT factory: Attempting to register factory for plugin cuFFT when one has already been registered\n",
      "2024-04-26 18:05:55.504636: E external/local_xla/xla/stream_executor/cuda/cuda_blas.cc:1515] Unable to register cuBLAS factory: Attempting to register factory for plugin cuBLAS when one has already been registered\n"
     ]
    }
   ],
   "source": [
    "import numpy as np\n",
    "import pandas as pd\n",
    "import tensorflow as tf\n",
    "\n",
    "import matplotlib.pylab as plt\n",
    "from tensorflow import keras\n",
    "from tensorflow.keras.models import Sequential\n",
    "from tensorflow.keras.layers import Dense, Dropout, Flatten\n",
    "from tensorflow.keras.layers import Conv2D, MaxPooling2D\n",
    "\n",
    "from tensorflow.keras.optimizers import Adam\n",
    "from keras.callbacks import EarlyStopping\n",
    "\n",
    "from tensorflow.keras.preprocessing.image import ImageDataGenerator\n",
    "\n",
    "from sklearn.model_selection import train_test_split\n",
    "\n",
    "import os"
   ]
  },
  {
   "cell_type": "code",
   "execution_count": 2,
   "id": "7e1c55e2",
   "metadata": {
    "execution": {
     "iopub.execute_input": "2024-04-26T18:06:08.558284Z",
     "iopub.status.busy": "2024-04-26T18:06:08.557544Z",
     "iopub.status.idle": "2024-04-26T18:06:24.647655Z",
     "shell.execute_reply": "2024-04-26T18:06:24.646041Z"
    },
    "papermill": {
     "duration": 16.1061,
     "end_time": "2024-04-26T18:06:24.650222",
     "exception": false,
     "start_time": "2024-04-26T18:06:08.544122",
     "status": "completed"
    },
    "tags": []
   },
   "outputs": [
    {
     "name": "stderr",
     "output_type": "stream",
     "text": [
      "/opt/conda/lib/python3.10/pty.py:89: RuntimeWarning: os.fork() was called. os.fork() is incompatible with multithreaded code, and JAX is multithreaded, so this will likely lead to a deadlock.\n",
      "  pid, fd = os.forkpty()\n"
     ]
    },
    {
     "name": "stdout",
     "output_type": "stream",
     "text": [
      "Requirement already satisfied: pyyaml in /opt/conda/lib/python3.10/site-packages (6.0.1)\r\n",
      "Requirement already satisfied: h5py in /opt/conda/lib/python3.10/site-packages (3.10.0)\r\n",
      "Requirement already satisfied: numpy>=1.17.3 in /opt/conda/lib/python3.10/site-packages (from h5py) (1.26.4)\r\n",
      "Note: you may need to restart the kernel to use updated packages.\n"
     ]
    }
   ],
   "source": [
    "pip install pyyaml h5py "
   ]
  },
  {
   "cell_type": "markdown",
   "id": "09afd98d",
   "metadata": {
    "papermill": {
     "duration": 0.011891,
     "end_time": "2024-04-26T18:06:24.674535",
     "exception": false,
     "start_time": "2024-04-26T18:06:24.662644",
     "status": "completed"
    },
    "tags": []
   },
   "source": [
    "# **Formatting the Data:**"
   ]
  },
  {
   "cell_type": "code",
   "execution_count": 3,
   "id": "75a54d8f",
   "metadata": {
    "execution": {
     "iopub.execute_input": "2024-04-26T18:06:24.701655Z",
     "iopub.status.busy": "2024-04-26T18:06:24.701199Z",
     "iopub.status.idle": "2024-04-26T18:08:37.592368Z",
     "shell.execute_reply": "2024-04-26T18:08:37.591192Z"
    },
    "papermill": {
     "duration": 132.920347,
     "end_time": "2024-04-26T18:08:37.607260",
     "exception": false,
     "start_time": "2024-04-26T18:06:24.686913",
     "status": "completed"
    },
    "tags": []
   },
   "outputs": [
    {
     "data": {
      "text/html": [
       "<div>\n",
       "<style scoped>\n",
       "    .dataframe tbody tr th:only-of-type {\n",
       "        vertical-align: middle;\n",
       "    }\n",
       "\n",
       "    .dataframe tbody tr th {\n",
       "        vertical-align: top;\n",
       "    }\n",
       "\n",
       "    .dataframe thead th {\n",
       "        text-align: right;\n",
       "    }\n",
       "</style>\n",
       "<table border=\"1\" class=\"dataframe\">\n",
       "  <thead>\n",
       "    <tr style=\"text-align: right;\">\n",
       "      <th></th>\n",
       "      <th>label</th>\n",
       "      <th>path</th>\n",
       "    </tr>\n",
       "  </thead>\n",
       "  <tbody>\n",
       "    <tr>\n",
       "      <th>0</th>\n",
       "      <td>N</td>\n",
       "      <td>/kaggle/input/asl-alphabet/asl_alphabet_train/...</td>\n",
       "    </tr>\n",
       "    <tr>\n",
       "      <th>1</th>\n",
       "      <td>N</td>\n",
       "      <td>/kaggle/input/asl-alphabet/asl_alphabet_train/...</td>\n",
       "    </tr>\n",
       "    <tr>\n",
       "      <th>2</th>\n",
       "      <td>N</td>\n",
       "      <td>/kaggle/input/asl-alphabet/asl_alphabet_train/...</td>\n",
       "    </tr>\n",
       "    <tr>\n",
       "      <th>3</th>\n",
       "      <td>N</td>\n",
       "      <td>/kaggle/input/asl-alphabet/asl_alphabet_train/...</td>\n",
       "    </tr>\n",
       "    <tr>\n",
       "      <th>4</th>\n",
       "      <td>N</td>\n",
       "      <td>/kaggle/input/asl-alphabet/asl_alphabet_train/...</td>\n",
       "    </tr>\n",
       "    <tr>\n",
       "      <th>...</th>\n",
       "      <td>...</td>\n",
       "      <td>...</td>\n",
       "    </tr>\n",
       "    <tr>\n",
       "      <th>86995</th>\n",
       "      <td>J</td>\n",
       "      <td>/kaggle/input/asl-alphabet/asl_alphabet_train/...</td>\n",
       "    </tr>\n",
       "    <tr>\n",
       "      <th>86996</th>\n",
       "      <td>J</td>\n",
       "      <td>/kaggle/input/asl-alphabet/asl_alphabet_train/...</td>\n",
       "    </tr>\n",
       "    <tr>\n",
       "      <th>86997</th>\n",
       "      <td>J</td>\n",
       "      <td>/kaggle/input/asl-alphabet/asl_alphabet_train/...</td>\n",
       "    </tr>\n",
       "    <tr>\n",
       "      <th>86998</th>\n",
       "      <td>J</td>\n",
       "      <td>/kaggle/input/asl-alphabet/asl_alphabet_train/...</td>\n",
       "    </tr>\n",
       "    <tr>\n",
       "      <th>86999</th>\n",
       "      <td>J</td>\n",
       "      <td>/kaggle/input/asl-alphabet/asl_alphabet_train/...</td>\n",
       "    </tr>\n",
       "  </tbody>\n",
       "</table>\n",
       "<p>87000 rows × 2 columns</p>\n",
       "</div>"
      ],
      "text/plain": [
       "      label                                               path\n",
       "0         N  /kaggle/input/asl-alphabet/asl_alphabet_train/...\n",
       "1         N  /kaggle/input/asl-alphabet/asl_alphabet_train/...\n",
       "2         N  /kaggle/input/asl-alphabet/asl_alphabet_train/...\n",
       "3         N  /kaggle/input/asl-alphabet/asl_alphabet_train/...\n",
       "4         N  /kaggle/input/asl-alphabet/asl_alphabet_train/...\n",
       "...     ...                                                ...\n",
       "86995     J  /kaggle/input/asl-alphabet/asl_alphabet_train/...\n",
       "86996     J  /kaggle/input/asl-alphabet/asl_alphabet_train/...\n",
       "86997     J  /kaggle/input/asl-alphabet/asl_alphabet_train/...\n",
       "86998     J  /kaggle/input/asl-alphabet/asl_alphabet_train/...\n",
       "86999     J  /kaggle/input/asl-alphabet/asl_alphabet_train/...\n",
       "\n",
       "[87000 rows x 2 columns]"
      ]
     },
     "execution_count": 3,
     "metadata": {},
     "output_type": "execute_result"
    }
   ],
   "source": [
    "#assign the pathway to the kaggle dataset's training folder as the variable \"train_folder\"\n",
    "train_folder = '/kaggle/input/asl-alphabet/asl_alphabet_train/asl_alphabet_train'\n",
    "all_data = []\n",
    "#travel through everything in the training data to get the label and path and add it to all_data\n",
    "for folder in os.listdir(train_folder):\n",
    "\tlabel_folder = os.path.join(train_folder, folder)\n",
    "\tonlyfiles = [{'label':folder,'path':os.path.join(label_folder, f)} for f in os.listdir(label_folder) if os.path.isfile(os.path.join(label_folder, f))]\n",
    "\tall_data += onlyfiles\n",
    "#create a data frame with all the labels and pathways\n",
    "data_df = pd.DataFrame(all_data)\n",
    "data_df"
   ]
  },
  {
   "cell_type": "code",
   "execution_count": 4,
   "id": "3a6586b5",
   "metadata": {
    "execution": {
     "iopub.execute_input": "2024-04-26T18:08:37.635060Z",
     "iopub.status.busy": "2024-04-26T18:08:37.634629Z",
     "iopub.status.idle": "2024-04-26T18:08:38.545595Z",
     "shell.execute_reply": "2024-04-26T18:08:38.544726Z"
    },
    "papermill": {
     "duration": 0.928082,
     "end_time": "2024-04-26T18:08:38.548163",
     "exception": false,
     "start_time": "2024-04-26T18:08:37.620081",
     "status": "completed"
    },
    "tags": []
   },
   "outputs": [],
   "source": [
    "x_train,x_holdout = train_test_split(data_df, test_size= 0.10, random_state=42,stratify=data_df[['label']])\n",
    "x_train,x_test = train_test_split(x_train, test_size= 0.25, random_state=42,stratify=x_train[['label']])"
   ]
  },
  {
   "cell_type": "markdown",
   "id": "4cd963e4",
   "metadata": {
    "papermill": {
     "duration": 0.013105,
     "end_time": "2024-04-26T18:08:38.573697",
     "exception": false,
     "start_time": "2024-04-26T18:08:38.560592",
     "status": "completed"
    },
    "tags": []
   },
   "source": [
    "# **Model 1 (no data aug):**"
   ]
  },
  {
   "cell_type": "code",
   "execution_count": 5,
   "id": "2cbbd53b",
   "metadata": {
    "execution": {
     "iopub.execute_input": "2024-04-26T18:08:38.600526Z",
     "iopub.status.busy": "2024-04-26T18:08:38.599660Z",
     "iopub.status.idle": "2024-04-26T18:09:14.843794Z",
     "shell.execute_reply": "2024-04-26T18:09:14.842624Z"
    },
    "papermill": {
     "duration": 36.260508,
     "end_time": "2024-04-26T18:09:14.846476",
     "exception": false,
     "start_time": "2024-04-26T18:08:38.585968",
     "status": "completed"
    },
    "tags": []
   },
   "outputs": [
    {
     "name": "stdout",
     "output_type": "stream",
     "text": [
      "Found 58725 validated image filenames belonging to 29 classes.\n",
      "Found 19575 validated image filenames belonging to 29 classes.\n",
      "Found 8700 validated image filenames belonging to 29 classes.\n"
     ]
    }
   ],
   "source": [
    "img_width, img_height = 64, 64\n",
    "batch_size = 256\n",
    "y_col = 'label'\n",
    "x_col = 'path'\n",
    "no_of_classes = len(data_df[y_col].unique())\n",
    "\n",
    "\n",
    "train_datagen = ImageDataGenerator(rescale = 1/255.0)\n",
    "\n",
    "train_generator = train_datagen.flow_from_dataframe(\n",
    "\tdataframe=x_train,x_col=x_col, y_col=y_col,\n",
    "\ttarget_size=(img_width, img_height),class_mode='categorical', batch_size=batch_size,\n",
    "\tshuffle=False,\n",
    ")\n",
    "\n",
    "validation_datagen = ImageDataGenerator(rescale = 1/255.0)\n",
    "validation_generator = validation_datagen.flow_from_dataframe(\n",
    "\tdataframe=x_test, x_col=x_col, y_col=y_col,\n",
    "\ttarget_size=(img_width, img_height), class_mode='categorical', batch_size=batch_size,\n",
    "\tshuffle=False\n",
    ")\n",
    "\n",
    "holdout_datagen = ImageDataGenerator(rescale = 1/255.0)\n",
    "holdout_generator = holdout_datagen.flow_from_dataframe(\n",
    "\tdataframe=x_holdout, x_col=x_col, y_col=y_col,\n",
    "\ttarget_size=(img_width, img_height), class_mode='categorical', batch_size=batch_size,\n",
    "\tshuffle=False\n",
    ")"
   ]
  },
  {
   "cell_type": "code",
   "execution_count": 6,
   "id": "9f92119b",
   "metadata": {
    "execution": {
     "iopub.execute_input": "2024-04-26T18:09:14.874778Z",
     "iopub.status.busy": "2024-04-26T18:09:14.874039Z",
     "iopub.status.idle": "2024-04-26T18:09:15.121938Z",
     "shell.execute_reply": "2024-04-26T18:09:15.120661Z"
    },
    "papermill": {
     "duration": 0.265215,
     "end_time": "2024-04-26T18:09:15.124806",
     "exception": false,
     "start_time": "2024-04-26T18:09:14.859591",
     "status": "completed"
    },
    "tags": []
   },
   "outputs": [
    {
     "name": "stderr",
     "output_type": "stream",
     "text": [
      "/opt/conda/lib/python3.10/site-packages/keras/src/layers/convolutional/base_conv.py:99: UserWarning: Do not pass an `input_shape`/`input_dim` argument to a layer. When using Sequential models, prefer using an `Input(shape)` object as the first layer in the model instead.\n",
      "  super().__init__(\n"
     ]
    }
   ],
   "source": [
    "model = Sequential()\n",
    "\n",
    "model.add(Conv2D(filters = 32, kernel_size = (5,5),padding = 'Same',activation ='relu', input_shape = (64,64,3)))\n",
    "model.add(MaxPooling2D(pool_size = (2,2), strides = (2,2)))\n",
    "model.add(Dropout(0.3))\n",
    "\n",
    "model.add(Conv2D(filters = 64, kernel_size = (5,5),padding = 'Same',activation ='relu', input_shape = (150,150,3))) # why does input shape change to 150\n",
    "model.add(MaxPooling2D(pool_size = (2,2), strides = (2,2)))\n",
    "model.add(Dropout(0.3))\n",
    "\n",
    "model.add(Conv2D(filters = 64, kernel_size = (5,5),padding = 'Same',activation ='relu', input_shape = (150,150,3)))\n",
    "model.add(MaxPooling2D(pool_size = (2,2), strides = (2,2)))\n",
    "model.add(Dropout(0.3))\n",
    "\n",
    "model.add(Conv2D(filters = 128, kernel_size = (5,5),padding = 'Same',activation ='relu', input_shape = (150,150,3)))\n",
    "model.add(MaxPooling2D(pool_size = (2,2), strides = (2,2)))\n",
    "\n",
    "model.add(Flatten())\n",
    "model.add(Dense(256))\n",
    "model.add(Dense(29, activation = \"softmax\"))"
   ]
  },
  {
   "cell_type": "code",
   "execution_count": 7,
   "id": "c213eab0",
   "metadata": {
    "execution": {
     "iopub.execute_input": "2024-04-26T18:09:15.152555Z",
     "iopub.status.busy": "2024-04-26T18:09:15.152157Z",
     "iopub.status.idle": "2024-04-26T18:09:15.199831Z",
     "shell.execute_reply": "2024-04-26T18:09:15.198679Z"
    },
    "papermill": {
     "duration": 0.064659,
     "end_time": "2024-04-26T18:09:15.202592",
     "exception": false,
     "start_time": "2024-04-26T18:09:15.137933",
     "status": "completed"
    },
    "tags": []
   },
   "outputs": [
    {
     "data": {
      "text/html": [
       "<pre style=\"white-space:pre;overflow-x:auto;line-height:normal;font-family:Menlo,'DejaVu Sans Mono',consolas,'Courier New',monospace\"><span style=\"font-weight: bold\">Model: \"sequential\"</span>\n",
       "</pre>\n"
      ],
      "text/plain": [
       "\u001b[1mModel: \"sequential\"\u001b[0m\n"
      ]
     },
     "metadata": {},
     "output_type": "display_data"
    },
    {
     "data": {
      "text/html": [
       "<pre style=\"white-space:pre;overflow-x:auto;line-height:normal;font-family:Menlo,'DejaVu Sans Mono',consolas,'Courier New',monospace\">┏━━━━━━━━━━━━━━━━━━━━━━━━━━━━━━━━━┳━━━━━━━━━━━━━━━━━━━━━━━━┳━━━━━━━━━━━━━━━┓\n",
       "┃<span style=\"font-weight: bold\"> Layer (type)                    </span>┃<span style=\"font-weight: bold\"> Output Shape           </span>┃<span style=\"font-weight: bold\">       Param # </span>┃\n",
       "┡━━━━━━━━━━━━━━━━━━━━━━━━━━━━━━━━━╇━━━━━━━━━━━━━━━━━━━━━━━━╇━━━━━━━━━━━━━━━┩\n",
       "│ conv2d (<span style=\"color: #0087ff; text-decoration-color: #0087ff\">Conv2D</span>)                 │ (<span style=\"color: #00d7ff; text-decoration-color: #00d7ff\">None</span>, <span style=\"color: #00af00; text-decoration-color: #00af00\">64</span>, <span style=\"color: #00af00; text-decoration-color: #00af00\">64</span>, <span style=\"color: #00af00; text-decoration-color: #00af00\">32</span>)     │         <span style=\"color: #00af00; text-decoration-color: #00af00\">2,432</span> │\n",
       "├─────────────────────────────────┼────────────────────────┼───────────────┤\n",
       "│ max_pooling2d (<span style=\"color: #0087ff; text-decoration-color: #0087ff\">MaxPooling2D</span>)    │ (<span style=\"color: #00d7ff; text-decoration-color: #00d7ff\">None</span>, <span style=\"color: #00af00; text-decoration-color: #00af00\">32</span>, <span style=\"color: #00af00; text-decoration-color: #00af00\">32</span>, <span style=\"color: #00af00; text-decoration-color: #00af00\">32</span>)     │             <span style=\"color: #00af00; text-decoration-color: #00af00\">0</span> │\n",
       "├─────────────────────────────────┼────────────────────────┼───────────────┤\n",
       "│ dropout (<span style=\"color: #0087ff; text-decoration-color: #0087ff\">Dropout</span>)               │ (<span style=\"color: #00d7ff; text-decoration-color: #00d7ff\">None</span>, <span style=\"color: #00af00; text-decoration-color: #00af00\">32</span>, <span style=\"color: #00af00; text-decoration-color: #00af00\">32</span>, <span style=\"color: #00af00; text-decoration-color: #00af00\">32</span>)     │             <span style=\"color: #00af00; text-decoration-color: #00af00\">0</span> │\n",
       "├─────────────────────────────────┼────────────────────────┼───────────────┤\n",
       "│ conv2d_1 (<span style=\"color: #0087ff; text-decoration-color: #0087ff\">Conv2D</span>)               │ (<span style=\"color: #00d7ff; text-decoration-color: #00d7ff\">None</span>, <span style=\"color: #00af00; text-decoration-color: #00af00\">32</span>, <span style=\"color: #00af00; text-decoration-color: #00af00\">32</span>, <span style=\"color: #00af00; text-decoration-color: #00af00\">64</span>)     │        <span style=\"color: #00af00; text-decoration-color: #00af00\">51,264</span> │\n",
       "├─────────────────────────────────┼────────────────────────┼───────────────┤\n",
       "│ max_pooling2d_1 (<span style=\"color: #0087ff; text-decoration-color: #0087ff\">MaxPooling2D</span>)  │ (<span style=\"color: #00d7ff; text-decoration-color: #00d7ff\">None</span>, <span style=\"color: #00af00; text-decoration-color: #00af00\">16</span>, <span style=\"color: #00af00; text-decoration-color: #00af00\">16</span>, <span style=\"color: #00af00; text-decoration-color: #00af00\">64</span>)     │             <span style=\"color: #00af00; text-decoration-color: #00af00\">0</span> │\n",
       "├─────────────────────────────────┼────────────────────────┼───────────────┤\n",
       "│ dropout_1 (<span style=\"color: #0087ff; text-decoration-color: #0087ff\">Dropout</span>)             │ (<span style=\"color: #00d7ff; text-decoration-color: #00d7ff\">None</span>, <span style=\"color: #00af00; text-decoration-color: #00af00\">16</span>, <span style=\"color: #00af00; text-decoration-color: #00af00\">16</span>, <span style=\"color: #00af00; text-decoration-color: #00af00\">64</span>)     │             <span style=\"color: #00af00; text-decoration-color: #00af00\">0</span> │\n",
       "├─────────────────────────────────┼────────────────────────┼───────────────┤\n",
       "│ conv2d_2 (<span style=\"color: #0087ff; text-decoration-color: #0087ff\">Conv2D</span>)               │ (<span style=\"color: #00d7ff; text-decoration-color: #00d7ff\">None</span>, <span style=\"color: #00af00; text-decoration-color: #00af00\">16</span>, <span style=\"color: #00af00; text-decoration-color: #00af00\">16</span>, <span style=\"color: #00af00; text-decoration-color: #00af00\">64</span>)     │       <span style=\"color: #00af00; text-decoration-color: #00af00\">102,464</span> │\n",
       "├─────────────────────────────────┼────────────────────────┼───────────────┤\n",
       "│ max_pooling2d_2 (<span style=\"color: #0087ff; text-decoration-color: #0087ff\">MaxPooling2D</span>)  │ (<span style=\"color: #00d7ff; text-decoration-color: #00d7ff\">None</span>, <span style=\"color: #00af00; text-decoration-color: #00af00\">8</span>, <span style=\"color: #00af00; text-decoration-color: #00af00\">8</span>, <span style=\"color: #00af00; text-decoration-color: #00af00\">64</span>)       │             <span style=\"color: #00af00; text-decoration-color: #00af00\">0</span> │\n",
       "├─────────────────────────────────┼────────────────────────┼───────────────┤\n",
       "│ dropout_2 (<span style=\"color: #0087ff; text-decoration-color: #0087ff\">Dropout</span>)             │ (<span style=\"color: #00d7ff; text-decoration-color: #00d7ff\">None</span>, <span style=\"color: #00af00; text-decoration-color: #00af00\">8</span>, <span style=\"color: #00af00; text-decoration-color: #00af00\">8</span>, <span style=\"color: #00af00; text-decoration-color: #00af00\">64</span>)       │             <span style=\"color: #00af00; text-decoration-color: #00af00\">0</span> │\n",
       "├─────────────────────────────────┼────────────────────────┼───────────────┤\n",
       "│ conv2d_3 (<span style=\"color: #0087ff; text-decoration-color: #0087ff\">Conv2D</span>)               │ (<span style=\"color: #00d7ff; text-decoration-color: #00d7ff\">None</span>, <span style=\"color: #00af00; text-decoration-color: #00af00\">8</span>, <span style=\"color: #00af00; text-decoration-color: #00af00\">8</span>, <span style=\"color: #00af00; text-decoration-color: #00af00\">128</span>)      │       <span style=\"color: #00af00; text-decoration-color: #00af00\">204,928</span> │\n",
       "├─────────────────────────────────┼────────────────────────┼───────────────┤\n",
       "│ max_pooling2d_3 (<span style=\"color: #0087ff; text-decoration-color: #0087ff\">MaxPooling2D</span>)  │ (<span style=\"color: #00d7ff; text-decoration-color: #00d7ff\">None</span>, <span style=\"color: #00af00; text-decoration-color: #00af00\">4</span>, <span style=\"color: #00af00; text-decoration-color: #00af00\">4</span>, <span style=\"color: #00af00; text-decoration-color: #00af00\">128</span>)      │             <span style=\"color: #00af00; text-decoration-color: #00af00\">0</span> │\n",
       "├─────────────────────────────────┼────────────────────────┼───────────────┤\n",
       "│ flatten (<span style=\"color: #0087ff; text-decoration-color: #0087ff\">Flatten</span>)               │ (<span style=\"color: #00d7ff; text-decoration-color: #00d7ff\">None</span>, <span style=\"color: #00af00; text-decoration-color: #00af00\">2048</span>)           │             <span style=\"color: #00af00; text-decoration-color: #00af00\">0</span> │\n",
       "├─────────────────────────────────┼────────────────────────┼───────────────┤\n",
       "│ dense (<span style=\"color: #0087ff; text-decoration-color: #0087ff\">Dense</span>)                   │ (<span style=\"color: #00d7ff; text-decoration-color: #00d7ff\">None</span>, <span style=\"color: #00af00; text-decoration-color: #00af00\">256</span>)            │       <span style=\"color: #00af00; text-decoration-color: #00af00\">524,544</span> │\n",
       "├─────────────────────────────────┼────────────────────────┼───────────────┤\n",
       "│ dense_1 (<span style=\"color: #0087ff; text-decoration-color: #0087ff\">Dense</span>)                 │ (<span style=\"color: #00d7ff; text-decoration-color: #00d7ff\">None</span>, <span style=\"color: #00af00; text-decoration-color: #00af00\">29</span>)             │         <span style=\"color: #00af00; text-decoration-color: #00af00\">7,453</span> │\n",
       "└─────────────────────────────────┴────────────────────────┴───────────────┘\n",
       "</pre>\n"
      ],
      "text/plain": [
       "┏━━━━━━━━━━━━━━━━━━━━━━━━━━━━━━━━━┳━━━━━━━━━━━━━━━━━━━━━━━━┳━━━━━━━━━━━━━━━┓\n",
       "┃\u001b[1m \u001b[0m\u001b[1mLayer (type)                   \u001b[0m\u001b[1m \u001b[0m┃\u001b[1m \u001b[0m\u001b[1mOutput Shape          \u001b[0m\u001b[1m \u001b[0m┃\u001b[1m \u001b[0m\u001b[1m      Param #\u001b[0m\u001b[1m \u001b[0m┃\n",
       "┡━━━━━━━━━━━━━━━━━━━━━━━━━━━━━━━━━╇━━━━━━━━━━━━━━━━━━━━━━━━╇━━━━━━━━━━━━━━━┩\n",
       "│ conv2d (\u001b[38;5;33mConv2D\u001b[0m)                 │ (\u001b[38;5;45mNone\u001b[0m, \u001b[38;5;34m64\u001b[0m, \u001b[38;5;34m64\u001b[0m, \u001b[38;5;34m32\u001b[0m)     │         \u001b[38;5;34m2,432\u001b[0m │\n",
       "├─────────────────────────────────┼────────────────────────┼───────────────┤\n",
       "│ max_pooling2d (\u001b[38;5;33mMaxPooling2D\u001b[0m)    │ (\u001b[38;5;45mNone\u001b[0m, \u001b[38;5;34m32\u001b[0m, \u001b[38;5;34m32\u001b[0m, \u001b[38;5;34m32\u001b[0m)     │             \u001b[38;5;34m0\u001b[0m │\n",
       "├─────────────────────────────────┼────────────────────────┼───────────────┤\n",
       "│ dropout (\u001b[38;5;33mDropout\u001b[0m)               │ (\u001b[38;5;45mNone\u001b[0m, \u001b[38;5;34m32\u001b[0m, \u001b[38;5;34m32\u001b[0m, \u001b[38;5;34m32\u001b[0m)     │             \u001b[38;5;34m0\u001b[0m │\n",
       "├─────────────────────────────────┼────────────────────────┼───────────────┤\n",
       "│ conv2d_1 (\u001b[38;5;33mConv2D\u001b[0m)               │ (\u001b[38;5;45mNone\u001b[0m, \u001b[38;5;34m32\u001b[0m, \u001b[38;5;34m32\u001b[0m, \u001b[38;5;34m64\u001b[0m)     │        \u001b[38;5;34m51,264\u001b[0m │\n",
       "├─────────────────────────────────┼────────────────────────┼───────────────┤\n",
       "│ max_pooling2d_1 (\u001b[38;5;33mMaxPooling2D\u001b[0m)  │ (\u001b[38;5;45mNone\u001b[0m, \u001b[38;5;34m16\u001b[0m, \u001b[38;5;34m16\u001b[0m, \u001b[38;5;34m64\u001b[0m)     │             \u001b[38;5;34m0\u001b[0m │\n",
       "├─────────────────────────────────┼────────────────────────┼───────────────┤\n",
       "│ dropout_1 (\u001b[38;5;33mDropout\u001b[0m)             │ (\u001b[38;5;45mNone\u001b[0m, \u001b[38;5;34m16\u001b[0m, \u001b[38;5;34m16\u001b[0m, \u001b[38;5;34m64\u001b[0m)     │             \u001b[38;5;34m0\u001b[0m │\n",
       "├─────────────────────────────────┼────────────────────────┼───────────────┤\n",
       "│ conv2d_2 (\u001b[38;5;33mConv2D\u001b[0m)               │ (\u001b[38;5;45mNone\u001b[0m, \u001b[38;5;34m16\u001b[0m, \u001b[38;5;34m16\u001b[0m, \u001b[38;5;34m64\u001b[0m)     │       \u001b[38;5;34m102,464\u001b[0m │\n",
       "├─────────────────────────────────┼────────────────────────┼───────────────┤\n",
       "│ max_pooling2d_2 (\u001b[38;5;33mMaxPooling2D\u001b[0m)  │ (\u001b[38;5;45mNone\u001b[0m, \u001b[38;5;34m8\u001b[0m, \u001b[38;5;34m8\u001b[0m, \u001b[38;5;34m64\u001b[0m)       │             \u001b[38;5;34m0\u001b[0m │\n",
       "├─────────────────────────────────┼────────────────────────┼───────────────┤\n",
       "│ dropout_2 (\u001b[38;5;33mDropout\u001b[0m)             │ (\u001b[38;5;45mNone\u001b[0m, \u001b[38;5;34m8\u001b[0m, \u001b[38;5;34m8\u001b[0m, \u001b[38;5;34m64\u001b[0m)       │             \u001b[38;5;34m0\u001b[0m │\n",
       "├─────────────────────────────────┼────────────────────────┼───────────────┤\n",
       "│ conv2d_3 (\u001b[38;5;33mConv2D\u001b[0m)               │ (\u001b[38;5;45mNone\u001b[0m, \u001b[38;5;34m8\u001b[0m, \u001b[38;5;34m8\u001b[0m, \u001b[38;5;34m128\u001b[0m)      │       \u001b[38;5;34m204,928\u001b[0m │\n",
       "├─────────────────────────────────┼────────────────────────┼───────────────┤\n",
       "│ max_pooling2d_3 (\u001b[38;5;33mMaxPooling2D\u001b[0m)  │ (\u001b[38;5;45mNone\u001b[0m, \u001b[38;5;34m4\u001b[0m, \u001b[38;5;34m4\u001b[0m, \u001b[38;5;34m128\u001b[0m)      │             \u001b[38;5;34m0\u001b[0m │\n",
       "├─────────────────────────────────┼────────────────────────┼───────────────┤\n",
       "│ flatten (\u001b[38;5;33mFlatten\u001b[0m)               │ (\u001b[38;5;45mNone\u001b[0m, \u001b[38;5;34m2048\u001b[0m)           │             \u001b[38;5;34m0\u001b[0m │\n",
       "├─────────────────────────────────┼────────────────────────┼───────────────┤\n",
       "│ dense (\u001b[38;5;33mDense\u001b[0m)                   │ (\u001b[38;5;45mNone\u001b[0m, \u001b[38;5;34m256\u001b[0m)            │       \u001b[38;5;34m524,544\u001b[0m │\n",
       "├─────────────────────────────────┼────────────────────────┼───────────────┤\n",
       "│ dense_1 (\u001b[38;5;33mDense\u001b[0m)                 │ (\u001b[38;5;45mNone\u001b[0m, \u001b[38;5;34m29\u001b[0m)             │         \u001b[38;5;34m7,453\u001b[0m │\n",
       "└─────────────────────────────────┴────────────────────────┴───────────────┘\n"
      ]
     },
     "metadata": {},
     "output_type": "display_data"
    },
    {
     "data": {
      "text/html": [
       "<pre style=\"white-space:pre;overflow-x:auto;line-height:normal;font-family:Menlo,'DejaVu Sans Mono',consolas,'Courier New',monospace\"><span style=\"font-weight: bold\"> Total params: </span><span style=\"color: #00af00; text-decoration-color: #00af00\">893,085</span> (3.41 MB)\n",
       "</pre>\n"
      ],
      "text/plain": [
       "\u001b[1m Total params: \u001b[0m\u001b[38;5;34m893,085\u001b[0m (3.41 MB)\n"
      ]
     },
     "metadata": {},
     "output_type": "display_data"
    },
    {
     "data": {
      "text/html": [
       "<pre style=\"white-space:pre;overflow-x:auto;line-height:normal;font-family:Menlo,'DejaVu Sans Mono',consolas,'Courier New',monospace\"><span style=\"font-weight: bold\"> Trainable params: </span><span style=\"color: #00af00; text-decoration-color: #00af00\">893,085</span> (3.41 MB)\n",
       "</pre>\n"
      ],
      "text/plain": [
       "\u001b[1m Trainable params: \u001b[0m\u001b[38;5;34m893,085\u001b[0m (3.41 MB)\n"
      ]
     },
     "metadata": {},
     "output_type": "display_data"
    },
    {
     "data": {
      "text/html": [
       "<pre style=\"white-space:pre;overflow-x:auto;line-height:normal;font-family:Menlo,'DejaVu Sans Mono',consolas,'Courier New',monospace\"><span style=\"font-weight: bold\"> Non-trainable params: </span><span style=\"color: #00af00; text-decoration-color: #00af00\">0</span> (0.00 B)\n",
       "</pre>\n"
      ],
      "text/plain": [
       "\u001b[1m Non-trainable params: \u001b[0m\u001b[38;5;34m0\u001b[0m (0.00 B)\n"
      ]
     },
     "metadata": {},
     "output_type": "display_data"
    }
   ],
   "source": [
    "model.compile(loss='categorical_crossentropy',optimizer=Adam(learning_rate=0.001),metrics=['accuracy'])\n",
    "model.summary()"
   ]
  },
  {
   "cell_type": "code",
   "execution_count": 8,
   "id": "c74acf86",
   "metadata": {
    "execution": {
     "iopub.execute_input": "2024-04-26T18:09:15.233473Z",
     "iopub.status.busy": "2024-04-26T18:09:15.232424Z",
     "iopub.status.idle": "2024-04-26T19:53:44.481412Z",
     "shell.execute_reply": "2024-04-26T19:53:44.479710Z"
    },
    "papermill": {
     "duration": 6269.267527,
     "end_time": "2024-04-26T19:53:44.484684",
     "exception": false,
     "start_time": "2024-04-26T18:09:15.217157",
     "status": "completed"
    },
    "tags": []
   },
   "outputs": [
    {
     "name": "stdout",
     "output_type": "stream",
     "text": [
      "Epoch 1/10\n"
     ]
    },
    {
     "name": "stderr",
     "output_type": "stream",
     "text": [
      "/opt/conda/lib/python3.10/site-packages/keras/src/trainers/data_adapters/py_dataset_adapter.py:122: UserWarning: Your `PyDataset` class should call `super().__init__(**kwargs)` in its constructor. `**kwargs` can include `workers`, `use_multiprocessing`, `max_queue_size`. Do not pass these arguments to `fit()`, as they will be ignored.\n",
      "  self._warn_if_super_not_called()\n"
     ]
    },
    {
     "name": "stdout",
     "output_type": "stream",
     "text": [
      "\u001b[1m230/230\u001b[0m \u001b[32m━━━━━━━━━━━━━━━━━━━━\u001b[0m\u001b[37m\u001b[0m \u001b[1m672s\u001b[0m 3s/step - accuracy: 0.1552 - loss: 2.9335 - val_accuracy: 0.8278 - val_loss: 0.5716\n",
      "Epoch 2/10\n",
      "\u001b[1m230/230\u001b[0m \u001b[32m━━━━━━━━━━━━━━━━━━━━\u001b[0m\u001b[37m\u001b[0m \u001b[1m627s\u001b[0m 3s/step - accuracy: 0.8073 - loss: 0.5797 - val_accuracy: 0.9494 - val_loss: 0.1698\n",
      "Epoch 3/10\n",
      "\u001b[1m230/230\u001b[0m \u001b[32m━━━━━━━━━━━━━━━━━━━━\u001b[0m\u001b[37m\u001b[0m \u001b[1m666s\u001b[0m 3s/step - accuracy: 0.9248 - loss: 0.2198 - val_accuracy: 0.9807 - val_loss: 0.0675\n",
      "Epoch 4/10\n",
      "\u001b[1m230/230\u001b[0m \u001b[32m━━━━━━━━━━━━━━━━━━━━\u001b[0m\u001b[37m\u001b[0m \u001b[1m611s\u001b[0m 3s/step - accuracy: 0.9596 - loss: 0.1172 - val_accuracy: 0.9909 - val_loss: 0.0371\n",
      "Epoch 5/10\n",
      "\u001b[1m230/230\u001b[0m \u001b[32m━━━━━━━━━━━━━━━━━━━━\u001b[0m\u001b[37m\u001b[0m \u001b[1m607s\u001b[0m 3s/step - accuracy: 0.9722 - loss: 0.0826 - val_accuracy: 0.9920 - val_loss: 0.0275\n",
      "Epoch 6/10\n",
      "\u001b[1m230/230\u001b[0m \u001b[32m━━━━━━━━━━━━━━━━━━━━\u001b[0m\u001b[37m\u001b[0m \u001b[1m615s\u001b[0m 3s/step - accuracy: 0.9795 - loss: 0.0608 - val_accuracy: 0.9949 - val_loss: 0.0186\n",
      "Epoch 7/10\n",
      "\u001b[1m230/230\u001b[0m \u001b[32m━━━━━━━━━━━━━━━━━━━━\u001b[0m\u001b[37m\u001b[0m \u001b[1m628s\u001b[0m 3s/step - accuracy: 0.9829 - loss: 0.0524 - val_accuracy: 0.9967 - val_loss: 0.0145\n",
      "Epoch 8/10\n",
      "\u001b[1m230/230\u001b[0m \u001b[32m━━━━━━━━━━━━━━━━━━━━\u001b[0m\u001b[37m\u001b[0m \u001b[1m610s\u001b[0m 3s/step - accuracy: 0.9853 - loss: 0.0412 - val_accuracy: 0.9966 - val_loss: 0.0122\n",
      "Epoch 9/10\n",
      "\u001b[1m230/230\u001b[0m \u001b[32m━━━━━━━━━━━━━━━━━━━━\u001b[0m\u001b[37m\u001b[0m \u001b[1m611s\u001b[0m 3s/step - accuracy: 0.9825 - loss: 0.0522 - val_accuracy: 0.9978 - val_loss: 0.0109\n",
      "Epoch 10/10\n",
      "\u001b[1m230/230\u001b[0m \u001b[32m━━━━━━━━━━━━━━━━━━━━\u001b[0m\u001b[37m\u001b[0m \u001b[1m610s\u001b[0m 3s/step - accuracy: 0.9872 - loss: 0.0395 - val_accuracy: 0.9972 - val_loss: 0.0095\n"
     ]
    }
   ],
   "source": [
    "early_stop = EarlyStopping(monitor='val_loss',patience=5)\n",
    "\n",
    "batch_size=128\n",
    "epochs=10\n",
    "\n",
    "history = model.fit(train_generator,\n",
    "                    epochs=epochs,\n",
    "                    verbose=1,\n",
    "                    validation_data=validation_generator,\n",
    "                    callbacks = [early_stop],)"
   ]
  },
  {
   "cell_type": "code",
   "execution_count": 9,
   "id": "2c02e741",
   "metadata": {
    "execution": {
     "iopub.execute_input": "2024-04-26T19:53:44.961972Z",
     "iopub.status.busy": "2024-04-26T19:53:44.961578Z",
     "iopub.status.idle": "2024-04-26T19:53:45.292468Z",
     "shell.execute_reply": "2024-04-26T19:53:45.291211Z"
    },
    "papermill": {
     "duration": 0.574413,
     "end_time": "2024-04-26T19:53:45.295109",
     "exception": false,
     "start_time": "2024-04-26T19:53:44.720696",
     "status": "completed"
    },
    "tags": []
   },
   "outputs": [
    {
     "data": {
      "image/png": "[encoded data removed]",
      "text/plain": [
       "<Figure size 640x480 with 1 Axes>"
      ]
     },
     "metadata": {},
     "output_type": "display_data"
    }
   ],
   "source": [
    "# make convergence plot \n",
    "\n",
    "plt.plot(history.history['loss'], label='Training Loss')\n",
    "plt.plot(history.history['val_loss'], label='Validation Loss')\n",
    "plt.title('Training and Validation Loss')\n",
    "plt.xlabel('Epochs')\n",
    "plt.ylabel('Loss')\n",
    "plt.legend()\n",
    "plt.show()"
   ]
  },
  {
   "cell_type": "code",
   "execution_count": 10,
   "id": "4ee45ea8",
   "metadata": {
    "execution": {
     "iopub.execute_input": "2024-04-26T19:53:45.776933Z",
     "iopub.status.busy": "2024-04-26T19:53:45.776536Z",
     "iopub.status.idle": "2024-04-26T19:54:45.295431Z",
     "shell.execute_reply": "2024-04-26T19:54:45.294150Z"
    },
    "papermill": {
     "duration": 59.760665,
     "end_time": "2024-04-26T19:54:45.297891",
     "exception": false,
     "start_time": "2024-04-26T19:53:45.537226",
     "status": "completed"
    },
    "tags": []
   },
   "outputs": [
    {
     "name": "stdout",
     "output_type": "stream",
     "text": [
      "\u001b[1m77/77\u001b[0m \u001b[32m━━━━━━━━━━━━━━━━━━━━\u001b[0m\u001b[37m\u001b[0m \u001b[1m58s\u001b[0m 750ms/step\n"
     ]
    },
    {
     "data": {
      "image/png": "[encoded data removed]",
      "text/plain": [
       "<Figure size 1000x800 with 2 Axes>"
      ]
     },
     "metadata": {},
     "output_type": "display_data"
    }
   ],
   "source": [
    "from sklearn.metrics import confusion_matrix\n",
    "\n",
    "class_names = ['a','b','c','d','e','f','g','h','i','j','k','l','m','n','o','p','q','r','s','t','u','v','w','x','y','z','nothing','space']\n",
    "\n",
    "# Generate predictions for the validation dataset\n",
    "predictions = model.predict(validation_generator)\n",
    "\n",
    "# Convert predictions from probabilities to class labels\n",
    "predicted_labels = np.argmax(predictions, axis=1)\n",
    "\n",
    "# Extract true labels from the validation generator\n",
    "true_labels = validation_generator.classes\n",
    "\n",
    "# Compute confusion matrix\n",
    "conf_matrix = confusion_matrix(true_labels, predicted_labels)\n",
    "\n",
    "# Visualize confusion matrix\n",
    "plt.figure(figsize=(10, 8))\n",
    "plt.imshow(conf_matrix, interpolation='nearest', cmap=plt.cm.Blues)\n",
    "plt.title('Confusion Matrix')\n",
    "plt.colorbar()\n",
    "tick_marks = np.arange(len(class_names))\n",
    "plt.xticks(tick_marks, class_names, rotation=45)\n",
    "plt.yticks(tick_marks, class_names)\n",
    "plt.ylabel('True Label')\n",
    "plt.xlabel('Predicted Label')\n",
    "plt.tight_layout()\n",
    "plt.show()\n"
   ]
  },
  {
   "cell_type": "code",
   "execution_count": 11,
   "id": "8aed0d01",
   "metadata": {
    "execution": {
     "iopub.execute_input": "2024-04-26T19:54:45.876377Z",
     "iopub.status.busy": "2024-04-26T19:54:45.875629Z",
     "iopub.status.idle": "2024-04-26T19:54:45.946837Z",
     "shell.execute_reply": "2024-04-26T19:54:45.945589Z"
    },
    "papermill": {
     "duration": 0.401373,
     "end_time": "2024-04-26T19:54:45.949580",
     "exception": false,
     "start_time": "2024-04-26T19:54:45.548207",
     "status": "completed"
    },
    "tags": []
   },
   "outputs": [],
   "source": [
    "model.save_weights('./model_one_weights.weights.h5')"
   ]
  },
  {
   "cell_type": "markdown",
   "id": "0df7b64e",
   "metadata": {
    "papermill": {
     "duration": 0.268804,
     "end_time": "2024-04-26T19:54:46.464474",
     "exception": false,
     "start_time": "2024-04-26T19:54:46.195670",
     "status": "completed"
    },
    "tags": []
   },
   "source": [
    "# **Model 2 (with data aug):**"
   ]
  },
  {
   "cell_type": "code",
   "execution_count": 12,
   "id": "82f4910a",
   "metadata": {
    "execution": {
     "iopub.execute_input": "2024-04-26T19:54:46.955806Z",
     "iopub.status.busy": "2024-04-26T19:54:46.955362Z",
     "iopub.status.idle": "2024-04-26T19:54:46.966568Z",
     "shell.execute_reply": "2024-04-26T19:54:46.965734Z"
    },
    "papermill": {
     "duration": 0.259654,
     "end_time": "2024-04-26T19:54:46.968710",
     "exception": false,
     "start_time": "2024-04-26T19:54:46.709056",
     "status": "completed"
    },
    "tags": []
   },
   "outputs": [],
   "source": [
    "import random \n",
    "\n",
    "def augment_data(image):\n",
    "    \n",
    "    if tf.random.uniform((),minval=0,maxval=1) <0.05:\n",
    "        image = tf.image.flip_left_right(image) #flip left right\n",
    "        \n",
    "    if tf.random.uniform((),minval=0,maxval=1) <0.05:\n",
    "        image = tf.image.adjust_saturation(image, 0) #make grayscale\n",
    "        \n",
    "    if tf.random.uniform((),minval=0,maxval=1) <0.05:\n",
    "        rand = random.randint(1, 5)\n",
    "        image = tf.image.adjust_saturation(image, 5) #adjusts saturation \n",
    "\n",
    "    if tf.random.uniform((),minval=0,maxval=1) <0.05:\n",
    "        rand = random.uniform(0.01, 0.1)\n",
    "        image = tf.image.adjust_brightness(image, rand) #adjusts brightness\n",
    "\n",
    "    if tf.random.uniform((),minval=0,maxval=1) <0.05:\n",
    "        minx = random.randint(10, 70)\n",
    "        manx = random.randint(80, 100)\n",
    "        tf.image.random_jpeg_quality(image, minx, manx, seed=None) #adjusts jpeg quality\n",
    "\n",
    "    if tf.random.uniform((),minval=0,maxval=1) <0.05:\n",
    "        rand = random.uniform(0.01, 0.05)\n",
    "        image = tf.image.random_hue(image, rand, seed= None) #adjusts hue \n",
    "    \n",
    "    return image"
   ]
  },
  {
   "cell_type": "code",
   "execution_count": 13,
   "id": "4b7c06d4",
   "metadata": {
    "execution": {
     "iopub.execute_input": "2024-04-26T19:54:47.458580Z",
     "iopub.status.busy": "2024-04-26T19:54:47.457856Z",
     "iopub.status.idle": "2024-04-26T19:55:46.191689Z",
     "shell.execute_reply": "2024-04-26T19:55:46.190101Z"
    },
    "papermill": {
     "duration": 58.981026,
     "end_time": "2024-04-26T19:55:46.194478",
     "exception": false,
     "start_time": "2024-04-26T19:54:47.213452",
     "status": "completed"
    },
    "tags": []
   },
   "outputs": [
    {
     "name": "stdout",
     "output_type": "stream",
     "text": [
      "Found 58725 validated image filenames belonging to 29 classes.\n",
      "Found 19575 validated image filenames belonging to 29 classes.\n",
      "Found 8700 validated image filenames belonging to 29 classes.\n"
     ]
    }
   ],
   "source": [
    "img_width, img_height = 64, 64\n",
    "batch_size = 256\n",
    "y_col = 'label'\n",
    "x_col = 'path'\n",
    "no_of_classes = len(data_df[y_col].unique())\n",
    "\n",
    "\n",
    "train_datagen = ImageDataGenerator(rescale = 1/255.0, preprocessing_function=augment_data) #augements data using function we made\n",
    "\n",
    "train_generator = train_datagen.flow_from_dataframe(\n",
    "\tdataframe=x_train,x_col=x_col, y_col=y_col,\n",
    "\ttarget_size=(img_width, img_height),class_mode='categorical', batch_size=batch_size,\n",
    "\tshuffle=False,\n",
    ")\n",
    "\n",
    "validation_datagen = ImageDataGenerator(rescale = 1/255.0)\n",
    "validation_generator = validation_datagen.flow_from_dataframe(\n",
    "\tdataframe=x_test, x_col=x_col, y_col=y_col,\n",
    "\ttarget_size=(img_width, img_height), class_mode='categorical', batch_size=batch_size,\n",
    "\tshuffle=False\n",
    ")\n",
    "\n",
    "holdout_datagen = ImageDataGenerator(rescale = 1/255.0)\n",
    "holdout_generator = holdout_datagen.flow_from_dataframe(\n",
    "\tdataframe=x_holdout, x_col=x_col, y_col=y_col,\n",
    "\ttarget_size=(img_width, img_height), class_mode='categorical', batch_size=batch_size,\n",
    "\tshuffle=False\n",
    ")"
   ]
  },
  {
   "cell_type": "code",
   "execution_count": 14,
   "id": "8d43c207",
   "metadata": {
    "execution": {
     "iopub.execute_input": "2024-04-26T19:55:46.706949Z",
     "iopub.status.busy": "2024-04-26T19:55:46.706536Z",
     "iopub.status.idle": "2024-04-26T19:55:46.882325Z",
     "shell.execute_reply": "2024-04-26T19:55:46.881228Z"
    },
    "papermill": {
     "duration": 0.424846,
     "end_time": "2024-04-26T19:55:46.884626",
     "exception": false,
     "start_time": "2024-04-26T19:55:46.459780",
     "status": "completed"
    },
    "tags": []
   },
   "outputs": [
    {
     "name": "stderr",
     "output_type": "stream",
     "text": [
      "/opt/conda/lib/python3.10/site-packages/keras/src/layers/convolutional/base_conv.py:99: UserWarning: Do not pass an `input_shape`/`input_dim` argument to a layer. When using Sequential models, prefer using an `Input(shape)` object as the first layer in the model instead.\n",
      "  super().__init__(\n"
     ]
    }
   ],
   "source": [
    "aug_model = Sequential()\n",
    "\n",
    "aug_model.add(Conv2D(filters = 32, kernel_size = (5,5),padding = 'Same',activation ='relu', input_shape = (64,64,3)))\n",
    "aug_model.add(MaxPooling2D(pool_size = (2,2), strides = (2,2)))\n",
    "aug_model.add(Dropout(0.3))\n",
    "\n",
    "aug_model.add(Conv2D(filters = 64, kernel_size = (5,5),padding = 'Same',activation ='relu', input_shape = (150,150,3))) # why does input shape change to 150\n",
    "aug_model.add(MaxPooling2D(pool_size = (2,2), strides = (2,2)))\n",
    "aug_model.add(Dropout(0.3))\n",
    "\n",
    "aug_model.add(Conv2D(filters = 64, kernel_size = (5,5),padding = 'Same',activation ='relu', input_shape = (150,150,3)))\n",
    "aug_model.add(MaxPooling2D(pool_size = (2,2), strides = (2,2)))\n",
    "aug_model.add(Dropout(0.3))\n",
    "\n",
    "aug_model.add(Conv2D(filters = 128, kernel_size = (5,5),padding = 'Same',activation ='relu', input_shape = (150,150,3)))\n",
    "aug_model.add(MaxPooling2D(pool_size = (2,2), strides = (2,2)))\n",
    "\n",
    "aug_model.add(Flatten())\n",
    "aug_model.add(Dense(256))\n",
    "aug_model.add(Dense(29, activation = \"softmax\"))"
   ]
  },
  {
   "cell_type": "code",
   "execution_count": 15,
   "id": "897714df",
   "metadata": {
    "execution": {
     "iopub.execute_input": "2024-04-26T19:55:47.374711Z",
     "iopub.status.busy": "2024-04-26T19:55:47.374296Z",
     "iopub.status.idle": "2024-04-26T19:55:47.411851Z",
     "shell.execute_reply": "2024-04-26T19:55:47.410811Z"
    },
    "papermill": {
     "duration": 0.284791,
     "end_time": "2024-04-26T19:55:47.414034",
     "exception": false,
     "start_time": "2024-04-26T19:55:47.129243",
     "status": "completed"
    },
    "tags": []
   },
   "outputs": [
    {
     "data": {
      "text/html": [
       "<pre style=\"white-space:pre;overflow-x:auto;line-height:normal;font-family:Menlo,'DejaVu Sans Mono',consolas,'Courier New',monospace\"><span style=\"font-weight: bold\">Model: \"sequential_1\"</span>\n",
       "</pre>\n"
      ],
      "text/plain": [
       "\u001b[1mModel: \"sequential_1\"\u001b[0m\n"
      ]
     },
     "metadata": {},
     "output_type": "display_data"
    },
    {
     "data": {
      "text/html": [
       "<pre style=\"white-space:pre;overflow-x:auto;line-height:normal;font-family:Menlo,'DejaVu Sans Mono',consolas,'Courier New',monospace\">┏━━━━━━━━━━━━━━━━━━━━━━━━━━━━━━━━━┳━━━━━━━━━━━━━━━━━━━━━━━━┳━━━━━━━━━━━━━━━┓\n",
       "┃<span style=\"font-weight: bold\"> Layer (type)                    </span>┃<span style=\"font-weight: bold\"> Output Shape           </span>┃<span style=\"font-weight: bold\">       Param # </span>┃\n",
       "┡━━━━━━━━━━━━━━━━━━━━━━━━━━━━━━━━━╇━━━━━━━━━━━━━━━━━━━━━━━━╇━━━━━━━━━━━━━━━┩\n",
       "│ conv2d_4 (<span style=\"color: #0087ff; text-decoration-color: #0087ff\">Conv2D</span>)               │ (<span style=\"color: #00d7ff; text-decoration-color: #00d7ff\">None</span>, <span style=\"color: #00af00; text-decoration-color: #00af00\">64</span>, <span style=\"color: #00af00; text-decoration-color: #00af00\">64</span>, <span style=\"color: #00af00; text-decoration-color: #00af00\">32</span>)     │         <span style=\"color: #00af00; text-decoration-color: #00af00\">2,432</span> │\n",
       "├─────────────────────────────────┼────────────────────────┼───────────────┤\n",
       "│ max_pooling2d_4 (<span style=\"color: #0087ff; text-decoration-color: #0087ff\">MaxPooling2D</span>)  │ (<span style=\"color: #00d7ff; text-decoration-color: #00d7ff\">None</span>, <span style=\"color: #00af00; text-decoration-color: #00af00\">32</span>, <span style=\"color: #00af00; text-decoration-color: #00af00\">32</span>, <span style=\"color: #00af00; text-decoration-color: #00af00\">32</span>)     │             <span style=\"color: #00af00; text-decoration-color: #00af00\">0</span> │\n",
       "├─────────────────────────────────┼────────────────────────┼───────────────┤\n",
       "│ dropout_3 (<span style=\"color: #0087ff; text-decoration-color: #0087ff\">Dropout</span>)             │ (<span style=\"color: #00d7ff; text-decoration-color: #00d7ff\">None</span>, <span style=\"color: #00af00; text-decoration-color: #00af00\">32</span>, <span style=\"color: #00af00; text-decoration-color: #00af00\">32</span>, <span style=\"color: #00af00; text-decoration-color: #00af00\">32</span>)     │             <span style=\"color: #00af00; text-decoration-color: #00af00\">0</span> │\n",
       "├─────────────────────────────────┼────────────────────────┼───────────────┤\n",
       "│ conv2d_5 (<span style=\"color: #0087ff; text-decoration-color: #0087ff\">Conv2D</span>)               │ (<span style=\"color: #00d7ff; text-decoration-color: #00d7ff\">None</span>, <span style=\"color: #00af00; text-decoration-color: #00af00\">32</span>, <span style=\"color: #00af00; text-decoration-color: #00af00\">32</span>, <span style=\"color: #00af00; text-decoration-color: #00af00\">64</span>)     │        <span style=\"color: #00af00; text-decoration-color: #00af00\">51,264</span> │\n",
       "├─────────────────────────────────┼────────────────────────┼───────────────┤\n",
       "│ max_pooling2d_5 (<span style=\"color: #0087ff; text-decoration-color: #0087ff\">MaxPooling2D</span>)  │ (<span style=\"color: #00d7ff; text-decoration-color: #00d7ff\">None</span>, <span style=\"color: #00af00; text-decoration-color: #00af00\">16</span>, <span style=\"color: #00af00; text-decoration-color: #00af00\">16</span>, <span style=\"color: #00af00; text-decoration-color: #00af00\">64</span>)     │             <span style=\"color: #00af00; text-decoration-color: #00af00\">0</span> │\n",
       "├─────────────────────────────────┼────────────────────────┼───────────────┤\n",
       "│ dropout_4 (<span style=\"color: #0087ff; text-decoration-color: #0087ff\">Dropout</span>)             │ (<span style=\"color: #00d7ff; text-decoration-color: #00d7ff\">None</span>, <span style=\"color: #00af00; text-decoration-color: #00af00\">16</span>, <span style=\"color: #00af00; text-decoration-color: #00af00\">16</span>, <span style=\"color: #00af00; text-decoration-color: #00af00\">64</span>)     │             <span style=\"color: #00af00; text-decoration-color: #00af00\">0</span> │\n",
       "├─────────────────────────────────┼────────────────────────┼───────────────┤\n",
       "│ conv2d_6 (<span style=\"color: #0087ff; text-decoration-color: #0087ff\">Conv2D</span>)               │ (<span style=\"color: #00d7ff; text-decoration-color: #00d7ff\">None</span>, <span style=\"color: #00af00; text-decoration-color: #00af00\">16</span>, <span style=\"color: #00af00; text-decoration-color: #00af00\">16</span>, <span style=\"color: #00af00; text-decoration-color: #00af00\">64</span>)     │       <span style=\"color: #00af00; text-decoration-color: #00af00\">102,464</span> │\n",
       "├─────────────────────────────────┼────────────────────────┼───────────────┤\n",
       "│ max_pooling2d_6 (<span style=\"color: #0087ff; text-decoration-color: #0087ff\">MaxPooling2D</span>)  │ (<span style=\"color: #00d7ff; text-decoration-color: #00d7ff\">None</span>, <span style=\"color: #00af00; text-decoration-color: #00af00\">8</span>, <span style=\"color: #00af00; text-decoration-color: #00af00\">8</span>, <span style=\"color: #00af00; text-decoration-color: #00af00\">64</span>)       │             <span style=\"color: #00af00; text-decoration-color: #00af00\">0</span> │\n",
       "├─────────────────────────────────┼────────────────────────┼───────────────┤\n",
       "│ dropout_5 (<span style=\"color: #0087ff; text-decoration-color: #0087ff\">Dropout</span>)             │ (<span style=\"color: #00d7ff; text-decoration-color: #00d7ff\">None</span>, <span style=\"color: #00af00; text-decoration-color: #00af00\">8</span>, <span style=\"color: #00af00; text-decoration-color: #00af00\">8</span>, <span style=\"color: #00af00; text-decoration-color: #00af00\">64</span>)       │             <span style=\"color: #00af00; text-decoration-color: #00af00\">0</span> │\n",
       "├─────────────────────────────────┼────────────────────────┼───────────────┤\n",
       "│ conv2d_7 (<span style=\"color: #0087ff; text-decoration-color: #0087ff\">Conv2D</span>)               │ (<span style=\"color: #00d7ff; text-decoration-color: #00d7ff\">None</span>, <span style=\"color: #00af00; text-decoration-color: #00af00\">8</span>, <span style=\"color: #00af00; text-decoration-color: #00af00\">8</span>, <span style=\"color: #00af00; text-decoration-color: #00af00\">128</span>)      │       <span style=\"color: #00af00; text-decoration-color: #00af00\">204,928</span> │\n",
       "├─────────────────────────────────┼────────────────────────┼───────────────┤\n",
       "│ max_pooling2d_7 (<span style=\"color: #0087ff; text-decoration-color: #0087ff\">MaxPooling2D</span>)  │ (<span style=\"color: #00d7ff; text-decoration-color: #00d7ff\">None</span>, <span style=\"color: #00af00; text-decoration-color: #00af00\">4</span>, <span style=\"color: #00af00; text-decoration-color: #00af00\">4</span>, <span style=\"color: #00af00; text-decoration-color: #00af00\">128</span>)      │             <span style=\"color: #00af00; text-decoration-color: #00af00\">0</span> │\n",
       "├─────────────────────────────────┼────────────────────────┼───────────────┤\n",
       "│ flatten_1 (<span style=\"color: #0087ff; text-decoration-color: #0087ff\">Flatten</span>)             │ (<span style=\"color: #00d7ff; text-decoration-color: #00d7ff\">None</span>, <span style=\"color: #00af00; text-decoration-color: #00af00\">2048</span>)           │             <span style=\"color: #00af00; text-decoration-color: #00af00\">0</span> │\n",
       "├─────────────────────────────────┼────────────────────────┼───────────────┤\n",
       "│ dense_2 (<span style=\"color: #0087ff; text-decoration-color: #0087ff\">Dense</span>)                 │ (<span style=\"color: #00d7ff; text-decoration-color: #00d7ff\">None</span>, <span style=\"color: #00af00; text-decoration-color: #00af00\">256</span>)            │       <span style=\"color: #00af00; text-decoration-color: #00af00\">524,544</span> │\n",
       "├─────────────────────────────────┼────────────────────────┼───────────────┤\n",
       "│ dense_3 (<span style=\"color: #0087ff; text-decoration-color: #0087ff\">Dense</span>)                 │ (<span style=\"color: #00d7ff; text-decoration-color: #00d7ff\">None</span>, <span style=\"color: #00af00; text-decoration-color: #00af00\">29</span>)             │         <span style=\"color: #00af00; text-decoration-color: #00af00\">7,453</span> │\n",
       "└─────────────────────────────────┴────────────────────────┴───────────────┘\n",
       "</pre>\n"
      ],
      "text/plain": [
       "┏━━━━━━━━━━━━━━━━━━━━━━━━━━━━━━━━━┳━━━━━━━━━━━━━━━━━━━━━━━━┳━━━━━━━━━━━━━━━┓\n",
       "┃\u001b[1m \u001b[0m\u001b[1mLayer (type)                   \u001b[0m\u001b[1m \u001b[0m┃\u001b[1m \u001b[0m\u001b[1mOutput Shape          \u001b[0m\u001b[1m \u001b[0m┃\u001b[1m \u001b[0m\u001b[1m      Param #\u001b[0m\u001b[1m \u001b[0m┃\n",
       "┡━━━━━━━━━━━━━━━━━━━━━━━━━━━━━━━━━╇━━━━━━━━━━━━━━━━━━━━━━━━╇━━━━━━━━━━━━━━━┩\n",
       "│ conv2d_4 (\u001b[38;5;33mConv2D\u001b[0m)               │ (\u001b[38;5;45mNone\u001b[0m, \u001b[38;5;34m64\u001b[0m, \u001b[38;5;34m64\u001b[0m, \u001b[38;5;34m32\u001b[0m)     │         \u001b[38;5;34m2,432\u001b[0m │\n",
       "├─────────────────────────────────┼────────────────────────┼───────────────┤\n",
       "│ max_pooling2d_4 (\u001b[38;5;33mMaxPooling2D\u001b[0m)  │ (\u001b[38;5;45mNone\u001b[0m, \u001b[38;5;34m32\u001b[0m, \u001b[38;5;34m32\u001b[0m, \u001b[38;5;34m32\u001b[0m)     │             \u001b[38;5;34m0\u001b[0m │\n",
       "├─────────────────────────────────┼────────────────────────┼───────────────┤\n",
       "│ dropout_3 (\u001b[38;5;33mDropout\u001b[0m)             │ (\u001b[38;5;45mNone\u001b[0m, \u001b[38;5;34m32\u001b[0m, \u001b[38;5;34m32\u001b[0m, \u001b[38;5;34m32\u001b[0m)     │             \u001b[38;5;34m0\u001b[0m │\n",
       "├─────────────────────────────────┼────────────────────────┼───────────────┤\n",
       "│ conv2d_5 (\u001b[38;5;33mConv2D\u001b[0m)               │ (\u001b[38;5;45mNone\u001b[0m, \u001b[38;5;34m32\u001b[0m, \u001b[38;5;34m32\u001b[0m, \u001b[38;5;34m64\u001b[0m)     │        \u001b[38;5;34m51,264\u001b[0m │\n",
       "├─────────────────────────────────┼────────────────────────┼───────────────┤\n",
       "│ max_pooling2d_5 (\u001b[38;5;33mMaxPooling2D\u001b[0m)  │ (\u001b[38;5;45mNone\u001b[0m, \u001b[38;5;34m16\u001b[0m, \u001b[38;5;34m16\u001b[0m, \u001b[38;5;34m64\u001b[0m)     │             \u001b[38;5;34m0\u001b[0m │\n",
       "├─────────────────────────────────┼────────────────────────┼───────────────┤\n",
       "│ dropout_4 (\u001b[38;5;33mDropout\u001b[0m)             │ (\u001b[38;5;45mNone\u001b[0m, \u001b[38;5;34m16\u001b[0m, \u001b[38;5;34m16\u001b[0m, \u001b[38;5;34m64\u001b[0m)     │             \u001b[38;5;34m0\u001b[0m │\n",
       "├─────────────────────────────────┼────────────────────────┼───────────────┤\n",
       "│ conv2d_6 (\u001b[38;5;33mConv2D\u001b[0m)               │ (\u001b[38;5;45mNone\u001b[0m, \u001b[38;5;34m16\u001b[0m, \u001b[38;5;34m16\u001b[0m, \u001b[38;5;34m64\u001b[0m)     │       \u001b[38;5;34m102,464\u001b[0m │\n",
       "├─────────────────────────────────┼────────────────────────┼───────────────┤\n",
       "│ max_pooling2d_6 (\u001b[38;5;33mMaxPooling2D\u001b[0m)  │ (\u001b[38;5;45mNone\u001b[0m, \u001b[38;5;34m8\u001b[0m, \u001b[38;5;34m8\u001b[0m, \u001b[38;5;34m64\u001b[0m)       │             \u001b[38;5;34m0\u001b[0m │\n",
       "├─────────────────────────────────┼────────────────────────┼───────────────┤\n",
       "│ dropout_5 (\u001b[38;5;33mDropout\u001b[0m)             │ (\u001b[38;5;45mNone\u001b[0m, \u001b[38;5;34m8\u001b[0m, \u001b[38;5;34m8\u001b[0m, \u001b[38;5;34m64\u001b[0m)       │             \u001b[38;5;34m0\u001b[0m │\n",
       "├─────────────────────────────────┼────────────────────────┼───────────────┤\n",
       "│ conv2d_7 (\u001b[38;5;33mConv2D\u001b[0m)               │ (\u001b[38;5;45mNone\u001b[0m, \u001b[38;5;34m8\u001b[0m, \u001b[38;5;34m8\u001b[0m, \u001b[38;5;34m128\u001b[0m)      │       \u001b[38;5;34m204,928\u001b[0m │\n",
       "├─────────────────────────────────┼────────────────────────┼───────────────┤\n",
       "│ max_pooling2d_7 (\u001b[38;5;33mMaxPooling2D\u001b[0m)  │ (\u001b[38;5;45mNone\u001b[0m, \u001b[38;5;34m4\u001b[0m, \u001b[38;5;34m4\u001b[0m, \u001b[38;5;34m128\u001b[0m)      │             \u001b[38;5;34m0\u001b[0m │\n",
       "├─────────────────────────────────┼────────────────────────┼───────────────┤\n",
       "│ flatten_1 (\u001b[38;5;33mFlatten\u001b[0m)             │ (\u001b[38;5;45mNone\u001b[0m, \u001b[38;5;34m2048\u001b[0m)           │             \u001b[38;5;34m0\u001b[0m │\n",
       "├─────────────────────────────────┼────────────────────────┼───────────────┤\n",
       "│ dense_2 (\u001b[38;5;33mDense\u001b[0m)                 │ (\u001b[38;5;45mNone\u001b[0m, \u001b[38;5;34m256\u001b[0m)            │       \u001b[38;5;34m524,544\u001b[0m │\n",
       "├─────────────────────────────────┼────────────────────────┼───────────────┤\n",
       "│ dense_3 (\u001b[38;5;33mDense\u001b[0m)                 │ (\u001b[38;5;45mNone\u001b[0m, \u001b[38;5;34m29\u001b[0m)             │         \u001b[38;5;34m7,453\u001b[0m │\n",
       "└─────────────────────────────────┴────────────────────────┴───────────────┘\n"
      ]
     },
     "metadata": {},
     "output_type": "display_data"
    },
    {
     "data": {
      "text/html": [
       "<pre style=\"white-space:pre;overflow-x:auto;line-height:normal;font-family:Menlo,'DejaVu Sans Mono',consolas,'Courier New',monospace\"><span style=\"font-weight: bold\"> Total params: </span><span style=\"color: #00af00; text-decoration-color: #00af00\">893,085</span> (3.41 MB)\n",
       "</pre>\n"
      ],
      "text/plain": [
       "\u001b[1m Total params: \u001b[0m\u001b[38;5;34m893,085\u001b[0m (3.41 MB)\n"
      ]
     },
     "metadata": {},
     "output_type": "display_data"
    },
    {
     "data": {
      "text/html": [
       "<pre style=\"white-space:pre;overflow-x:auto;line-height:normal;font-family:Menlo,'DejaVu Sans Mono',consolas,'Courier New',monospace\"><span style=\"font-weight: bold\"> Trainable params: </span><span style=\"color: #00af00; text-decoration-color: #00af00\">893,085</span> (3.41 MB)\n",
       "</pre>\n"
      ],
      "text/plain": [
       "\u001b[1m Trainable params: \u001b[0m\u001b[38;5;34m893,085\u001b[0m (3.41 MB)\n"
      ]
     },
     "metadata": {},
     "output_type": "display_data"
    },
    {
     "data": {
      "text/html": [
       "<pre style=\"white-space:pre;overflow-x:auto;line-height:normal;font-family:Menlo,'DejaVu Sans Mono',consolas,'Courier New',monospace\"><span style=\"font-weight: bold\"> Non-trainable params: </span><span style=\"color: #00af00; text-decoration-color: #00af00\">0</span> (0.00 B)\n",
       "</pre>\n"
      ],
      "text/plain": [
       "\u001b[1m Non-trainable params: \u001b[0m\u001b[38;5;34m0\u001b[0m (0.00 B)\n"
      ]
     },
     "metadata": {},
     "output_type": "display_data"
    }
   ],
   "source": [
    "aug_model.compile(loss='categorical_crossentropy',optimizer=Adam(learning_rate=0.001),metrics=['accuracy'])\n",
    "aug_model.summary()"
   ]
  },
  {
   "cell_type": "code",
   "execution_count": 16,
   "id": "2b61f0ff",
   "metadata": {
    "execution": {
     "iopub.execute_input": "2024-04-26T19:55:47.909752Z",
     "iopub.status.busy": "2024-04-26T19:55:47.909339Z",
     "iopub.status.idle": "2024-04-26T21:42:27.982168Z",
     "shell.execute_reply": "2024-04-26T21:42:27.980628Z"
    },
    "papermill": {
     "duration": 6400.828863,
     "end_time": "2024-04-26T21:42:28.490711",
     "exception": false,
     "start_time": "2024-04-26T19:55:47.661848",
     "status": "completed"
    },
    "tags": []
   },
   "outputs": [
    {
     "name": "stdout",
     "output_type": "stream",
     "text": [
      "Epoch 1/10\n"
     ]
    },
    {
     "name": "stderr",
     "output_type": "stream",
     "text": [
      "/opt/conda/lib/python3.10/site-packages/keras/src/trainers/data_adapters/py_dataset_adapter.py:122: UserWarning: Your `PyDataset` class should call `super().__init__(**kwargs)` in its constructor. `**kwargs` can include `workers`, `use_multiprocessing`, `max_queue_size`. Do not pass these arguments to `fit()`, as they will be ignored.\n",
      "  self._warn_if_super_not_called()\n"
     ]
    },
    {
     "name": "stdout",
     "output_type": "stream",
     "text": [
      "\u001b[1m230/230\u001b[0m \u001b[32m━━━━━━━━━━━━━━━━━━━━\u001b[0m\u001b[37m\u001b[0m \u001b[1m640s\u001b[0m 3s/step - accuracy: 0.1591 - loss: 2.9365 - val_accuracy: 0.8185 - val_loss: 0.6091\n",
      "Epoch 2/10\n",
      "\u001b[1m230/230\u001b[0m \u001b[32m━━━━━━━━━━━━━━━━━━━━\u001b[0m\u001b[37m\u001b[0m \u001b[1m684s\u001b[0m 3s/step - accuracy: 0.7981 - loss: 0.6590 - val_accuracy: 0.9532 - val_loss: 0.1676\n",
      "Epoch 3/10\n",
      "\u001b[1m230/230\u001b[0m \u001b[32m━━━━━━━━━━━━━━━━━━━━\u001b[0m\u001b[37m\u001b[0m \u001b[1m686s\u001b[0m 3s/step - accuracy: 0.9046 - loss: 0.2969 - val_accuracy: 0.9785 - val_loss: 0.0786\n",
      "Epoch 4/10\n",
      "\u001b[1m230/230\u001b[0m \u001b[32m━━━━━━━━━━━━━━━━━━━━\u001b[0m\u001b[37m\u001b[0m \u001b[1m661s\u001b[0m 3s/step - accuracy: 0.9413 - loss: 0.1883 - val_accuracy: 0.9848 - val_loss: 0.0515\n",
      "Epoch 5/10\n",
      "\u001b[1m230/230\u001b[0m \u001b[32m━━━━━━━━━━━━━━━━━━━━\u001b[0m\u001b[37m\u001b[0m \u001b[1m614s\u001b[0m 3s/step - accuracy: 0.9528 - loss: 0.1500 - val_accuracy: 0.9932 - val_loss: 0.0254\n",
      "Epoch 6/10\n",
      "\u001b[1m230/230\u001b[0m \u001b[32m━━━━━━━━━━━━━━━━━━━━\u001b[0m\u001b[37m\u001b[0m \u001b[1m617s\u001b[0m 3s/step - accuracy: 0.9636 - loss: 0.1168 - val_accuracy: 0.9949 - val_loss: 0.0246\n",
      "Epoch 7/10\n",
      "\u001b[1m230/230\u001b[0m \u001b[32m━━━━━━━━━━━━━━━━━━━━\u001b[0m\u001b[37m\u001b[0m \u001b[1m612s\u001b[0m 3s/step - accuracy: 0.9667 - loss: 0.1061 - val_accuracy: 0.9954 - val_loss: 0.0173\n",
      "Epoch 8/10\n",
      "\u001b[1m230/230\u001b[0m \u001b[32m━━━━━━━━━━━━━━━━━━━━\u001b[0m\u001b[37m\u001b[0m \u001b[1m607s\u001b[0m 3s/step - accuracy: 0.9695 - loss: 0.0931 - val_accuracy: 0.9965 - val_loss: 0.0121\n",
      "Epoch 9/10\n",
      "\u001b[1m230/230\u001b[0m \u001b[32m━━━━━━━━━━━━━━━━━━━━\u001b[0m\u001b[37m\u001b[0m \u001b[1m624s\u001b[0m 3s/step - accuracy: 0.9738 - loss: 0.0855 - val_accuracy: 0.9972 - val_loss: 0.0120\n",
      "Epoch 10/10\n",
      "\u001b[1m230/230\u001b[0m \u001b[32m━━━━━━━━━━━━━━━━━━━━\u001b[0m\u001b[37m\u001b[0m \u001b[1m653s\u001b[0m 3s/step - accuracy: 0.9760 - loss: 0.0736 - val_accuracy: 0.9989 - val_loss: 0.0078\n"
     ]
    }
   ],
   "source": [
    "early_stop = EarlyStopping(monitor='val_loss',patience=5)\n",
    "\n",
    "batch_size=128\n",
    "epochs=10\n",
    "\n",
    "aug_history = aug_model.fit(train_generator,\n",
    "                    epochs=epochs,\n",
    "                    verbose=1,\n",
    "                    validation_data=validation_generator,\n",
    "                    callbacks = [early_stop],)"
   ]
  },
  {
   "cell_type": "code",
   "execution_count": 17,
   "id": "5ef16e9c",
   "metadata": {
    "execution": {
     "iopub.execute_input": "2024-04-26T21:42:29.611688Z",
     "iopub.status.busy": "2024-04-26T21:42:29.611265Z",
     "iopub.status.idle": "2024-04-26T21:42:29.939192Z",
     "shell.execute_reply": "2024-04-26T21:42:29.937289Z"
    },
    "papermill": {
     "duration": 0.834786,
     "end_time": "2024-04-26T21:42:29.942012",
     "exception": false,
     "start_time": "2024-04-26T21:42:29.107226",
     "status": "completed"
    },
    "tags": []
   },
   "outputs": [
    {
     "data": {
      "image/png": "[encoded data removed]",
      "text/plain": [
       "<Figure size 640x480 with 1 Axes>"
      ]
     },
     "metadata": {},
     "output_type": "display_data"
    }
   ],
   "source": [
    "#make convergence plot\n",
    "\n",
    "plt.plot(aug_history.history['loss'], label='Training Loss')\n",
    "plt.plot(aug_history.history['val_loss'], label='Validation Loss')\n",
    "plt.title('Training and Validation Loss')\n",
    "plt.xlabel('Epochs')\n",
    "plt.ylabel('Loss')\n",
    "plt.legend()\n",
    "plt.show()"
   ]
  },
  {
   "cell_type": "code",
   "execution_count": 18,
   "id": "b7629a7e",
   "metadata": {
    "execution": {
     "iopub.execute_input": "2024-04-26T21:42:30.945265Z",
     "iopub.status.busy": "2024-04-26T21:42:30.943990Z",
     "iopub.status.idle": "2024-04-26T21:43:34.022868Z",
     "shell.execute_reply": "2024-04-26T21:43:34.021425Z"
    },
    "papermill": {
     "duration": 63.582708,
     "end_time": "2024-04-26T21:43:34.025591",
     "exception": false,
     "start_time": "2024-04-26T21:42:30.442883",
     "status": "completed"
    },
    "tags": []
   },
   "outputs": [
    {
     "name": "stdout",
     "output_type": "stream",
     "text": [
      "\u001b[1m77/77\u001b[0m \u001b[32m━━━━━━━━━━━━━━━━━━━━\u001b[0m\u001b[37m\u001b[0m \u001b[1m62s\u001b[0m 794ms/step\n"
     ]
    },
    {
     "data": {
      "image/png": "[encoded data removed]",
      "text/plain": [
       "<Figure size 1000x800 with 2 Axes>"
      ]
     },
     "metadata": {},
     "output_type": "display_data"
    }
   ],
   "source": [
    "class_names = ['a','b','c','d','e','f','g','h','i','j','k','l','m','n','o','p','q','r','s','t','u','v','w','x','y','z','nothing','space']\n",
    "\n",
    "# Generate predictions for the validation dataset\n",
    "predictions = aug_model.predict(validation_generator)\n",
    "\n",
    "# Convert predictions from probabilities to class labels\n",
    "predicted_labels = np.argmax(predictions, axis=1)\n",
    "\n",
    "# Extract true labels from the validation generator\n",
    "true_labels = validation_generator.classes\n",
    "\n",
    "# Compute confusion matrix\n",
    "conf_matrix = confusion_matrix(true_labels, predicted_labels)\n",
    "\n",
    "# Visualize confusion matrix\n",
    "plt.figure(figsize=(10, 8))\n",
    "plt.imshow(conf_matrix, interpolation='nearest', cmap=plt.cm.Blues)\n",
    "plt.title('Confusion Matrix')\n",
    "plt.colorbar()\n",
    "tick_marks = np.arange(len(class_names))\n",
    "plt.xticks(tick_marks, class_names, rotation=45)\n",
    "plt.yticks(tick_marks, class_names)\n",
    "plt.ylabel('True Label')\n",
    "plt.xlabel('Predicted Label')\n",
    "plt.tight_layout()\n",
    "plt.show()\n",
    "\n"
   ]
  },
  {
   "cell_type": "code",
   "execution_count": 19,
   "id": "df41523e",
   "metadata": {
    "execution": {
     "iopub.execute_input": "2024-04-26T21:43:35.066727Z",
     "iopub.status.busy": "2024-04-26T21:43:35.066281Z",
     "iopub.status.idle": "2024-04-26T21:43:35.122958Z",
     "shell.execute_reply": "2024-04-26T21:43:35.121890Z"
    },
    "papermill": {
     "duration": 0.578355,
     "end_time": "2024-04-26T21:43:35.125928",
     "exception": false,
     "start_time": "2024-04-26T21:43:34.547573",
     "status": "completed"
    },
    "tags": []
   },
   "outputs": [],
   "source": [
    "aug_model.save_weights('./aug_model_weights.weights.h5')"
   ]
  },
  {
   "cell_type": "markdown",
   "id": "c3fae3be",
   "metadata": {
    "papermill": {
     "duration": 0.515369,
     "end_time": "2024-04-26T21:43:36.277431",
     "exception": false,
     "start_time": "2024-04-26T21:43:35.762062",
     "status": "completed"
    },
    "tags": []
   },
   "source": [
    "# **Old Archieve:**"
   ]
  },
  {
   "cell_type": "code",
   "execution_count": 20,
   "id": "d61d170a",
   "metadata": {
    "execution": {
     "iopub.execute_input": "2024-04-26T21:43:37.363239Z",
     "iopub.status.busy": "2024-04-26T21:43:37.362732Z",
     "iopub.status.idle": "2024-04-26T21:43:37.369310Z",
     "shell.execute_reply": "2024-04-26T21:43:37.367938Z"
    },
    "papermill": {
     "duration": 0.536032,
     "end_time": "2024-04-26T21:43:37.372111",
     "exception": false,
     "start_time": "2024-04-26T21:43:36.836079",
     "status": "completed"
    },
    "tags": []
   },
   "outputs": [],
   "source": [
    "# model = Sequential()\n",
    "\n",
    "# model.add(Conv2D(filters = 32, kernel_size = (5,5),padding = 'Same',activation ='relu', input_shape = (64,64,3)))\n",
    "# model.add(MaxPooling2D(pool_size = (2,2), strides = (2,2)))\n",
    "# model.add(Dropout(0.3))\n",
    "\n",
    "# model.add(Conv2D(filters = 64, kernel_size = (5,5),padding = 'Same',activation ='relu', input_shape = (150,150,3))) # why does input shape change to 150\n",
    "# model.add(MaxPooling2D(pool_size = (2,2), strides = (2,2)))\n",
    "# model.add(Dropout(0.3))\n",
    "\n",
    "# model.add(Conv2D(filters = 64, kernel_size = (5,5),padding = 'Same',activation ='relu', input_shape = (150,150,3)))\n",
    "# model.add(MaxPooling2D(pool_size = (2,2), strides = (2,2)))\n",
    "# model.add(Dropout(0.3))\n",
    "\n",
    "# model.add(Conv2D(filters = 128, kernel_size = (5,5),padding = 'Same',activation ='relu', input_shape = (150,150,3)))\n",
    "# model.add(MaxPooling2D(pool_size = (2,2), strides = (2,2)))\n",
    "\n",
    "# model.add(Flatten())\n",
    "# model.add(Dense(256))\n",
    "# model.add(Dense(29, activation = \"softmax\"))"
   ]
  },
  {
   "cell_type": "code",
   "execution_count": 21,
   "id": "b09aa177",
   "metadata": {
    "execution": {
     "iopub.execute_input": "2024-04-26T21:43:38.422855Z",
     "iopub.status.busy": "2024-04-26T21:43:38.422060Z",
     "iopub.status.idle": "2024-04-26T21:43:38.427860Z",
     "shell.execute_reply": "2024-04-26T21:43:38.426157Z"
    },
    "papermill": {
     "duration": 0.529846,
     "end_time": "2024-04-26T21:43:38.431599",
     "exception": false,
     "start_time": "2024-04-26T21:43:37.901753",
     "status": "completed"
    },
    "tags": []
   },
   "outputs": [],
   "source": [
    "# model.compile(loss='categorical_crossentropy',optimizer=Adam(learning_rate=0.001),metrics=['accuracy'])\n",
    "# model.summary()"
   ]
  },
  {
   "cell_type": "code",
   "execution_count": 22,
   "id": "487d6618",
   "metadata": {
    "execution": {
     "iopub.execute_input": "2024-04-26T21:43:39.467693Z",
     "iopub.status.busy": "2024-04-26T21:43:39.467294Z",
     "iopub.status.idle": "2024-04-26T21:43:39.472228Z",
     "shell.execute_reply": "2024-04-26T21:43:39.470998Z"
    },
    "papermill": {
     "duration": 0.522439,
     "end_time": "2024-04-26T21:43:39.474796",
     "exception": false,
     "start_time": "2024-04-26T21:43:38.952357",
     "status": "completed"
    },
    "tags": []
   },
   "outputs": [],
   "source": [
    "# early_stop = EarlyStopping(monitor='val_loss',patience=5)\n",
    "\n",
    "# batch_size=128\n",
    "# epochs=1\n",
    "\n",
    "# history = model.fit(train_generator,\n",
    "#                     epochs=epochs,\n",
    "#                     verbose=1,\n",
    "#                     validation_data=validation_generator,\n",
    "#                     callbacks = [early_stop],\n",
    "#                     validation_freq=5)"
   ]
  },
  {
   "cell_type": "code",
   "execution_count": 23,
   "id": "38db1014",
   "metadata": {
    "execution": {
     "iopub.execute_input": "2024-04-26T21:43:40.635725Z",
     "iopub.status.busy": "2024-04-26T21:43:40.635033Z",
     "iopub.status.idle": "2024-04-26T21:43:40.641938Z",
     "shell.execute_reply": "2024-04-26T21:43:40.640291Z"
    },
    "papermill": {
     "duration": 0.530789,
     "end_time": "2024-04-26T21:43:40.644757",
     "exception": false,
     "start_time": "2024-04-26T21:43:40.113968",
     "status": "completed"
    },
    "tags": []
   },
   "outputs": [],
   "source": [
    "# history.history['loss']"
   ]
  },
  {
   "cell_type": "code",
   "execution_count": 24,
   "id": "08d1b00c",
   "metadata": {
    "execution": {
     "iopub.execute_input": "2024-04-26T21:43:41.687314Z",
     "iopub.status.busy": "2024-04-26T21:43:41.686429Z",
     "iopub.status.idle": "2024-04-26T21:43:41.691294Z",
     "shell.execute_reply": "2024-04-26T21:43:41.690194Z"
    },
    "papermill": {
     "duration": 0.532802,
     "end_time": "2024-04-26T21:43:41.694457",
     "exception": false,
     "start_time": "2024-04-26T21:43:41.161655",
     "status": "completed"
    },
    "tags": []
   },
   "outputs": [],
   "source": [
    "# plt.plot(history.history['loss'], label='Training Loss')\n",
    "# plt.plot(history.history['val_loss'], label='Validation Loss')\n",
    "# plt.title('Training and Validation Loss')\n",
    "# plt.xlabel('Epochs')\n",
    "# plt.ylabel('Loss')\n",
    "# plt.legend()\n",
    "# plt.show()"
   ]
  },
  {
   "cell_type": "markdown",
   "id": "f3506d76",
   "metadata": {
    "papermill": {
     "duration": 0.524807,
     "end_time": "2024-04-26T21:43:42.741705",
     "exception": false,
     "start_time": "2024-04-26T21:43:42.216898",
     "status": "completed"
    },
    "tags": []
   },
   "source": [
    "# **Using the Model (testing)**"
   ]
  },
  {
   "cell_type": "code",
   "execution_count": 25,
   "id": "13457439",
   "metadata": {
    "execution": {
     "iopub.execute_input": "2024-04-26T21:43:43.813084Z",
     "iopub.status.busy": "2024-04-26T21:43:43.810561Z",
     "iopub.status.idle": "2024-04-26T21:43:43.822510Z",
     "shell.execute_reply": "2024-04-26T21:43:43.819729Z"
    },
    "papermill": {
     "duration": 0.566337,
     "end_time": "2024-04-26T21:43:43.825974",
     "exception": false,
     "start_time": "2024-04-26T21:43:43.259637",
     "status": "completed"
    },
    "tags": []
   },
   "outputs": [],
   "source": [
    "def idx_to_letter(idx):\n",
    "    letters = 'abcdefghijklmnopqrstuvwxyz'\n",
    "    idx = idx[0]\n",
    "    if 0 <= idx < len(letters):\n",
    "        return letters[idx]\n",
    "    if idx == 26:\n",
    "        return 'nothing'\n",
    "    if idx == 27:\n",
    "        return '(space)'"
   ]
  },
  {
   "cell_type": "code",
   "execution_count": 26,
   "id": "0a24e3ba",
   "metadata": {
    "execution": {
     "iopub.execute_input": "2024-04-26T21:43:44.982261Z",
     "iopub.status.busy": "2024-04-26T21:43:44.981707Z",
     "iopub.status.idle": "2024-04-26T21:43:44.987303Z",
     "shell.execute_reply": "2024-04-26T21:43:44.985676Z"
    },
    "papermill": {
     "duration": 0.646194,
     "end_time": "2024-04-26T21:43:44.990038",
     "exception": false,
     "start_time": "2024-04-26T21:43:44.343844",
     "status": "completed"
    },
    "tags": []
   },
   "outputs": [],
   "source": [
    "# prediction = model.predict(input_data)\n",
    "# print(prediction)\n",
    "\n",
    "# classes = np.argmax(prediction, axis = 1)\n",
    "# print(idx_to_letter(classes))"
   ]
  },
  {
   "cell_type": "markdown",
   "id": "2800f893",
   "metadata": {
    "papermill": {
     "duration": 0.525896,
     "end_time": "2024-04-26T21:43:46.039912",
     "exception": false,
     "start_time": "2024-04-26T21:43:45.514016",
     "status": "completed"
    },
    "tags": []
   },
   "source": [
    "# **Saving the Model Weights**\n",
    "\n",
    "https://www.tensorflow.org/tutorials/keras/save_and_load#:~:text=To%20save%20weights%20manually%2C%20use,Save%20and%20load%20models%20guide."
   ]
  },
  {
   "cell_type": "code",
   "execution_count": 27,
   "id": "ed05fd21",
   "metadata": {
    "execution": {
     "iopub.execute_input": "2024-04-26T21:43:47.133167Z",
     "iopub.status.busy": "2024-04-26T21:43:47.132204Z",
     "iopub.status.idle": "2024-04-26T21:43:47.137185Z",
     "shell.execute_reply": "2024-04-26T21:43:47.136082Z"
    },
    "papermill": {
     "duration": 0.540552,
     "end_time": "2024-04-26T21:43:47.140121",
     "exception": false,
     "start_time": "2024-04-26T21:43:46.599569",
     "status": "completed"
    },
    "tags": []
   },
   "outputs": [],
   "source": [
    "# pip install pyyaml h5py "
   ]
  },
  {
   "cell_type": "code",
   "execution_count": 28,
   "id": "c8091cbd",
   "metadata": {
    "execution": {
     "iopub.execute_input": "2024-04-26T21:43:48.193304Z",
     "iopub.status.busy": "2024-04-26T21:43:48.192503Z",
     "iopub.status.idle": "2024-04-26T21:43:48.196774Z",
     "shell.execute_reply": "2024-04-26T21:43:48.195911Z"
    },
    "papermill": {
     "duration": 0.538327,
     "end_time": "2024-04-26T21:43:48.199079",
     "exception": false,
     "start_time": "2024-04-26T21:43:47.660752",
     "status": "completed"
    },
    "tags": []
   },
   "outputs": [],
   "source": [
    "# model.save_weights('./weights.weights.h5')"
   ]
  },
  {
   "cell_type": "markdown",
   "id": "631de022",
   "metadata": {
    "papermill": {
     "duration": 0.649389,
     "end_time": "2024-04-26T21:43:49.371755",
     "exception": false,
     "start_time": "2024-04-26T21:43:48.722366",
     "status": "completed"
    },
    "tags": []
   },
   "source": [
    "# in new script:"
   ]
  },
  {
   "cell_type": "code",
   "execution_count": 29,
   "id": "71a56fba",
   "metadata": {
    "execution": {
     "iopub.execute_input": "2024-04-26T21:43:50.405664Z",
     "iopub.status.busy": "2024-04-26T21:43:50.404633Z",
     "iopub.status.idle": "2024-04-26T21:43:50.411977Z",
     "shell.execute_reply": "2024-04-26T21:43:50.410474Z"
    },
    "papermill": {
     "duration": 0.52623,
     "end_time": "2024-04-26T21:43:50.414961",
     "exception": false,
     "start_time": "2024-04-26T21:43:49.888731",
     "status": "completed"
    },
    "tags": []
   },
   "outputs": [],
   "source": [
    "# def make_cool_model():\n",
    "#     model = Sequential()\n",
    "\n",
    "#     model.add(Conv2D(filters = 32, kernel_size = (5,5),padding = 'Same',activation ='relu', input_shape = (64,64,3)))\n",
    "#     model.add(MaxPooling2D(pool_size = (2,2), strides = (2,2)))\n",
    "#     model.add(Dropout(0.3))\n",
    "\n",
    "#     model.add(Conv2D(filters = 64, kernel_size = (5,5),padding = 'Same',activation ='relu', input_shape = (150,150,3))) # why does input shape change to 150\n",
    "#     model.add(MaxPooling2D(pool_size = (2,2), strides = (2,2)))\n",
    "#     model.add(Dropout(0.3))\n",
    "\n",
    "#     model.add(Conv2D(filters = 64, kernel_size = (5,5),padding = 'Same',activation ='relu', input_shape = (150,150,3)))\n",
    "#     model.add(MaxPooling2D(pool_size = (2,2), strides = (2,2)))\n",
    "#     model.add(Dropout(0.3))\n",
    "\n",
    "#     model.add(Conv2D(filters = 128, kernel_size = (5,5),padding = 'Same',activation ='relu', input_shape = (150,150,3)))\n",
    "#     model.add(MaxPooling2D(pool_size = (2,2), strides = (2,2)))\n",
    "\n",
    "#     model.add(Flatten())\n",
    "#     model.add(Dense(256))\n",
    "#     # model.add(Activation('relu'))\n",
    "#     model.add(Dense(29, activation = \"softmax\"))\n",
    "#     model.compile(loss='categorical_crossentropy',optimizer=Adam(learning_rate=0.001),metrics=['accuracy'])\n",
    "#     return model"
   ]
  },
  {
   "cell_type": "code",
   "execution_count": 30,
   "id": "b322838d",
   "metadata": {
    "execution": {
     "iopub.execute_input": "2024-04-26T21:43:51.464388Z",
     "iopub.status.busy": "2024-04-26T21:43:51.463944Z",
     "iopub.status.idle": "2024-04-26T21:43:51.468290Z",
     "shell.execute_reply": "2024-04-26T21:43:51.467203Z"
    },
    "papermill": {
     "duration": 0.529097,
     "end_time": "2024-04-26T21:43:51.470937",
     "exception": false,
     "start_time": "2024-04-26T21:43:50.941840",
     "status": "completed"
    },
    "tags": []
   },
   "outputs": [],
   "source": [
    "# new_model = make_cool_model()\n",
    "# new_model.load_weights('./weights.weights.h5')"
   ]
  },
  {
   "cell_type": "code",
   "execution_count": 31,
   "id": "46c81380",
   "metadata": {
    "execution": {
     "iopub.execute_input": "2024-04-26T21:43:52.523520Z",
     "iopub.status.busy": "2024-04-26T21:43:52.523006Z",
     "iopub.status.idle": "2024-04-26T21:43:52.529207Z",
     "shell.execute_reply": "2024-04-26T21:43:52.527900Z"
    },
    "papermill": {
     "duration": 0.540961,
     "end_time": "2024-04-26T21:43:52.532355",
     "exception": false,
     "start_time": "2024-04-26T21:43:51.991394",
     "status": "completed"
    },
    "tags": []
   },
   "outputs": [],
   "source": [
    "# image_path = '/kaggle/input/asl-alphabet/asl_alphabet_test/asl_alphabet_test/C_test.jpg'\n",
    "# image = keras.utils.load_img(image_path, target_size = (64,64))\n",
    "# input_data = keras.utils.img_to_array(image)\n",
    "# input_data = np.expand_dims(input_data, axis=0)\n",
    "# prediction = new_model.predict(input_data)\n",
    "\n",
    "# classes = np.argmax(prediction, axis = 1)\n",
    "# print(idx_to_letter(classes))"
   ]
  }
 ],
 "metadata": {
  "kaggle": {
   "accelerator": "none",
   "dataSources": [
    {
     "datasetId": 23079,
     "sourceId": 29550,
     "sourceType": "datasetVersion"
    }
   ],
   "dockerImageVersionId": 30673,
   "isGpuEnabled": false,
   "isInternetEnabled": true,
   "language": "python",
   "sourceType": "notebook"
  },
  "kernelspec": {
   "display_name": "Python 3",
   "language": "python",
   "name": "python3"
  },
  "language_info": {
   "codemirror_mode": {
    "name": "ipython",
    "version": 3
   },
   "file_extension": ".py",
   "mimetype": "text/x-python",
   "name": "python",
   "nbconvert_exporter": "python",
   "pygments_lexer": "ipython3",
   "version": "3.10.13"
  },
  "papermill": {
   "default_parameters": {},
   "duration": 13086.700837,
   "end_time": "2024-04-26T21:43:55.651389",
   "environment_variables": {},
   "exception": null,
   "input_path": "__notebook__.ipynb",
   "output_path": "__notebook__.ipynb",
   "parameters": {},
   "start_time": "2024-04-26T18:05:48.950552",
   "version": "2.5.0"
  }
 },
 "nbformat": 4,
 "nbformat_minor": 5
}
